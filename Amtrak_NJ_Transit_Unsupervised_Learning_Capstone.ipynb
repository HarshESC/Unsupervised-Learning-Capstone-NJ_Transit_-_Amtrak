{
  "nbformat": 4,
  "nbformat_minor": 0,
  "metadata": {
    "colab": {
      "name": "Amtrak/NJ Transit Unsupervised Learning Capstone",
      "provenance": [],
      "collapsed_sections": [],
      "authorship_tag": "ABX9TyNeLoD76ABGIEactj7ChksM",
      "include_colab_link": true
    },
    "kernelspec": {
      "name": "python3",
      "display_name": "Python 3"
    },
    "language_info": {
      "name": "python"
    }
  },
  "cells": [
    {
      "cell_type": "markdown",
      "metadata": {
        "id": "view-in-github",
        "colab_type": "text"
      },
      "source": [
        "<a href=\"https://colab.research.google.com/github/HarshESC/Unsupervised-Learning-Capstone-NJ_Transit_-_Amtrak/blob/main/Amtrak_NJ_Transit_Unsupervised_Learning_Capstone.ipynb\" target=\"_parent\"><img src=\"https://colab.research.google.com/assets/colab-badge.svg\" alt=\"Open In Colab\"/></a>"
      ]
    },
    {
      "cell_type": "markdown",
      "metadata": {
        "id": "7ZdTQS-37Yzd"
      },
      "source": [
        "### INTRODUCTION:\n",
        "NJ Transit is the second largest commuter rail network in the United States by ridership; it spans New Jersey and connects the state to New York City. On the Northeast Corridor, the busiest passenger rail line in the United States, Amtrak also operates passenger rail service; together, NJ Transit and Amtrak operate nearly 750 trains across the NJ Transit rail network.\n",
        "\n",
        "With serving over 300,000 riders on the average weekday, no granular, trip-level performance data is publicly available for the NJ Transit rail network or Amtrak. This datasets aims to publicly provide such data.\n",
        "The churn rate helps determine whether customers tend to stay with the company.\n",
        "\n",
        "For example if a company has 25% churn rate then the average customer lifetime is 4 years; similarly a company with a churn rate of 50%, has an average customer lifetime of 2 years. It is estimated that 75 percent of the 17 to 20 million subscribers signing up with a new wireless carrier every year are coming from another wireless provider, which means they are churners.\n",
        "\n",
        "In this analysis, we will be exploring the rate at which customers churn using a series of Machine Learning Algorithms. I will be using two techniques, Select K Best and Principal Component Analysis (PCA) in order to pick the best features that help predict the churn rate.\n",
        "\n",
        "Question:\n",
        "Which machine learning algorithm can most accuracy can help the Telecommunication companies predict a churn rate?\n"
      ]
    },
    {
      "cell_type": "markdown",
      "metadata": {
        "id": "QWSvCWp3Sri9"
      },
      "source": [
        "### RESEARCH QUESTION:  "
      ]
    },
    {
      "cell_type": "markdown",
      "metadata": {
        "id": "uTe3p3iTSJtP"
      },
      "source": [
        "1. Using PCA and K-means to do the clustering (visualizations and many clusters, justify using silhouette scores)\n",
        "2. For PCA/K-means (K>= 4), draw the bar graphs to answer the following questions:\n",
        "    a. Which cluster contains the most train delay on Friday?\n",
        "    b. Which cluster contains the most train delays for the rush hour in the weekday?\n",
        "3. Using T-sne and GMM to do the clustering (visualizations and many clusters, justify using silhouette scores)\n",
        "4. For T-sne/GMM (K>= 4), draw the bar graphs to answer the following questions:\n",
        "    a. Which cluster contains the most train delay on Friday?\n",
        "    b. Which cluster contains the most train delays for the rush hour in the weekday?\n",
        "5. Write up the comparisons analysis and conclusions.\n"
      ]
    },
    {
      "cell_type": "markdown",
      "metadata": {
        "id": "3hqEwidUSWFd"
      },
      "source": [
        "### Let's Look at our Data"
      ]
    },
    {
      "cell_type": "code",
      "metadata": {
        "id": "ZrneZpMnR9Te",
        "colab": {
          "base_uri": "https://localhost:8080/"
        },
        "outputId": "8f0d6f42-eb40-4885-cca0-cadfaa9518b7"
      },
      "source": [
        "import pandas as pd\n",
        "import numpy as np\n",
        "from scipy import stats\n",
        "import matplotlib.pyplot as plt\n",
        "import seaborn as sns\n",
        "from scipy.stats import pearsonr\n",
        "from scipy.stats import normaltest\n",
        "from sklearn.preprocessing import StandardScaler\n",
        "\n",
        "from sklearn.decomposition import PCA\n",
        "from sklearn.manifold import TSNE\n",
        "import time\n",
        "\n",
        "import warnings\n",
        "warnings.filterwarnings('ignore')\n",
        "\n",
        "\n",
        "\n",
        "from google.colab import drive \n",
        "drive.mount('/content/gdrive')\n",
        "import os\n",
        "os.environ['KAGGLE_CONFIG_DIR'] = \"/content/gdrive/\"\n",
        "%cd \"/content/gdrive/My Drive/Capstone 3\"\n",
        "\n",
        "from sklearn.cluster import KMeans, MiniBatchKMeans\n",
        "from sklearn.cluster import AgglomerativeClustering\n",
        "from sklearn.cluster import DBSCAN\n",
        "from sklearn.neighbors import NearestNeighbors\n",
        "from collections import Counter, defaultdict\n",
        "from sklearn import metrics\n"
      ],
      "execution_count": 1,
      "outputs": [
        {
          "output_type": "stream",
          "name": "stdout",
          "text": [
            "Mounted at /content/gdrive\n",
            "/content/gdrive/My Drive/Capstone 3\n"
          ]
        }
      ]
    },
    {
      "cell_type": "code",
      "metadata": {
        "colab": {
          "base_uri": "https://localhost:8080/",
          "height": 285
        },
        "id": "OnT1MO2yUxRE",
        "outputId": "eb18c0f3-6a0d-4da3-a565-deae38093f5e"
      },
      "source": [
        "df = pd.read_csv('train.csv')\n",
        "df.head()"
      ],
      "execution_count": 2,
      "outputs": [
        {
          "output_type": "execute_result",
          "data": {
            "text/html": [
              "<div>\n",
              "<style scoped>\n",
              "    .dataframe tbody tr th:only-of-type {\n",
              "        vertical-align: middle;\n",
              "    }\n",
              "\n",
              "    .dataframe tbody tr th {\n",
              "        vertical-align: top;\n",
              "    }\n",
              "\n",
              "    .dataframe thead th {\n",
              "        text-align: right;\n",
              "    }\n",
              "</style>\n",
              "<table border=\"1\" class=\"dataframe\">\n",
              "  <thead>\n",
              "    <tr style=\"text-align: right;\">\n",
              "      <th></th>\n",
              "      <th>dateID</th>\n",
              "      <th>date</th>\n",
              "      <th>DayOfWeekID</th>\n",
              "      <th>DayOfWeek</th>\n",
              "      <th>isnumber</th>\n",
              "      <th>train_id</th>\n",
              "      <th>stop_sequence</th>\n",
              "      <th>from_id</th>\n",
              "      <th>from</th>\n",
              "      <th>to_id</th>\n",
              "      <th>to</th>\n",
              "      <th>rush_hour</th>\n",
              "      <th>scheduled_time</th>\n",
              "      <th>actual_time</th>\n",
              "      <th>is_Delayed_id</th>\n",
              "      <th>is_Delayed</th>\n",
              "      <th>delay_minutes</th>\n",
              "      <th>statusID</th>\n",
              "      <th>status</th>\n",
              "      <th>lineID</th>\n",
              "      <th>line</th>\n",
              "      <th>typeID</th>\n",
              "      <th>type</th>\n",
              "    </tr>\n",
              "  </thead>\n",
              "  <tbody>\n",
              "    <tr>\n",
              "      <th>0</th>\n",
              "      <td>1</td>\n",
              "      <td>5/1/2020</td>\n",
              "      <td>6</td>\n",
              "      <td>Friday</td>\n",
              "      <td>True</td>\n",
              "      <td>5543</td>\n",
              "      <td>1.0</td>\n",
              "      <td>107</td>\n",
              "      <td>Newark Penn Station</td>\n",
              "      <td>107</td>\n",
              "      <td>Newark Penn Station</td>\n",
              "      <td>0</td>\n",
              "      <td>23:38</td>\n",
              "      <td>23:40</td>\n",
              "      <td>1</td>\n",
              "      <td>yes</td>\n",
              "      <td>2.150000</td>\n",
              "      <td>1</td>\n",
              "      <td>departed</td>\n",
              "      <td>1</td>\n",
              "      <td>Raritan Valley</td>\n",
              "      <td>1</td>\n",
              "      <td>NJ Transit</td>\n",
              "    </tr>\n",
              "    <tr>\n",
              "      <th>1</th>\n",
              "      <td>1</td>\n",
              "      <td>5/1/2020</td>\n",
              "      <td>6</td>\n",
              "      <td>Friday</td>\n",
              "      <td>True</td>\n",
              "      <td>5543</td>\n",
              "      <td>2.0</td>\n",
              "      <td>107</td>\n",
              "      <td>Newark Penn Station</td>\n",
              "      <td>38105</td>\n",
              "      <td>Union</td>\n",
              "      <td>0</td>\n",
              "      <td>23:47</td>\n",
              "      <td>23:47</td>\n",
              "      <td>1</td>\n",
              "      <td>yes</td>\n",
              "      <td>0.016667</td>\n",
              "      <td>1</td>\n",
              "      <td>departed</td>\n",
              "      <td>1</td>\n",
              "      <td>Raritan Valley</td>\n",
              "      <td>1</td>\n",
              "      <td>NJ Transit</td>\n",
              "    </tr>\n",
              "    <tr>\n",
              "      <th>2</th>\n",
              "      <td>1</td>\n",
              "      <td>5/1/2020</td>\n",
              "      <td>6</td>\n",
              "      <td>Friday</td>\n",
              "      <td>True</td>\n",
              "      <td>5543</td>\n",
              "      <td>3.0</td>\n",
              "      <td>38105</td>\n",
              "      <td>Union</td>\n",
              "      <td>31</td>\n",
              "      <td>Roselle Park</td>\n",
              "      <td>0</td>\n",
              "      <td>23:50</td>\n",
              "      <td>23:51</td>\n",
              "      <td>1</td>\n",
              "      <td>yes</td>\n",
              "      <td>1.066667</td>\n",
              "      <td>1</td>\n",
              "      <td>departed</td>\n",
              "      <td>1</td>\n",
              "      <td>Raritan Valley</td>\n",
              "      <td>1</td>\n",
              "      <td>NJ Transit</td>\n",
              "    </tr>\n",
              "    <tr>\n",
              "      <th>3</th>\n",
              "      <td>1</td>\n",
              "      <td>5/1/2020</td>\n",
              "      <td>6</td>\n",
              "      <td>Friday</td>\n",
              "      <td>True</td>\n",
              "      <td>5543</td>\n",
              "      <td>4.0</td>\n",
              "      <td>31</td>\n",
              "      <td>Roselle Park</td>\n",
              "      <td>32</td>\n",
              "      <td>Cranford</td>\n",
              "      <td>0</td>\n",
              "      <td>23:55</td>\n",
              "      <td>23:55</td>\n",
              "      <td>1</td>\n",
              "      <td>yes</td>\n",
              "      <td>0.516667</td>\n",
              "      <td>1</td>\n",
              "      <td>departed</td>\n",
              "      <td>1</td>\n",
              "      <td>Raritan Valley</td>\n",
              "      <td>1</td>\n",
              "      <td>NJ Transit</td>\n",
              "    </tr>\n",
              "    <tr>\n",
              "      <th>4</th>\n",
              "      <td>1</td>\n",
              "      <td>5/1/2020</td>\n",
              "      <td>6</td>\n",
              "      <td>Friday</td>\n",
              "      <td>True</td>\n",
              "      <td>5543</td>\n",
              "      <td>5.0</td>\n",
              "      <td>32</td>\n",
              "      <td>Cranford</td>\n",
              "      <td>155</td>\n",
              "      <td>Westfield</td>\n",
              "      <td>0</td>\n",
              "      <td>23:59</td>\n",
              "      <td>23:59</td>\n",
              "      <td>1</td>\n",
              "      <td>yes</td>\n",
              "      <td>0.016667</td>\n",
              "      <td>1</td>\n",
              "      <td>departed</td>\n",
              "      <td>1</td>\n",
              "      <td>Raritan Valley</td>\n",
              "      <td>1</td>\n",
              "      <td>NJ Transit</td>\n",
              "    </tr>\n",
              "  </tbody>\n",
              "</table>\n",
              "</div>"
            ],
            "text/plain": [
              "   dateID      date  DayOfWeekID  ...            line  typeID        type\n",
              "0       1  5/1/2020            6  ...  Raritan Valley       1  NJ Transit\n",
              "1       1  5/1/2020            6  ...  Raritan Valley       1  NJ Transit\n",
              "2       1  5/1/2020            6  ...  Raritan Valley       1  NJ Transit\n",
              "3       1  5/1/2020            6  ...  Raritan Valley       1  NJ Transit\n",
              "4       1  5/1/2020            6  ...  Raritan Valley       1  NJ Transit\n",
              "\n",
              "[5 rows x 23 columns]"
            ]
          },
          "metadata": {},
          "execution_count": 2
        }
      ]
    },
    {
      "cell_type": "code",
      "metadata": {
        "colab": {
          "base_uri": "https://localhost:8080/"
        },
        "id": "aJfoYZEBgNx2",
        "outputId": "1cc16c2c-9519-4d77-a22c-f9ef4f4b374e"
      },
      "source": [
        "# Check for nulls\n",
        "df.isnull().sum()*100/df.isnull().count()\n"
      ],
      "execution_count": 3,
      "outputs": [
        {
          "output_type": "execute_result",
          "data": {
            "text/plain": [
              "dateID             0.000000\n",
              "date               0.000000\n",
              "DayOfWeekID        0.000000\n",
              "DayOfWeek          0.000000\n",
              "isnumber           0.000000\n",
              "train_id           0.000000\n",
              "stop_sequence     11.678048\n",
              "from_id            0.000000\n",
              "from               0.000000\n",
              "to_id              0.000000\n",
              "to                 0.000000\n",
              "rush_hour          0.000000\n",
              "scheduled_time    11.678048\n",
              "actual_time        0.000000\n",
              "is_Delayed_id      0.000000\n",
              "is_Delayed         0.000000\n",
              "delay_minutes     11.678048\n",
              "statusID           0.000000\n",
              "status             0.000000\n",
              "lineID             0.000000\n",
              "line               0.000000\n",
              "typeID             0.000000\n",
              "type               0.000000\n",
              "dtype: float64"
            ]
          },
          "metadata": {},
          "execution_count": 3
        }
      ]
    },
    {
      "cell_type": "code",
      "metadata": {
        "colab": {
          "base_uri": "https://localhost:8080/"
        },
        "id": "cUptW8SynCFw",
        "outputId": "e5a45d5e-facc-468d-a39c-0c726aad7ac5"
      },
      "source": [
        "#Drop nulls and see how many observations we have:\n",
        "df.dropna(inplace=True)\n",
        "df.info()\n"
      ],
      "execution_count": 4,
      "outputs": [
        {
          "output_type": "stream",
          "name": "stdout",
          "text": [
            "<class 'pandas.core.frame.DataFrame'>\n",
            "Int64Index: 87172 entries, 0 to 98697\n",
            "Data columns (total 23 columns):\n",
            " #   Column          Non-Null Count  Dtype  \n",
            "---  ------          --------------  -----  \n",
            " 0   dateID          87172 non-null  int64  \n",
            " 1   date            87172 non-null  object \n",
            " 2   DayOfWeekID     87172 non-null  int64  \n",
            " 3   DayOfWeek       87172 non-null  object \n",
            " 4   isnumber        87172 non-null  bool   \n",
            " 5   train_id        87172 non-null  object \n",
            " 6   stop_sequence   87172 non-null  float64\n",
            " 7   from_id         87172 non-null  int64  \n",
            " 8   from            87172 non-null  object \n",
            " 9   to_id           87172 non-null  int64  \n",
            " 10  to              87172 non-null  object \n",
            " 11  rush_hour       87172 non-null  int64  \n",
            " 12  scheduled_time  87172 non-null  object \n",
            " 13  actual_time     87172 non-null  object \n",
            " 14  is_Delayed_id   87172 non-null  int64  \n",
            " 15  is_Delayed      87172 non-null  object \n",
            " 16  delay_minutes   87172 non-null  float64\n",
            " 17  statusID        87172 non-null  int64  \n",
            " 18  status          87172 non-null  object \n",
            " 19  lineID          87172 non-null  object \n",
            " 20  line            87172 non-null  object \n",
            " 21  typeID          87172 non-null  int64  \n",
            " 22  type            87172 non-null  object \n",
            "dtypes: bool(1), float64(2), int64(8), object(12)\n",
            "memory usage: 15.4+ MB\n"
          ]
        }
      ]
    },
    {
      "cell_type": "code",
      "metadata": {
        "colab": {
          "base_uri": "https://localhost:8080/",
          "height": 297
        },
        "id": "uolzaIq1gBEc",
        "outputId": "2cf2eac7-5eca-4929-cdba-fb412994702d"
      },
      "source": [
        "import seaborn as sns\n",
        "sns.countplot(df['is_Delayed_id'])\n"
      ],
      "execution_count": 5,
      "outputs": [
        {
          "output_type": "execute_result",
          "data": {
            "text/plain": [
              "<matplotlib.axes._subplots.AxesSubplot at 0x7f6388bcd290>"
            ]
          },
          "metadata": {},
          "execution_count": 5
        },
        {
          "output_type": "display_data",
          "data": {
            "image/png": "[encoded data removed]",
            "text/plain": [
              "<Figure size 432x288 with 1 Axes>"
            ]
          },
          "metadata": {
            "needs_background": "light"
          }
        }
      ]
    },
    {
      "cell_type": "code",
      "metadata": {
        "colab": {
          "base_uri": "https://localhost:8080/",
          "height": 297
        },
        "id": "lxGu54_WsBBc",
        "outputId": "4f89fc36-bc3d-4a63-b1f8-1e6ed9b512fc"
      },
      "source": [
        "sns.countplot(df['rush_hour'])\n"
      ],
      "execution_count": 6,
      "outputs": [
        {
          "output_type": "execute_result",
          "data": {
            "text/plain": [
              "<matplotlib.axes._subplots.AxesSubplot at 0x7f63882d7990>"
            ]
          },
          "metadata": {},
          "execution_count": 6
        },
        {
          "output_type": "display_data",
          "data": {
            "image/png": "[encoded data removed]",
            "text/plain": [
              "<Figure size 432x288 with 1 Axes>"
            ]
          },
          "metadata": {
            "needs_background": "light"
          }
        }
      ]
    },
    {
      "cell_type": "code",
      "metadata": {
        "colab": {
          "base_uri": "https://localhost:8080/",
          "height": 422
        },
        "id": "i_Nkv3NgsHY8",
        "outputId": "ec72e3a1-cd52-497f-f6c9-db005be7e1d3"
      },
      "source": [
        "sns.countplot(df['DayOfWeek'])\n",
        "df['DayOfWeek'].value_counts()"
      ],
      "execution_count": 7,
      "outputs": [
        {
          "output_type": "execute_result",
          "data": {
            "text/plain": [
              "Friday       15511\n",
              "Monday       15334\n",
              "Sunday       12997\n",
              "Saturday     12827\n",
              "Wednesday    10319\n",
              "Tuesday      10130\n",
              "Thursday     10054\n",
              "Name: DayOfWeek, dtype: int64"
            ]
          },
          "metadata": {},
          "execution_count": 7
        },
        {
          "output_type": "display_data",
          "data": {
            "image/png": "[encoded data removed]",
            "text/plain": [
              "<Figure size 432x288 with 1 Axes>"
            ]
          },
          "metadata": {
            "needs_background": "light"
          }
        }
      ]
    },
    {
      "cell_type": "code",
      "metadata": {
        "colab": {
          "base_uri": "https://localhost:8080/",
          "height": 352
        },
        "id": "uO4Iz6Uy-l4l",
        "outputId": "aa5329fc-24c1-4766-a694-f296e6756c5f"
      },
      "source": [
        "sns.countplot(df['status'])\n",
        "df['status'].value_counts()"
      ],
      "execution_count": 8,
      "outputs": [
        {
          "output_type": "execute_result",
          "data": {
            "text/plain": [
              "departed     76862\n",
              "estimated     7824\n",
              "cancelled     2486\n",
              "Name: status, dtype: int64"
            ]
          },
          "metadata": {},
          "execution_count": 8
        },
        {
          "output_type": "display_data",
          "data": {
            "image/png": "[encoded data removed]",
            "text/plain": [
              "<Figure size 432x288 with 1 Axes>"
            ]
          },
          "metadata": {
            "needs_background": "light"
          }
        }
      ]
    },
    {
      "cell_type": "code",
      "metadata": {
        "colab": {
          "base_uri": "https://localhost:8080/",
          "height": 297
        },
        "id": "84yKk-VP-9Te",
        "outputId": "d1609c83-a525-4378-b2e0-e4f027cb250c"
      },
      "source": [
        "sns.distplot(df['delay_minutes'])"
      ],
      "execution_count": 9,
      "outputs": [
        {
          "output_type": "execute_result",
          "data": {
            "text/plain": [
              "<matplotlib.axes._subplots.AxesSubplot at 0x7f6387dea8d0>"
            ]
          },
          "metadata": {},
          "execution_count": 9
        },
        {
          "output_type": "display_data",
          "data": {
            "image/png": "[encoded data removed]",
            "text/plain": [
              "<Figure size 432x288 with 1 Axes>"
            ]
          },
          "metadata": {
            "needs_background": "light"
          }
        }
      ]
    },
    {
      "cell_type": "code",
      "metadata": {
        "colab": {
          "base_uri": "https://localhost:8080/"
        },
        "id": "5eISvFgsgKlF",
        "outputId": "7ec7b719-2b93-4544-cb1d-7568cf63c35a"
      },
      "source": [
        "df.nunique()"
      ],
      "execution_count": 10,
      "outputs": [
        {
          "output_type": "execute_result",
          "data": {
            "text/plain": [
              "dateID              18\n",
              "date                18\n",
              "DayOfWeekID          7\n",
              "DayOfWeek            7\n",
              "isnumber             1\n",
              "train_id           464\n",
              "stop_sequence       26\n",
              "from_id            156\n",
              "from               156\n",
              "to_id              155\n",
              "to                 155\n",
              "rush_hour            2\n",
              "scheduled_time    1295\n",
              "actual_time       1368\n",
              "is_Delayed_id        2\n",
              "is_Delayed           2\n",
              "delay_minutes     1754\n",
              "statusID             3\n",
              "status               3\n",
              "lineID              20\n",
              "line                11\n",
              "typeID               1\n",
              "type                 1\n",
              "dtype: int64"
            ]
          },
          "metadata": {},
          "execution_count": 10
        }
      ]
    },
    {
      "cell_type": "code",
      "metadata": {
        "colab": {
          "base_uri": "https://localhost:8080/",
          "height": 294
        },
        "id": "0uKCPdgsgkL1",
        "outputId": "9aa764ee-bccd-432c-e40a-72b202d10243"
      },
      "source": [
        "# Descriptive statistics.\n",
        "df.describe()"
      ],
      "execution_count": 11,
      "outputs": [
        {
          "output_type": "execute_result",
          "data": {
            "text/html": [
              "<div>\n",
              "<style scoped>\n",
              "    .dataframe tbody tr th:only-of-type {\n",
              "        vertical-align: middle;\n",
              "    }\n",
              "\n",
              "    .dataframe tbody tr th {\n",
              "        vertical-align: top;\n",
              "    }\n",
              "\n",
              "    .dataframe thead th {\n",
              "        text-align: right;\n",
              "    }\n",
              "</style>\n",
              "<table border=\"1\" class=\"dataframe\">\n",
              "  <thead>\n",
              "    <tr style=\"text-align: right;\">\n",
              "      <th></th>\n",
              "      <th>dateID</th>\n",
              "      <th>DayOfWeekID</th>\n",
              "      <th>stop_sequence</th>\n",
              "      <th>from_id</th>\n",
              "      <th>to_id</th>\n",
              "      <th>rush_hour</th>\n",
              "      <th>is_Delayed_id</th>\n",
              "      <th>delay_minutes</th>\n",
              "      <th>statusID</th>\n",
              "      <th>typeID</th>\n",
              "    </tr>\n",
              "  </thead>\n",
              "  <tbody>\n",
              "    <tr>\n",
              "      <th>count</th>\n",
              "      <td>87172.000000</td>\n",
              "      <td>87172.000000</td>\n",
              "      <td>87172.000000</td>\n",
              "      <td>87172.000000</td>\n",
              "      <td>87172.000000</td>\n",
              "      <td>87172.000000</td>\n",
              "      <td>87172.000000</td>\n",
              "      <td>87172.000000</td>\n",
              "      <td>87172.000000</td>\n",
              "      <td>87172.0</td>\n",
              "    </tr>\n",
              "    <tr>\n",
              "      <th>mean</th>\n",
              "      <td>9.462889</td>\n",
              "      <td>3.997339</td>\n",
              "      <td>8.046907</td>\n",
              "      <td>4303.809537</td>\n",
              "      <td>4346.908595</td>\n",
              "      <td>0.462064</td>\n",
              "      <td>0.810054</td>\n",
              "      <td>3.281289</td>\n",
              "      <td>1.061235</td>\n",
              "      <td>1.0</td>\n",
              "    </tr>\n",
              "    <tr>\n",
              "      <th>std</th>\n",
              "      <td>5.160223</td>\n",
              "      <td>2.076806</td>\n",
              "      <td>4.984259</td>\n",
              "      <td>11927.826579</td>\n",
              "      <td>11980.281298</td>\n",
              "      <td>0.498562</td>\n",
              "      <td>0.392261</td>\n",
              "      <td>10.253101</td>\n",
              "      <td>0.338413</td>\n",
              "      <td>0.0</td>\n",
              "    </tr>\n",
              "    <tr>\n",
              "      <th>min</th>\n",
              "      <td>1.000000</td>\n",
              "      <td>1.000000</td>\n",
              "      <td>1.000000</td>\n",
              "      <td>1.000000</td>\n",
              "      <td>1.000000</td>\n",
              "      <td>0.000000</td>\n",
              "      <td>0.000000</td>\n",
              "      <td>0.000000</td>\n",
              "      <td>0.000000</td>\n",
              "      <td>1.0</td>\n",
              "    </tr>\n",
              "    <tr>\n",
              "      <th>25%</th>\n",
              "      <td>5.000000</td>\n",
              "      <td>2.000000</td>\n",
              "      <td>4.000000</td>\n",
              "      <td>48.000000</td>\n",
              "      <td>50.000000</td>\n",
              "      <td>0.000000</td>\n",
              "      <td>1.000000</td>\n",
              "      <td>0.116667</td>\n",
              "      <td>1.000000</td>\n",
              "      <td>1.0</td>\n",
              "    </tr>\n",
              "    <tr>\n",
              "      <th>50%</th>\n",
              "      <td>9.000000</td>\n",
              "      <td>4.000000</td>\n",
              "      <td>8.000000</td>\n",
              "      <td>99.000000</td>\n",
              "      <td>102.000000</td>\n",
              "      <td>0.000000</td>\n",
              "      <td>1.000000</td>\n",
              "      <td>1.200000</td>\n",
              "      <td>1.000000</td>\n",
              "      <td>1.0</td>\n",
              "    </tr>\n",
              "    <tr>\n",
              "      <th>75%</th>\n",
              "      <td>14.000000</td>\n",
              "      <td>6.000000</td>\n",
              "      <td>11.000000</td>\n",
              "      <td>131.000000</td>\n",
              "      <td>134.000000</td>\n",
              "      <td>1.000000</td>\n",
              "      <td>1.000000</td>\n",
              "      <td>3.083333</td>\n",
              "      <td>1.000000</td>\n",
              "      <td>1.0</td>\n",
              "    </tr>\n",
              "    <tr>\n",
              "      <th>max</th>\n",
              "      <td>18.000000</td>\n",
              "      <td>7.000000</td>\n",
              "      <td>26.000000</td>\n",
              "      <td>43599.000000</td>\n",
              "      <td>43599.000000</td>\n",
              "      <td>1.000000</td>\n",
              "      <td>1.000000</td>\n",
              "      <td>182.000000</td>\n",
              "      <td>2.000000</td>\n",
              "      <td>1.0</td>\n",
              "    </tr>\n",
              "  </tbody>\n",
              "</table>\n",
              "</div>"
            ],
            "text/plain": [
              "             dateID   DayOfWeekID  ...      statusID   typeID\n",
              "count  87172.000000  87172.000000  ...  87172.000000  87172.0\n",
              "mean       9.462889      3.997339  ...      1.061235      1.0\n",
              "std        5.160223      2.076806  ...      0.338413      0.0\n",
              "min        1.000000      1.000000  ...      0.000000      1.0\n",
              "25%        5.000000      2.000000  ...      1.000000      1.0\n",
              "50%        9.000000      4.000000  ...      1.000000      1.0\n",
              "75%       14.000000      6.000000  ...      1.000000      1.0\n",
              "max       18.000000      7.000000  ...      2.000000      1.0\n",
              "\n",
              "[8 rows x 10 columns]"
            ]
          },
          "metadata": {},
          "execution_count": 11
        }
      ]
    },
    {
      "cell_type": "code",
      "metadata": {
        "colab": {
          "base_uri": "https://localhost:8080/",
          "height": 1000
        },
        "id": "sz7JBWZmgmwV",
        "outputId": "e8a3bfcf-842d-4fb5-89b1-91e7f7d6ad55"
      },
      "source": [
        "df.hist(figsize=(30,20))\n"
      ],
      "execution_count": 12,
      "outputs": [
        {
          "output_type": "execute_result",
          "data": {
            "text/plain": [
              "array([[<matplotlib.axes._subplots.AxesSubplot object at 0x7f637f45e610>,\n",
              "        <matplotlib.axes._subplots.AxesSubplot object at 0x7f637f40ad10>,\n",
              "        <matplotlib.axes._subplots.AxesSubplot object at 0x7f637f3cc3d0>],\n",
              "       [<matplotlib.axes._subplots.AxesSubplot object at 0x7f637f37fa50>,\n",
              "        <matplotlib.axes._subplots.AxesSubplot object at 0x7f637f342110>,\n",
              "        <matplotlib.axes._subplots.AxesSubplot object at 0x7f637f2f7790>],\n",
              "       [<matplotlib.axes._subplots.AxesSubplot object at 0x7f637f32ce90>,\n",
              "        <matplotlib.axes._subplots.AxesSubplot object at 0x7f637f271490>,\n",
              "        <matplotlib.axes._subplots.AxesSubplot object at 0x7f637f2714d0>],\n",
              "       [<matplotlib.axes._subplots.AxesSubplot object at 0x7f637f2a8c50>,\n",
              "        <matplotlib.axes._subplots.AxesSubplot object at 0x7f637f21f890>,\n",
              "        <matplotlib.axes._subplots.AxesSubplot object at 0x7f637f1d6f10>]],\n",
              "      dtype=object)"
            ]
          },
          "metadata": {},
          "execution_count": 12
        },
        {
          "output_type": "display_data",
          "data": {
            "image/png": "[encoded data removed]",
            "text/plain": [
              "<Figure size 2160x1440 with 12 Axes>"
            ]
          },
          "metadata": {
            "needs_background": "light"
          }
        }
      ]
    },
    {
      "cell_type": "code",
      "metadata": {
        "colab": {
          "base_uri": "https://localhost:8080/",
          "height": 1000
        },
        "id": "rxtEJ29OguMl",
        "outputId": "ba7e629a-1591-4595-a90d-d643cdc7bf9f"
      },
      "source": [
        "# Visualize correlation between independant variables and the target variable. Here, the target variable is 'Chance_of_Admit'\n",
        "plt.figure(figsize=(20,16))\n",
        "sns.heatmap(df.corr(),annot = True)\n",
        "plt.show()\n",
        "\n",
        "print()\n",
        "print(\"Correlation Table\")\n",
        "# Correlation factors for 'delay time'.\n",
        "df.corr()"
      ],
      "execution_count": 13,
      "outputs": [
        {
          "output_type": "display_data",
          "data": {
            "image/png": "[encoded data removed]",
            "text/plain": [
              "<Figure size 1440x1152 with 2 Axes>"
            ]
          },
          "metadata": {
            "needs_background": "light"
          }
        },
        {
          "output_type": "stream",
          "name": "stdout",
          "text": [
            "\n",
            "Correlation Table\n"
          ]
        },
        {
          "output_type": "execute_result",
          "data": {
            "text/html": [
              "<div>\n",
              "<style scoped>\n",
              "    .dataframe tbody tr th:only-of-type {\n",
              "        vertical-align: middle;\n",
              "    }\n",
              "\n",
              "    .dataframe tbody tr th {\n",
              "        vertical-align: top;\n",
              "    }\n",
              "\n",
              "    .dataframe thead th {\n",
              "        text-align: right;\n",
              "    }\n",
              "</style>\n",
              "<table border=\"1\" class=\"dataframe\">\n",
              "  <thead>\n",
              "    <tr style=\"text-align: right;\">\n",
              "      <th></th>\n",
              "      <th>dateID</th>\n",
              "      <th>DayOfWeekID</th>\n",
              "      <th>isnumber</th>\n",
              "      <th>stop_sequence</th>\n",
              "      <th>from_id</th>\n",
              "      <th>to_id</th>\n",
              "      <th>rush_hour</th>\n",
              "      <th>is_Delayed_id</th>\n",
              "      <th>delay_minutes</th>\n",
              "      <th>statusID</th>\n",
              "      <th>typeID</th>\n",
              "    </tr>\n",
              "  </thead>\n",
              "  <tbody>\n",
              "    <tr>\n",
              "      <th>dateID</th>\n",
              "      <td>1.000000</td>\n",
              "      <td>-0.121237</td>\n",
              "      <td>NaN</td>\n",
              "      <td>0.001307</td>\n",
              "      <td>0.000637</td>\n",
              "      <td>0.000656</td>\n",
              "      <td>0.003658</td>\n",
              "      <td>0.011899</td>\n",
              "      <td>0.008166</td>\n",
              "      <td>0.003863</td>\n",
              "      <td>NaN</td>\n",
              "    </tr>\n",
              "    <tr>\n",
              "      <th>DayOfWeekID</th>\n",
              "      <td>-0.121237</td>\n",
              "      <td>1.000000</td>\n",
              "      <td>NaN</td>\n",
              "      <td>-0.000821</td>\n",
              "      <td>-0.000233</td>\n",
              "      <td>-0.000231</td>\n",
              "      <td>-0.002059</td>\n",
              "      <td>0.032176</td>\n",
              "      <td>0.015804</td>\n",
              "      <td>0.045102</td>\n",
              "      <td>NaN</td>\n",
              "    </tr>\n",
              "    <tr>\n",
              "      <th>isnumber</th>\n",
              "      <td>NaN</td>\n",
              "      <td>NaN</td>\n",
              "      <td>NaN</td>\n",
              "      <td>NaN</td>\n",
              "      <td>NaN</td>\n",
              "      <td>NaN</td>\n",
              "      <td>NaN</td>\n",
              "      <td>NaN</td>\n",
              "      <td>NaN</td>\n",
              "      <td>NaN</td>\n",
              "      <td>NaN</td>\n",
              "    </tr>\n",
              "    <tr>\n",
              "      <th>stop_sequence</th>\n",
              "      <td>0.001307</td>\n",
              "      <td>-0.000821</td>\n",
              "      <td>NaN</td>\n",
              "      <td>1.000000</td>\n",
              "      <td>0.073565</td>\n",
              "      <td>0.000941</td>\n",
              "      <td>-0.034930</td>\n",
              "      <td>-0.107307</td>\n",
              "      <td>-0.044079</td>\n",
              "      <td>0.303198</td>\n",
              "      <td>NaN</td>\n",
              "    </tr>\n",
              "    <tr>\n",
              "      <th>from_id</th>\n",
              "      <td>0.000637</td>\n",
              "      <td>-0.000233</td>\n",
              "      <td>NaN</td>\n",
              "      <td>0.073565</td>\n",
              "      <td>1.000000</td>\n",
              "      <td>-0.116791</td>\n",
              "      <td>0.002570</td>\n",
              "      <td>-0.116064</td>\n",
              "      <td>-0.022739</td>\n",
              "      <td>0.212960</td>\n",
              "      <td>NaN</td>\n",
              "    </tr>\n",
              "    <tr>\n",
              "      <th>to_id</th>\n",
              "      <td>0.000656</td>\n",
              "      <td>-0.000231</td>\n",
              "      <td>NaN</td>\n",
              "      <td>0.000941</td>\n",
              "      <td>-0.116791</td>\n",
              "      <td>1.000000</td>\n",
              "      <td>-0.000526</td>\n",
              "      <td>0.034410</td>\n",
              "      <td>-0.001278</td>\n",
              "      <td>-0.080324</td>\n",
              "      <td>NaN</td>\n",
              "    </tr>\n",
              "    <tr>\n",
              "      <th>rush_hour</th>\n",
              "      <td>0.003658</td>\n",
              "      <td>-0.002059</td>\n",
              "      <td>NaN</td>\n",
              "      <td>-0.034930</td>\n",
              "      <td>0.002570</td>\n",
              "      <td>-0.000526</td>\n",
              "      <td>1.000000</td>\n",
              "      <td>0.026798</td>\n",
              "      <td>0.003393</td>\n",
              "      <td>-0.015468</td>\n",
              "      <td>NaN</td>\n",
              "    </tr>\n",
              "    <tr>\n",
              "      <th>is_Delayed_id</th>\n",
              "      <td>0.011899</td>\n",
              "      <td>0.032176</td>\n",
              "      <td>NaN</td>\n",
              "      <td>-0.107307</td>\n",
              "      <td>-0.116064</td>\n",
              "      <td>0.034410</td>\n",
              "      <td>0.026798</td>\n",
              "      <td>1.000000</td>\n",
              "      <td>0.154971</td>\n",
              "      <td>-0.200496</td>\n",
              "      <td>NaN</td>\n",
              "    </tr>\n",
              "    <tr>\n",
              "      <th>delay_minutes</th>\n",
              "      <td>0.008166</td>\n",
              "      <td>0.015804</td>\n",
              "      <td>NaN</td>\n",
              "      <td>-0.044079</td>\n",
              "      <td>-0.022739</td>\n",
              "      <td>-0.001278</td>\n",
              "      <td>0.003393</td>\n",
              "      <td>0.154971</td>\n",
              "      <td>1.000000</td>\n",
              "      <td>0.022773</td>\n",
              "      <td>NaN</td>\n",
              "    </tr>\n",
              "    <tr>\n",
              "      <th>statusID</th>\n",
              "      <td>0.003863</td>\n",
              "      <td>0.045102</td>\n",
              "      <td>NaN</td>\n",
              "      <td>0.303198</td>\n",
              "      <td>0.212960</td>\n",
              "      <td>-0.080324</td>\n",
              "      <td>-0.015468</td>\n",
              "      <td>-0.200496</td>\n",
              "      <td>0.022773</td>\n",
              "      <td>1.000000</td>\n",
              "      <td>NaN</td>\n",
              "    </tr>\n",
              "    <tr>\n",
              "      <th>typeID</th>\n",
              "      <td>NaN</td>\n",
              "      <td>NaN</td>\n",
              "      <td>NaN</td>\n",
              "      <td>NaN</td>\n",
              "      <td>NaN</td>\n",
              "      <td>NaN</td>\n",
              "      <td>NaN</td>\n",
              "      <td>NaN</td>\n",
              "      <td>NaN</td>\n",
              "      <td>NaN</td>\n",
              "      <td>NaN</td>\n",
              "    </tr>\n",
              "  </tbody>\n",
              "</table>\n",
              "</div>"
            ],
            "text/plain": [
              "                 dateID  DayOfWeekID  isnumber  ...  delay_minutes  statusID  typeID\n",
              "dateID         1.000000    -0.121237       NaN  ...       0.008166  0.003863     NaN\n",
              "DayOfWeekID   -0.121237     1.000000       NaN  ...       0.015804  0.045102     NaN\n",
              "isnumber            NaN          NaN       NaN  ...            NaN       NaN     NaN\n",
              "stop_sequence  0.001307    -0.000821       NaN  ...      -0.044079  0.303198     NaN\n",
              "from_id        0.000637    -0.000233       NaN  ...      -0.022739  0.212960     NaN\n",
              "to_id          0.000656    -0.000231       NaN  ...      -0.001278 -0.080324     NaN\n",
              "rush_hour      0.003658    -0.002059       NaN  ...       0.003393 -0.015468     NaN\n",
              "is_Delayed_id  0.011899     0.032176       NaN  ...       0.154971 -0.200496     NaN\n",
              "delay_minutes  0.008166     0.015804       NaN  ...       1.000000  0.022773     NaN\n",
              "statusID       0.003863     0.045102       NaN  ...       0.022773  1.000000     NaN\n",
              "typeID              NaN          NaN       NaN  ...            NaN       NaN     NaN\n",
              "\n",
              "[11 rows x 11 columns]"
            ]
          },
          "metadata": {},
          "execution_count": 13
        }
      ]
    },
    {
      "cell_type": "code",
      "metadata": {
        "colab": {
          "base_uri": "https://localhost:8080/",
          "height": 581
        },
        "id": "njBLBtZ3ovv9",
        "outputId": "807da33f-f3ce-4129-ddc1-fbb2655a861c"
      },
      "source": [
        "df\n"
      ],
      "execution_count": 14,
      "outputs": [
        {
          "output_type": "execute_result",
          "data": {
            "text/html": [
              "<div>\n",
              "<style scoped>\n",
              "    .dataframe tbody tr th:only-of-type {\n",
              "        vertical-align: middle;\n",
              "    }\n",
              "\n",
              "    .dataframe tbody tr th {\n",
              "        vertical-align: top;\n",
              "    }\n",
              "\n",
              "    .dataframe thead th {\n",
              "        text-align: right;\n",
              "    }\n",
              "</style>\n",
              "<table border=\"1\" class=\"dataframe\">\n",
              "  <thead>\n",
              "    <tr style=\"text-align: right;\">\n",
              "      <th></th>\n",
              "      <th>dateID</th>\n",
              "      <th>date</th>\n",
              "      <th>DayOfWeekID</th>\n",
              "      <th>DayOfWeek</th>\n",
              "      <th>isnumber</th>\n",
              "      <th>train_id</th>\n",
              "      <th>stop_sequence</th>\n",
              "      <th>from_id</th>\n",
              "      <th>from</th>\n",
              "      <th>to_id</th>\n",
              "      <th>to</th>\n",
              "      <th>rush_hour</th>\n",
              "      <th>scheduled_time</th>\n",
              "      <th>actual_time</th>\n",
              "      <th>is_Delayed_id</th>\n",
              "      <th>is_Delayed</th>\n",
              "      <th>delay_minutes</th>\n",
              "      <th>statusID</th>\n",
              "      <th>status</th>\n",
              "      <th>lineID</th>\n",
              "      <th>line</th>\n",
              "      <th>typeID</th>\n",
              "      <th>type</th>\n",
              "    </tr>\n",
              "  </thead>\n",
              "  <tbody>\n",
              "    <tr>\n",
              "      <th>0</th>\n",
              "      <td>1</td>\n",
              "      <td>5/1/2020</td>\n",
              "      <td>6</td>\n",
              "      <td>Friday</td>\n",
              "      <td>True</td>\n",
              "      <td>5543</td>\n",
              "      <td>1.0</td>\n",
              "      <td>107</td>\n",
              "      <td>Newark Penn Station</td>\n",
              "      <td>107</td>\n",
              "      <td>Newark Penn Station</td>\n",
              "      <td>0</td>\n",
              "      <td>23:38</td>\n",
              "      <td>23:40</td>\n",
              "      <td>1</td>\n",
              "      <td>yes</td>\n",
              "      <td>2.150000</td>\n",
              "      <td>1</td>\n",
              "      <td>departed</td>\n",
              "      <td>1</td>\n",
              "      <td>Raritan Valley</td>\n",
              "      <td>1</td>\n",
              "      <td>NJ Transit</td>\n",
              "    </tr>\n",
              "    <tr>\n",
              "      <th>1</th>\n",
              "      <td>1</td>\n",
              "      <td>5/1/2020</td>\n",
              "      <td>6</td>\n",
              "      <td>Friday</td>\n",
              "      <td>True</td>\n",
              "      <td>5543</td>\n",
              "      <td>2.0</td>\n",
              "      <td>107</td>\n",
              "      <td>Newark Penn Station</td>\n",
              "      <td>38105</td>\n",
              "      <td>Union</td>\n",
              "      <td>0</td>\n",
              "      <td>23:47</td>\n",
              "      <td>23:47</td>\n",
              "      <td>1</td>\n",
              "      <td>yes</td>\n",
              "      <td>0.016667</td>\n",
              "      <td>1</td>\n",
              "      <td>departed</td>\n",
              "      <td>1</td>\n",
              "      <td>Raritan Valley</td>\n",
              "      <td>1</td>\n",
              "      <td>NJ Transit</td>\n",
              "    </tr>\n",
              "    <tr>\n",
              "      <th>2</th>\n",
              "      <td>1</td>\n",
              "      <td>5/1/2020</td>\n",
              "      <td>6</td>\n",
              "      <td>Friday</td>\n",
              "      <td>True</td>\n",
              "      <td>5543</td>\n",
              "      <td>3.0</td>\n",
              "      <td>38105</td>\n",
              "      <td>Union</td>\n",
              "      <td>31</td>\n",
              "      <td>Roselle Park</td>\n",
              "      <td>0</td>\n",
              "      <td>23:50</td>\n",
              "      <td>23:51</td>\n",
              "      <td>1</td>\n",
              "      <td>yes</td>\n",
              "      <td>1.066667</td>\n",
              "      <td>1</td>\n",
              "      <td>departed</td>\n",
              "      <td>1</td>\n",
              "      <td>Raritan Valley</td>\n",
              "      <td>1</td>\n",
              "      <td>NJ Transit</td>\n",
              "    </tr>\n",
              "    <tr>\n",
              "      <th>3</th>\n",
              "      <td>1</td>\n",
              "      <td>5/1/2020</td>\n",
              "      <td>6</td>\n",
              "      <td>Friday</td>\n",
              "      <td>True</td>\n",
              "      <td>5543</td>\n",
              "      <td>4.0</td>\n",
              "      <td>31</td>\n",
              "      <td>Roselle Park</td>\n",
              "      <td>32</td>\n",
              "      <td>Cranford</td>\n",
              "      <td>0</td>\n",
              "      <td>23:55</td>\n",
              "      <td>23:55</td>\n",
              "      <td>1</td>\n",
              "      <td>yes</td>\n",
              "      <td>0.516667</td>\n",
              "      <td>1</td>\n",
              "      <td>departed</td>\n",
              "      <td>1</td>\n",
              "      <td>Raritan Valley</td>\n",
              "      <td>1</td>\n",
              "      <td>NJ Transit</td>\n",
              "    </tr>\n",
              "    <tr>\n",
              "      <th>4</th>\n",
              "      <td>1</td>\n",
              "      <td>5/1/2020</td>\n",
              "      <td>6</td>\n",
              "      <td>Friday</td>\n",
              "      <td>True</td>\n",
              "      <td>5543</td>\n",
              "      <td>5.0</td>\n",
              "      <td>32</td>\n",
              "      <td>Cranford</td>\n",
              "      <td>155</td>\n",
              "      <td>Westfield</td>\n",
              "      <td>0</td>\n",
              "      <td>23:59</td>\n",
              "      <td>23:59</td>\n",
              "      <td>1</td>\n",
              "      <td>yes</td>\n",
              "      <td>0.016667</td>\n",
              "      <td>1</td>\n",
              "      <td>departed</td>\n",
              "      <td>1</td>\n",
              "      <td>Raritan Valley</td>\n",
              "      <td>1</td>\n",
              "      <td>NJ Transit</td>\n",
              "    </tr>\n",
              "    <tr>\n",
              "      <th>...</th>\n",
              "      <td>...</td>\n",
              "      <td>...</td>\n",
              "      <td>...</td>\n",
              "      <td>...</td>\n",
              "      <td>...</td>\n",
              "      <td>...</td>\n",
              "      <td>...</td>\n",
              "      <td>...</td>\n",
              "      <td>...</td>\n",
              "      <td>...</td>\n",
              "      <td>...</td>\n",
              "      <td>...</td>\n",
              "      <td>...</td>\n",
              "      <td>...</td>\n",
              "      <td>...</td>\n",
              "      <td>...</td>\n",
              "      <td>...</td>\n",
              "      <td>...</td>\n",
              "      <td>...</td>\n",
              "      <td>...</td>\n",
              "      <td>...</td>\n",
              "      <td>...</td>\n",
              "      <td>...</td>\n",
              "    </tr>\n",
              "    <tr>\n",
              "      <th>98693</th>\n",
              "      <td>18</td>\n",
              "      <td>5/18/2020</td>\n",
              "      <td>2</td>\n",
              "      <td>Monday</td>\n",
              "      <td>True</td>\n",
              "      <td>5529</td>\n",
              "      <td>9.0</td>\n",
              "      <td>120</td>\n",
              "      <td>Plainfield</td>\n",
              "      <td>36</td>\n",
              "      <td>Dunellen</td>\n",
              "      <td>1</td>\n",
              "      <td>17:16</td>\n",
              "      <td>17:19</td>\n",
              "      <td>1</td>\n",
              "      <td>yes</td>\n",
              "      <td>3.166667</td>\n",
              "      <td>1</td>\n",
              "      <td>departed</td>\n",
              "      <td>1</td>\n",
              "      <td>Raritan Valley</td>\n",
              "      <td>1</td>\n",
              "      <td>NJ Transit</td>\n",
              "    </tr>\n",
              "    <tr>\n",
              "      <th>98694</th>\n",
              "      <td>18</td>\n",
              "      <td>5/18/2020</td>\n",
              "      <td>2</td>\n",
              "      <td>Monday</td>\n",
              "      <td>True</td>\n",
              "      <td>5529</td>\n",
              "      <td>10.0</td>\n",
              "      <td>36</td>\n",
              "      <td>Dunellen</td>\n",
              "      <td>21</td>\n",
              "      <td>Bound Brook</td>\n",
              "      <td>1</td>\n",
              "      <td>17:21</td>\n",
              "      <td>17:24</td>\n",
              "      <td>1</td>\n",
              "      <td>yes</td>\n",
              "      <td>3.100000</td>\n",
              "      <td>1</td>\n",
              "      <td>departed</td>\n",
              "      <td>1</td>\n",
              "      <td>Raritan Valley</td>\n",
              "      <td>1</td>\n",
              "      <td>NJ Transit</td>\n",
              "    </tr>\n",
              "    <tr>\n",
              "      <th>98695</th>\n",
              "      <td>18</td>\n",
              "      <td>5/18/2020</td>\n",
              "      <td>2</td>\n",
              "      <td>Monday</td>\n",
              "      <td>True</td>\n",
              "      <td>5529</td>\n",
              "      <td>11.0</td>\n",
              "      <td>21</td>\n",
              "      <td>Bound Brook</td>\n",
              "      <td>24</td>\n",
              "      <td>Bridgewater</td>\n",
              "      <td>1</td>\n",
              "      <td>17:24</td>\n",
              "      <td>17:27</td>\n",
              "      <td>1</td>\n",
              "      <td>yes</td>\n",
              "      <td>3.183333</td>\n",
              "      <td>1</td>\n",
              "      <td>departed</td>\n",
              "      <td>1</td>\n",
              "      <td>Raritan Valley</td>\n",
              "      <td>1</td>\n",
              "      <td>NJ Transit</td>\n",
              "    </tr>\n",
              "    <tr>\n",
              "      <th>98696</th>\n",
              "      <td>18</td>\n",
              "      <td>5/18/2020</td>\n",
              "      <td>2</td>\n",
              "      <td>Monday</td>\n",
              "      <td>True</td>\n",
              "      <td>5529</td>\n",
              "      <td>12.0</td>\n",
              "      <td>24</td>\n",
              "      <td>Bridgewater</td>\n",
              "      <td>138</td>\n",
              "      <td>Somerville</td>\n",
              "      <td>1</td>\n",
              "      <td>17:30</td>\n",
              "      <td>17:33</td>\n",
              "      <td>1</td>\n",
              "      <td>yes</td>\n",
              "      <td>3.116667</td>\n",
              "      <td>1</td>\n",
              "      <td>departed</td>\n",
              "      <td>1</td>\n",
              "      <td>Raritan Valley</td>\n",
              "      <td>1</td>\n",
              "      <td>NJ Transit</td>\n",
              "    </tr>\n",
              "    <tr>\n",
              "      <th>98697</th>\n",
              "      <td>18</td>\n",
              "      <td>5/18/2020</td>\n",
              "      <td>2</td>\n",
              "      <td>Monday</td>\n",
              "      <td>True</td>\n",
              "      <td>5529</td>\n",
              "      <td>13.0</td>\n",
              "      <td>138</td>\n",
              "      <td>Somerville</td>\n",
              "      <td>129</td>\n",
              "      <td>Raritan</td>\n",
              "      <td>1</td>\n",
              "      <td>17:42</td>\n",
              "      <td>17:41</td>\n",
              "      <td>0</td>\n",
              "      <td>no</td>\n",
              "      <td>0.000000</td>\n",
              "      <td>2</td>\n",
              "      <td>estimated</td>\n",
              "      <td>1</td>\n",
              "      <td>Raritan Valley</td>\n",
              "      <td>1</td>\n",
              "      <td>NJ Transit</td>\n",
              "    </tr>\n",
              "  </tbody>\n",
              "</table>\n",
              "<p>87172 rows × 23 columns</p>\n",
              "</div>"
            ],
            "text/plain": [
              "       dateID       date  DayOfWeekID  ...            line  typeID        type\n",
              "0           1   5/1/2020            6  ...  Raritan Valley       1  NJ Transit\n",
              "1           1   5/1/2020            6  ...  Raritan Valley       1  NJ Transit\n",
              "2           1   5/1/2020            6  ...  Raritan Valley       1  NJ Transit\n",
              "3           1   5/1/2020            6  ...  Raritan Valley       1  NJ Transit\n",
              "4           1   5/1/2020            6  ...  Raritan Valley       1  NJ Transit\n",
              "...       ...        ...          ...  ...             ...     ...         ...\n",
              "98693      18  5/18/2020            2  ...  Raritan Valley       1  NJ Transit\n",
              "98694      18  5/18/2020            2  ...  Raritan Valley       1  NJ Transit\n",
              "98695      18  5/18/2020            2  ...  Raritan Valley       1  NJ Transit\n",
              "98696      18  5/18/2020            2  ...  Raritan Valley       1  NJ Transit\n",
              "98697      18  5/18/2020            2  ...  Raritan Valley       1  NJ Transit\n",
              "\n",
              "[87172 rows x 23 columns]"
            ]
          },
          "metadata": {},
          "execution_count": 14
        }
      ]
    },
    {
      "cell_type": "code",
      "metadata": {
        "colab": {
          "base_uri": "https://localhost:8080/",
          "height": 634
        },
        "id": "-q3VXTRlG5xB",
        "outputId": "e38bb7b3-585b-4702-8d8b-d290709fdd8d"
      },
      "source": [
        "one_hot_encoded_data = pd.get_dummies(df, columns = ['statusID', 'DayOfWeekID'])\n",
        "one_hot_encoded_data"
      ],
      "execution_count": 15,
      "outputs": [
        {
          "output_type": "execute_result",
          "data": {
            "text/html": [
              "<div>\n",
              "<style scoped>\n",
              "    .dataframe tbody tr th:only-of-type {\n",
              "        vertical-align: middle;\n",
              "    }\n",
              "\n",
              "    .dataframe tbody tr th {\n",
              "        vertical-align: top;\n",
              "    }\n",
              "\n",
              "    .dataframe thead th {\n",
              "        text-align: right;\n",
              "    }\n",
              "</style>\n",
              "<table border=\"1\" class=\"dataframe\">\n",
              "  <thead>\n",
              "    <tr style=\"text-align: right;\">\n",
              "      <th></th>\n",
              "      <th>dateID</th>\n",
              "      <th>date</th>\n",
              "      <th>DayOfWeek</th>\n",
              "      <th>isnumber</th>\n",
              "      <th>train_id</th>\n",
              "      <th>stop_sequence</th>\n",
              "      <th>from_id</th>\n",
              "      <th>from</th>\n",
              "      <th>to_id</th>\n",
              "      <th>to</th>\n",
              "      <th>rush_hour</th>\n",
              "      <th>scheduled_time</th>\n",
              "      <th>actual_time</th>\n",
              "      <th>is_Delayed_id</th>\n",
              "      <th>is_Delayed</th>\n",
              "      <th>delay_minutes</th>\n",
              "      <th>status</th>\n",
              "      <th>lineID</th>\n",
              "      <th>line</th>\n",
              "      <th>typeID</th>\n",
              "      <th>type</th>\n",
              "      <th>statusID_0</th>\n",
              "      <th>statusID_1</th>\n",
              "      <th>statusID_2</th>\n",
              "      <th>DayOfWeekID_1</th>\n",
              "      <th>DayOfWeekID_2</th>\n",
              "      <th>DayOfWeekID_3</th>\n",
              "      <th>DayOfWeekID_4</th>\n",
              "      <th>DayOfWeekID_5</th>\n",
              "      <th>DayOfWeekID_6</th>\n",
              "      <th>DayOfWeekID_7</th>\n",
              "    </tr>\n",
              "  </thead>\n",
              "  <tbody>\n",
              "    <tr>\n",
              "      <th>0</th>\n",
              "      <td>1</td>\n",
              "      <td>5/1/2020</td>\n",
              "      <td>Friday</td>\n",
              "      <td>True</td>\n",
              "      <td>5543</td>\n",
              "      <td>1.0</td>\n",
              "      <td>107</td>\n",
              "      <td>Newark Penn Station</td>\n",
              "      <td>107</td>\n",
              "      <td>Newark Penn Station</td>\n",
              "      <td>0</td>\n",
              "      <td>23:38</td>\n",
              "      <td>23:40</td>\n",
              "      <td>1</td>\n",
              "      <td>yes</td>\n",
              "      <td>2.150000</td>\n",
              "      <td>departed</td>\n",
              "      <td>1</td>\n",
              "      <td>Raritan Valley</td>\n",
              "      <td>1</td>\n",
              "      <td>NJ Transit</td>\n",
              "      <td>0</td>\n",
              "      <td>1</td>\n",
              "      <td>0</td>\n",
              "      <td>0</td>\n",
              "      <td>0</td>\n",
              "      <td>0</td>\n",
              "      <td>0</td>\n",
              "      <td>0</td>\n",
              "      <td>1</td>\n",
              "      <td>0</td>\n",
              "    </tr>\n",
              "    <tr>\n",
              "      <th>1</th>\n",
              "      <td>1</td>\n",
              "      <td>5/1/2020</td>\n",
              "      <td>Friday</td>\n",
              "      <td>True</td>\n",
              "      <td>5543</td>\n",
              "      <td>2.0</td>\n",
              "      <td>107</td>\n",
              "      <td>Newark Penn Station</td>\n",
              "      <td>38105</td>\n",
              "      <td>Union</td>\n",
              "      <td>0</td>\n",
              "      <td>23:47</td>\n",
              "      <td>23:47</td>\n",
              "      <td>1</td>\n",
              "      <td>yes</td>\n",
              "      <td>0.016667</td>\n",
              "      <td>departed</td>\n",
              "      <td>1</td>\n",
              "      <td>Raritan Valley</td>\n",
              "      <td>1</td>\n",
              "      <td>NJ Transit</td>\n",
              "      <td>0</td>\n",
              "      <td>1</td>\n",
              "      <td>0</td>\n",
              "      <td>0</td>\n",
              "      <td>0</td>\n",
              "      <td>0</td>\n",
              "      <td>0</td>\n",
              "      <td>0</td>\n",
              "      <td>1</td>\n",
              "      <td>0</td>\n",
              "    </tr>\n",
              "    <tr>\n",
              "      <th>2</th>\n",
              "      <td>1</td>\n",
              "      <td>5/1/2020</td>\n",
              "      <td>Friday</td>\n",
              "      <td>True</td>\n",
              "      <td>5543</td>\n",
              "      <td>3.0</td>\n",
              "      <td>38105</td>\n",
              "      <td>Union</td>\n",
              "      <td>31</td>\n",
              "      <td>Roselle Park</td>\n",
              "      <td>0</td>\n",
              "      <td>23:50</td>\n",
              "      <td>23:51</td>\n",
              "      <td>1</td>\n",
              "      <td>yes</td>\n",
              "      <td>1.066667</td>\n",
              "      <td>departed</td>\n",
              "      <td>1</td>\n",
              "      <td>Raritan Valley</td>\n",
              "      <td>1</td>\n",
              "      <td>NJ Transit</td>\n",
              "      <td>0</td>\n",
              "      <td>1</td>\n",
              "      <td>0</td>\n",
              "      <td>0</td>\n",
              "      <td>0</td>\n",
              "      <td>0</td>\n",
              "      <td>0</td>\n",
              "      <td>0</td>\n",
              "      <td>1</td>\n",
              "      <td>0</td>\n",
              "    </tr>\n",
              "    <tr>\n",
              "      <th>3</th>\n",
              "      <td>1</td>\n",
              "      <td>5/1/2020</td>\n",
              "      <td>Friday</td>\n",
              "      <td>True</td>\n",
              "      <td>5543</td>\n",
              "      <td>4.0</td>\n",
              "      <td>31</td>\n",
              "      <td>Roselle Park</td>\n",
              "      <td>32</td>\n",
              "      <td>Cranford</td>\n",
              "      <td>0</td>\n",
              "      <td>23:55</td>\n",
              "      <td>23:55</td>\n",
              "      <td>1</td>\n",
              "      <td>yes</td>\n",
              "      <td>0.516667</td>\n",
              "      <td>departed</td>\n",
              "      <td>1</td>\n",
              "      <td>Raritan Valley</td>\n",
              "      <td>1</td>\n",
              "      <td>NJ Transit</td>\n",
              "      <td>0</td>\n",
              "      <td>1</td>\n",
              "      <td>0</td>\n",
              "      <td>0</td>\n",
              "      <td>0</td>\n",
              "      <td>0</td>\n",
              "      <td>0</td>\n",
              "      <td>0</td>\n",
              "      <td>1</td>\n",
              "      <td>0</td>\n",
              "    </tr>\n",
              "    <tr>\n",
              "      <th>4</th>\n",
              "      <td>1</td>\n",
              "      <td>5/1/2020</td>\n",
              "      <td>Friday</td>\n",
              "      <td>True</td>\n",
              "      <td>5543</td>\n",
              "      <td>5.0</td>\n",
              "      <td>32</td>\n",
              "      <td>Cranford</td>\n",
              "      <td>155</td>\n",
              "      <td>Westfield</td>\n",
              "      <td>0</td>\n",
              "      <td>23:59</td>\n",
              "      <td>23:59</td>\n",
              "      <td>1</td>\n",
              "      <td>yes</td>\n",
              "      <td>0.016667</td>\n",
              "      <td>departed</td>\n",
              "      <td>1</td>\n",
              "      <td>Raritan Valley</td>\n",
              "      <td>1</td>\n",
              "      <td>NJ Transit</td>\n",
              "      <td>0</td>\n",
              "      <td>1</td>\n",
              "      <td>0</td>\n",
              "      <td>0</td>\n",
              "      <td>0</td>\n",
              "      <td>0</td>\n",
              "      <td>0</td>\n",
              "      <td>0</td>\n",
              "      <td>1</td>\n",
              "      <td>0</td>\n",
              "    </tr>\n",
              "    <tr>\n",
              "      <th>...</th>\n",
              "      <td>...</td>\n",
              "      <td>...</td>\n",
              "      <td>...</td>\n",
              "      <td>...</td>\n",
              "      <td>...</td>\n",
              "      <td>...</td>\n",
              "      <td>...</td>\n",
              "      <td>...</td>\n",
              "      <td>...</td>\n",
              "      <td>...</td>\n",
              "      <td>...</td>\n",
              "      <td>...</td>\n",
              "      <td>...</td>\n",
              "      <td>...</td>\n",
              "      <td>...</td>\n",
              "      <td>...</td>\n",
              "      <td>...</td>\n",
              "      <td>...</td>\n",
              "      <td>...</td>\n",
              "      <td>...</td>\n",
              "      <td>...</td>\n",
              "      <td>...</td>\n",
              "      <td>...</td>\n",
              "      <td>...</td>\n",
              "      <td>...</td>\n",
              "      <td>...</td>\n",
              "      <td>...</td>\n",
              "      <td>...</td>\n",
              "      <td>...</td>\n",
              "      <td>...</td>\n",
              "      <td>...</td>\n",
              "    </tr>\n",
              "    <tr>\n",
              "      <th>98693</th>\n",
              "      <td>18</td>\n",
              "      <td>5/18/2020</td>\n",
              "      <td>Monday</td>\n",
              "      <td>True</td>\n",
              "      <td>5529</td>\n",
              "      <td>9.0</td>\n",
              "      <td>120</td>\n",
              "      <td>Plainfield</td>\n",
              "      <td>36</td>\n",
              "      <td>Dunellen</td>\n",
              "      <td>1</td>\n",
              "      <td>17:16</td>\n",
              "      <td>17:19</td>\n",
              "      <td>1</td>\n",
              "      <td>yes</td>\n",
              "      <td>3.166667</td>\n",
              "      <td>departed</td>\n",
              "      <td>1</td>\n",
              "      <td>Raritan Valley</td>\n",
              "      <td>1</td>\n",
              "      <td>NJ Transit</td>\n",
              "      <td>0</td>\n",
              "      <td>1</td>\n",
              "      <td>0</td>\n",
              "      <td>0</td>\n",
              "      <td>1</td>\n",
              "      <td>0</td>\n",
              "      <td>0</td>\n",
              "      <td>0</td>\n",
              "      <td>0</td>\n",
              "      <td>0</td>\n",
              "    </tr>\n",
              "    <tr>\n",
              "      <th>98694</th>\n",
              "      <td>18</td>\n",
              "      <td>5/18/2020</td>\n",
              "      <td>Monday</td>\n",
              "      <td>True</td>\n",
              "      <td>5529</td>\n",
              "      <td>10.0</td>\n",
              "      <td>36</td>\n",
              "      <td>Dunellen</td>\n",
              "      <td>21</td>\n",
              "      <td>Bound Brook</td>\n",
              "      <td>1</td>\n",
              "      <td>17:21</td>\n",
              "      <td>17:24</td>\n",
              "      <td>1</td>\n",
              "      <td>yes</td>\n",
              "      <td>3.100000</td>\n",
              "      <td>departed</td>\n",
              "      <td>1</td>\n",
              "      <td>Raritan Valley</td>\n",
              "      <td>1</td>\n",
              "      <td>NJ Transit</td>\n",
              "      <td>0</td>\n",
              "      <td>1</td>\n",
              "      <td>0</td>\n",
              "      <td>0</td>\n",
              "      <td>1</td>\n",
              "      <td>0</td>\n",
              "      <td>0</td>\n",
              "      <td>0</td>\n",
              "      <td>0</td>\n",
              "      <td>0</td>\n",
              "    </tr>\n",
              "    <tr>\n",
              "      <th>98695</th>\n",
              "      <td>18</td>\n",
              "      <td>5/18/2020</td>\n",
              "      <td>Monday</td>\n",
              "      <td>True</td>\n",
              "      <td>5529</td>\n",
              "      <td>11.0</td>\n",
              "      <td>21</td>\n",
              "      <td>Bound Brook</td>\n",
              "      <td>24</td>\n",
              "      <td>Bridgewater</td>\n",
              "      <td>1</td>\n",
              "      <td>17:24</td>\n",
              "      <td>17:27</td>\n",
              "      <td>1</td>\n",
              "      <td>yes</td>\n",
              "      <td>3.183333</td>\n",
              "      <td>departed</td>\n",
              "      <td>1</td>\n",
              "      <td>Raritan Valley</td>\n",
              "      <td>1</td>\n",
              "      <td>NJ Transit</td>\n",
              "      <td>0</td>\n",
              "      <td>1</td>\n",
              "      <td>0</td>\n",
              "      <td>0</td>\n",
              "      <td>1</td>\n",
              "      <td>0</td>\n",
              "      <td>0</td>\n",
              "      <td>0</td>\n",
              "      <td>0</td>\n",
              "      <td>0</td>\n",
              "    </tr>\n",
              "    <tr>\n",
              "      <th>98696</th>\n",
              "      <td>18</td>\n",
              "      <td>5/18/2020</td>\n",
              "      <td>Monday</td>\n",
              "      <td>True</td>\n",
              "      <td>5529</td>\n",
              "      <td>12.0</td>\n",
              "      <td>24</td>\n",
              "      <td>Bridgewater</td>\n",
              "      <td>138</td>\n",
              "      <td>Somerville</td>\n",
              "      <td>1</td>\n",
              "      <td>17:30</td>\n",
              "      <td>17:33</td>\n",
              "      <td>1</td>\n",
              "      <td>yes</td>\n",
              "      <td>3.116667</td>\n",
              "      <td>departed</td>\n",
              "      <td>1</td>\n",
              "      <td>Raritan Valley</td>\n",
              "      <td>1</td>\n",
              "      <td>NJ Transit</td>\n",
              "      <td>0</td>\n",
              "      <td>1</td>\n",
              "      <td>0</td>\n",
              "      <td>0</td>\n",
              "      <td>1</td>\n",
              "      <td>0</td>\n",
              "      <td>0</td>\n",
              "      <td>0</td>\n",
              "      <td>0</td>\n",
              "      <td>0</td>\n",
              "    </tr>\n",
              "    <tr>\n",
              "      <th>98697</th>\n",
              "      <td>18</td>\n",
              "      <td>5/18/2020</td>\n",
              "      <td>Monday</td>\n",
              "      <td>True</td>\n",
              "      <td>5529</td>\n",
              "      <td>13.0</td>\n",
              "      <td>138</td>\n",
              "      <td>Somerville</td>\n",
              "      <td>129</td>\n",
              "      <td>Raritan</td>\n",
              "      <td>1</td>\n",
              "      <td>17:42</td>\n",
              "      <td>17:41</td>\n",
              "      <td>0</td>\n",
              "      <td>no</td>\n",
              "      <td>0.000000</td>\n",
              "      <td>estimated</td>\n",
              "      <td>1</td>\n",
              "      <td>Raritan Valley</td>\n",
              "      <td>1</td>\n",
              "      <td>NJ Transit</td>\n",
              "      <td>0</td>\n",
              "      <td>0</td>\n",
              "      <td>1</td>\n",
              "      <td>0</td>\n",
              "      <td>1</td>\n",
              "      <td>0</td>\n",
              "      <td>0</td>\n",
              "      <td>0</td>\n",
              "      <td>0</td>\n",
              "      <td>0</td>\n",
              "    </tr>\n",
              "  </tbody>\n",
              "</table>\n",
              "<p>87172 rows × 31 columns</p>\n",
              "</div>"
            ],
            "text/plain": [
              "       dateID       date DayOfWeek  ...  DayOfWeekID_5 DayOfWeekID_6  DayOfWeekID_7\n",
              "0           1   5/1/2020    Friday  ...              0             1              0\n",
              "1           1   5/1/2020    Friday  ...              0             1              0\n",
              "2           1   5/1/2020    Friday  ...              0             1              0\n",
              "3           1   5/1/2020    Friday  ...              0             1              0\n",
              "4           1   5/1/2020    Friday  ...              0             1              0\n",
              "...       ...        ...       ...  ...            ...           ...            ...\n",
              "98693      18  5/18/2020    Monday  ...              0             0              0\n",
              "98694      18  5/18/2020    Monday  ...              0             0              0\n",
              "98695      18  5/18/2020    Monday  ...              0             0              0\n",
              "98696      18  5/18/2020    Monday  ...              0             0              0\n",
              "98697      18  5/18/2020    Monday  ...              0             0              0\n",
              "\n",
              "[87172 rows x 31 columns]"
            ]
          },
          "metadata": {},
          "execution_count": 15
        }
      ]
    },
    {
      "cell_type": "code",
      "metadata": {
        "colab": {
          "base_uri": "https://localhost:8080/",
          "height": 414
        },
        "id": "VvAReKfLFV4u",
        "outputId": "ccd1c7ee-cc76-4504-de19-43f0b311e1d7"
      },
      "source": [
        "one_hot_encoded_data = one_hot_encoded_data.drop(['date', 'dateID', 'DayOfWeek', 'isnumber', 'train_id', 'from', 'to', 'is_Delayed', 'status', 'line', 'lineID', 'type', 'typeID', 'scheduled_time', 'actual_time'],axis=1)\n",
        "one_hot_encoded_data = one_hot_encoded_data.drop(['from_id', 'to_id'], axis=1)\n",
        "one_hot_encoded_data"
      ],
      "execution_count": 16,
      "outputs": [
        {
          "output_type": "execute_result",
          "data": {
            "text/html": [
              "<div>\n",
              "<style scoped>\n",
              "    .dataframe tbody tr th:only-of-type {\n",
              "        vertical-align: middle;\n",
              "    }\n",
              "\n",
              "    .dataframe tbody tr th {\n",
              "        vertical-align: top;\n",
              "    }\n",
              "\n",
              "    .dataframe thead th {\n",
              "        text-align: right;\n",
              "    }\n",
              "</style>\n",
              "<table border=\"1\" class=\"dataframe\">\n",
              "  <thead>\n",
              "    <tr style=\"text-align: right;\">\n",
              "      <th></th>\n",
              "      <th>stop_sequence</th>\n",
              "      <th>rush_hour</th>\n",
              "      <th>is_Delayed_id</th>\n",
              "      <th>delay_minutes</th>\n",
              "      <th>statusID_0</th>\n",
              "      <th>statusID_1</th>\n",
              "      <th>statusID_2</th>\n",
              "      <th>DayOfWeekID_1</th>\n",
              "      <th>DayOfWeekID_2</th>\n",
              "      <th>DayOfWeekID_3</th>\n",
              "      <th>DayOfWeekID_4</th>\n",
              "      <th>DayOfWeekID_5</th>\n",
              "      <th>DayOfWeekID_6</th>\n",
              "      <th>DayOfWeekID_7</th>\n",
              "    </tr>\n",
              "  </thead>\n",
              "  <tbody>\n",
              "    <tr>\n",
              "      <th>0</th>\n",
              "      <td>1.0</td>\n",
              "      <td>0</td>\n",
              "      <td>1</td>\n",
              "      <td>2.150000</td>\n",
              "      <td>0</td>\n",
              "      <td>1</td>\n",
              "      <td>0</td>\n",
              "      <td>0</td>\n",
              "      <td>0</td>\n",
              "      <td>0</td>\n",
              "      <td>0</td>\n",
              "      <td>0</td>\n",
              "      <td>1</td>\n",
              "      <td>0</td>\n",
              "    </tr>\n",
              "    <tr>\n",
              "      <th>1</th>\n",
              "      <td>2.0</td>\n",
              "      <td>0</td>\n",
              "      <td>1</td>\n",
              "      <td>0.016667</td>\n",
              "      <td>0</td>\n",
              "      <td>1</td>\n",
              "      <td>0</td>\n",
              "      <td>0</td>\n",
              "      <td>0</td>\n",
              "      <td>0</td>\n",
              "      <td>0</td>\n",
              "      <td>0</td>\n",
              "      <td>1</td>\n",
              "      <td>0</td>\n",
              "    </tr>\n",
              "    <tr>\n",
              "      <th>2</th>\n",
              "      <td>3.0</td>\n",
              "      <td>0</td>\n",
              "      <td>1</td>\n",
              "      <td>1.066667</td>\n",
              "      <td>0</td>\n",
              "      <td>1</td>\n",
              "      <td>0</td>\n",
              "      <td>0</td>\n",
              "      <td>0</td>\n",
              "      <td>0</td>\n",
              "      <td>0</td>\n",
              "      <td>0</td>\n",
              "      <td>1</td>\n",
              "      <td>0</td>\n",
              "    </tr>\n",
              "    <tr>\n",
              "      <th>3</th>\n",
              "      <td>4.0</td>\n",
              "      <td>0</td>\n",
              "      <td>1</td>\n",
              "      <td>0.516667</td>\n",
              "      <td>0</td>\n",
              "      <td>1</td>\n",
              "      <td>0</td>\n",
              "      <td>0</td>\n",
              "      <td>0</td>\n",
              "      <td>0</td>\n",
              "      <td>0</td>\n",
              "      <td>0</td>\n",
              "      <td>1</td>\n",
              "      <td>0</td>\n",
              "    </tr>\n",
              "    <tr>\n",
              "      <th>4</th>\n",
              "      <td>5.0</td>\n",
              "      <td>0</td>\n",
              "      <td>1</td>\n",
              "      <td>0.016667</td>\n",
              "      <td>0</td>\n",
              "      <td>1</td>\n",
              "      <td>0</td>\n",
              "      <td>0</td>\n",
              "      <td>0</td>\n",
              "      <td>0</td>\n",
              "      <td>0</td>\n",
              "      <td>0</td>\n",
              "      <td>1</td>\n",
              "      <td>0</td>\n",
              "    </tr>\n",
              "    <tr>\n",
              "      <th>...</th>\n",
              "      <td>...</td>\n",
              "      <td>...</td>\n",
              "      <td>...</td>\n",
              "      <td>...</td>\n",
              "      <td>...</td>\n",
              "      <td>...</td>\n",
              "      <td>...</td>\n",
              "      <td>...</td>\n",
              "      <td>...</td>\n",
              "      <td>...</td>\n",
              "      <td>...</td>\n",
              "      <td>...</td>\n",
              "      <td>...</td>\n",
              "      <td>...</td>\n",
              "    </tr>\n",
              "    <tr>\n",
              "      <th>98693</th>\n",
              "      <td>9.0</td>\n",
              "      <td>1</td>\n",
              "      <td>1</td>\n",
              "      <td>3.166667</td>\n",
              "      <td>0</td>\n",
              "      <td>1</td>\n",
              "      <td>0</td>\n",
              "      <td>0</td>\n",
              "      <td>1</td>\n",
              "      <td>0</td>\n",
              "      <td>0</td>\n",
              "      <td>0</td>\n",
              "      <td>0</td>\n",
              "      <td>0</td>\n",
              "    </tr>\n",
              "    <tr>\n",
              "      <th>98694</th>\n",
              "      <td>10.0</td>\n",
              "      <td>1</td>\n",
              "      <td>1</td>\n",
              "      <td>3.100000</td>\n",
              "      <td>0</td>\n",
              "      <td>1</td>\n",
              "      <td>0</td>\n",
              "      <td>0</td>\n",
              "      <td>1</td>\n",
              "      <td>0</td>\n",
              "      <td>0</td>\n",
              "      <td>0</td>\n",
              "      <td>0</td>\n",
              "      <td>0</td>\n",
              "    </tr>\n",
              "    <tr>\n",
              "      <th>98695</th>\n",
              "      <td>11.0</td>\n",
              "      <td>1</td>\n",
              "      <td>1</td>\n",
              "      <td>3.183333</td>\n",
              "      <td>0</td>\n",
              "      <td>1</td>\n",
              "      <td>0</td>\n",
              "      <td>0</td>\n",
              "      <td>1</td>\n",
              "      <td>0</td>\n",
              "      <td>0</td>\n",
              "      <td>0</td>\n",
              "      <td>0</td>\n",
              "      <td>0</td>\n",
              "    </tr>\n",
              "    <tr>\n",
              "      <th>98696</th>\n",
              "      <td>12.0</td>\n",
              "      <td>1</td>\n",
              "      <td>1</td>\n",
              "      <td>3.116667</td>\n",
              "      <td>0</td>\n",
              "      <td>1</td>\n",
              "      <td>0</td>\n",
              "      <td>0</td>\n",
              "      <td>1</td>\n",
              "      <td>0</td>\n",
              "      <td>0</td>\n",
              "      <td>0</td>\n",
              "      <td>0</td>\n",
              "      <td>0</td>\n",
              "    </tr>\n",
              "    <tr>\n",
              "      <th>98697</th>\n",
              "      <td>13.0</td>\n",
              "      <td>1</td>\n",
              "      <td>0</td>\n",
              "      <td>0.000000</td>\n",
              "      <td>0</td>\n",
              "      <td>0</td>\n",
              "      <td>1</td>\n",
              "      <td>0</td>\n",
              "      <td>1</td>\n",
              "      <td>0</td>\n",
              "      <td>0</td>\n",
              "      <td>0</td>\n",
              "      <td>0</td>\n",
              "      <td>0</td>\n",
              "    </tr>\n",
              "  </tbody>\n",
              "</table>\n",
              "<p>87172 rows × 14 columns</p>\n",
              "</div>"
            ],
            "text/plain": [
              "       stop_sequence  rush_hour  ...  DayOfWeekID_6  DayOfWeekID_7\n",
              "0                1.0          0  ...              1              0\n",
              "1                2.0          0  ...              1              0\n",
              "2                3.0          0  ...              1              0\n",
              "3                4.0          0  ...              1              0\n",
              "4                5.0          0  ...              1              0\n",
              "...              ...        ...  ...            ...            ...\n",
              "98693            9.0          1  ...              0              0\n",
              "98694           10.0          1  ...              0              0\n",
              "98695           11.0          1  ...              0              0\n",
              "98696           12.0          1  ...              0              0\n",
              "98697           13.0          1  ...              0              0\n",
              "\n",
              "[87172 rows x 14 columns]"
            ]
          },
          "metadata": {},
          "execution_count": 16
        }
      ]
    },
    {
      "cell_type": "markdown",
      "metadata": {
        "id": "6_EyhWZAetqE"
      },
      "source": [
        "### PCA Reduction"
      ]
    },
    {
      "cell_type": "code",
      "metadata": {
        "colab": {
          "base_uri": "https://localhost:8080/"
        },
        "id": "jRGIBn8pPdeV",
        "outputId": "4b9db2ba-e1ac-4a0e-dd51-69b2ba8c7b87"
      },
      "source": [
        "from sklearn.preprocessing import StandardScaler\n",
        "Scaler = StandardScaler()\n",
        "Scaler.fit(one_hot_encoded_data)"
      ],
      "execution_count": 17,
      "outputs": [
        {
          "output_type": "execute_result",
          "data": {
            "text/plain": [
              "StandardScaler(copy=True, with_mean=True, with_std=True)"
            ]
          },
          "metadata": {},
          "execution_count": 17
        }
      ]
    },
    {
      "cell_type": "code",
      "metadata": {
        "id": "rx7o9AyZP6ne"
      },
      "source": [
        "scaledData = Scaler.transform(one_hot_encoded_data)"
      ],
      "execution_count": 18,
      "outputs": []
    },
    {
      "cell_type": "code",
      "metadata": {
        "colab": {
          "base_uri": "https://localhost:8080/"
        },
        "id": "JtdQTn3XP9R9",
        "outputId": "1f54ec9b-8fa9-43bc-d8b3-ac87225f3d89"
      },
      "source": [
        "scaledData"
      ],
      "execution_count": 19,
      "outputs": [
        {
          "output_type": "execute_result",
          "data": {
            "text/plain": [
              "array([[-1.41384053, -0.92679852,  0.48423763, ..., -0.36107013,\n",
              "         2.14942123, -0.41537147],\n",
              "       [-1.21320776, -0.92679852,  0.48423763, ..., -0.36107013,\n",
              "         2.14942123, -0.41537147],\n",
              "       [-1.01257499, -0.92679852,  0.48423763, ..., -0.36107013,\n",
              "         2.14942123, -0.41537147],\n",
              "       ...,\n",
              "       [ 0.59248718,  1.07898317,  0.48423763, ..., -0.36107013,\n",
              "        -0.46524152, -0.41537147],\n",
              "       [ 0.79311995,  1.07898317,  0.48423763, ..., -0.36107013,\n",
              "        -0.46524152, -0.41537147],\n",
              "       [ 0.99375272,  1.07898317, -2.06510181, ..., -0.36107013,\n",
              "        -0.46524152, -0.41537147]])"
            ]
          },
          "metadata": {},
          "execution_count": 19
        }
      ]
    },
    {
      "cell_type": "code",
      "metadata": {
        "id": "OWh9zBIOQElu"
      },
      "source": [
        "from sklearn.decomposition import PCA\n",
        "\n",
        "pca = PCA(n_components=2)"
      ],
      "execution_count": 20,
      "outputs": []
    },
    {
      "cell_type": "code",
      "metadata": {
        "id": "zo9WDYZtQF2v"
      },
      "source": [
        "pca_xnew = pca.fit(scaledData)"
      ],
      "execution_count": 21,
      "outputs": []
    },
    {
      "cell_type": "code",
      "metadata": {
        "id": "6dfQw53UQI9f"
      },
      "source": [
        "x_pca = pca.transform(scaledData)"
      ],
      "execution_count": 22,
      "outputs": []
    },
    {
      "cell_type": "code",
      "metadata": {
        "colab": {
          "base_uri": "https://localhost:8080/"
        },
        "id": "Vp6z4BKFQKrO",
        "outputId": "128d08a8-cc22-4667-d68c-b8541a67c4e4"
      },
      "source": [
        "scaledData.shape"
      ],
      "execution_count": 23,
      "outputs": [
        {
          "output_type": "execute_result",
          "data": {
            "text/plain": [
              "(87172, 14)"
            ]
          },
          "metadata": {},
          "execution_count": 23
        }
      ]
    },
    {
      "cell_type": "code",
      "metadata": {
        "colab": {
          "base_uri": "https://localhost:8080/"
        },
        "id": "8-wcIt0UQMef",
        "outputId": "2705a31c-6d03-4cb5-fb11-b15242d12df5"
      },
      "source": [
        "x_pca.shape"
      ],
      "execution_count": 24,
      "outputs": [
        {
          "output_type": "execute_result",
          "data": {
            "text/plain": [
              "(87172, 2)"
            ]
          },
          "metadata": {},
          "execution_count": 24
        }
      ]
    },
    {
      "cell_type": "code",
      "metadata": {
        "colab": {
          "base_uri": "https://localhost:8080/"
        },
        "id": "X19z2DGhQVxQ",
        "outputId": "319ec8fa-8a45-4449-aec5-edf575019d1e"
      },
      "source": [
        "scaledData"
      ],
      "execution_count": 25,
      "outputs": [
        {
          "output_type": "execute_result",
          "data": {
            "text/plain": [
              "array([[-1.41384053, -0.92679852,  0.48423763, ..., -0.36107013,\n",
              "         2.14942123, -0.41537147],\n",
              "       [-1.21320776, -0.92679852,  0.48423763, ..., -0.36107013,\n",
              "         2.14942123, -0.41537147],\n",
              "       [-1.01257499, -0.92679852,  0.48423763, ..., -0.36107013,\n",
              "         2.14942123, -0.41537147],\n",
              "       ...,\n",
              "       [ 0.59248718,  1.07898317,  0.48423763, ..., -0.36107013,\n",
              "        -0.46524152, -0.41537147],\n",
              "       [ 0.79311995,  1.07898317,  0.48423763, ..., -0.36107013,\n",
              "        -0.46524152, -0.41537147],\n",
              "       [ 0.99375272,  1.07898317, -2.06510181, ..., -0.36107013,\n",
              "        -0.46524152, -0.41537147]])"
            ]
          },
          "metadata": {},
          "execution_count": 25
        }
      ]
    },
    {
      "cell_type": "code",
      "metadata": {
        "colab": {
          "base_uri": "https://localhost:8080/"
        },
        "id": "wQuVnj-PQX2H",
        "outputId": "7b1c4760-e4bc-491c-c2ea-2e0d2c6180de"
      },
      "source": [
        "x_pca"
      ],
      "execution_count": 26,
      "outputs": [
        {
          "output_type": "execute_result",
          "data": {
            "text/plain": [
              "array([[-1.04513304,  0.16260719],\n",
              "       [-0.97684998,  0.11887423],\n",
              "       [-0.93252916,  0.03446327],\n",
              "       ...,\n",
              "       [-0.62542217, -0.76304955],\n",
              "       [-0.57269575, -0.83319126],\n",
              "       [ 4.30502824, -1.96132858]])"
            ]
          },
          "metadata": {},
          "execution_count": 26
        }
      ]
    },
    {
      "cell_type": "code",
      "metadata": {
        "id": "8oJs8WhDGYre"
      },
      "source": [
        "Data = one_hot_encoded_data.drop(['delay_minutes'], axis = 1)\n"
      ],
      "execution_count": 27,
      "outputs": []
    },
    {
      "cell_type": "code",
      "metadata": {
        "id": "vUMraUjTV8Ug"
      },
      "source": [
        "# load data into X variables\n",
        "X = Data"
      ],
      "execution_count": 28,
      "outputs": []
    },
    {
      "cell_type": "code",
      "metadata": {
        "id": "naBAwjjaWAIJ"
      },
      "source": [
        "# need to standardize the features\n",
        "X_std = StandardScaler().fit_transform(X)\n"
      ],
      "execution_count": 29,
      "outputs": []
    },
    {
      "cell_type": "markdown",
      "metadata": {
        "id": "Ltr2w28RWg4z"
      },
      "source": [
        "### PCA K Means"
      ]
    },
    {
      "cell_type": "code",
      "metadata": {
        "id": "kjx22bJvWivZ"
      },
      "source": [
        "#Adjusting the PCA model to have 2 components:\n",
        "pca = PCA(n_components=2)\n",
        "pcadf_pca = pca.fit_transform(X_std)"
      ],
      "execution_count": 30,
      "outputs": []
    },
    {
      "cell_type": "code",
      "metadata": {
        "colab": {
          "base_uri": "https://localhost:8080/"
        },
        "id": "BZUofPvj0lvF",
        "outputId": "f2831cd8-ff53-403e-9f94-10464e5752c8"
      },
      "source": [
        "# Defining the k-means\n",
        "kmeans_cluster = KMeans(n_clusters=3, random_state=42, max_iter=5000)\n",
        "\n",
        "# Fit model\n",
        "%timeit kmeans_cluster.fit(pcadf_pca)\n",
        "km_y_pred3 = kmeans_cluster.predict(pcadf_pca)\n",
        "print()\n",
        "print(\"The silhouette score of the k-Means solution: {}\"\n",
        "      .format(metrics.silhouette_score(pcadf_pca, km_y_pred3, metric='euclidean')))\n"
      ],
      "execution_count": 31,
      "outputs": [
        {
          "output_type": "stream",
          "name": "stdout",
          "text": [
            "1 loop, best of 5: 390 ms per loop\n",
            "\n",
            "The silhouette score of the k-Means solution: 0.7885047949505337\n"
          ]
        }
      ]
    },
    {
      "cell_type": "code",
      "metadata": {
        "colab": {
          "base_uri": "https://localhost:8080/",
          "height": 281
        },
        "id": "IW_VS9dW0l4R",
        "outputId": "73acffc5-fcfe-4e68-aeb8-2ccbdc0a7d44"
      },
      "source": [
        "# Plot the solution.\n",
        "sns.scatterplot(pcadf_pca[:,0], pcadf_pca[:,1], hue = km_y_pred3)\n",
        "plt.title(\"K = 3\")\n",
        "plt.legend()\n",
        "plt.show()"
      ],
      "execution_count": 32,
      "outputs": [
        {
          "output_type": "display_data",
          "data": {
            "image/png": "[encoded data removed]",
            "text/plain": [
              "<Figure size 432x288 with 1 Axes>"
            ]
          },
          "metadata": {
            "needs_background": "light"
          }
        }
      ]
    },
    {
      "cell_type": "code",
      "metadata": {
        "colab": {
          "base_uri": "https://localhost:8080/"
        },
        "id": "WXk5gzRhrpF8",
        "outputId": "140b9edd-6356-4e75-cf3a-9d195840c027"
      },
      "source": [
        "# Defining the k-means\n",
        "kmeans_cluster = KMeans(n_clusters=4, random_state=42, max_iter=5000)\n",
        "\n",
        "# Fit model\n",
        "%timeit kmeans_cluster.fit(pcadf_pca)\n",
        "km_y_pred4 = kmeans_cluster.predict(pcadf_pca)\n",
        "print()\n",
        "print(\"The silhouette score of the k-Means solution: {}\"\n",
        "      .format(metrics.silhouette_score(pcadf_pca, km_y_pred4, metric='euclidean')))\n"
      ],
      "execution_count": 33,
      "outputs": [
        {
          "output_type": "stream",
          "name": "stdout",
          "text": [
            "1 loop, best of 5: 535 ms per loop\n",
            "\n",
            "The silhouette score of the k-Means solution: 0.6758763880478025\n"
          ]
        }
      ]
    },
    {
      "cell_type": "code",
      "metadata": {
        "colab": {
          "base_uri": "https://localhost:8080/",
          "height": 281
        },
        "id": "QM0sWYYXtQql",
        "outputId": "5c1d4c21-196c-47cb-9e8d-9a3284d57bc3"
      },
      "source": [
        "sns.scatterplot(pcadf_pca[:,0], pcadf_pca[:,1], hue = km_y_pred4)\n",
        "plt.title(\"K = 4\")\n",
        "plt.legend()\n",
        "plt.show()"
      ],
      "execution_count": 34,
      "outputs": [
        {
          "output_type": "display_data",
          "data": {
            "image/png": "[encoded data removed]",
            "text/plain": [
              "<Figure size 432x288 with 1 Axes>"
            ]
          },
          "metadata": {
            "needs_background": "light"
          }
        }
      ]
    },
    {
      "cell_type": "code",
      "metadata": {
        "colab": {
          "base_uri": "https://localhost:8080/",
          "height": 414
        },
        "id": "6qAk7Qfhnww_",
        "outputId": "d2bfb24d-0ee6-4f0f-f7aa-b1d87ab006f9"
      },
      "source": [
        "one_hot_encoded_data['Cluster'] = pd.Series(km_y_pred4, index=one_hot_encoded_data.index)\n",
        "one_hot_encoded_data"
      ],
      "execution_count": 35,
      "outputs": [
        {
          "output_type": "execute_result",
          "data": {
            "text/html": [
              "<div>\n",
              "<style scoped>\n",
              "    .dataframe tbody tr th:only-of-type {\n",
              "        vertical-align: middle;\n",
              "    }\n",
              "\n",
              "    .dataframe tbody tr th {\n",
              "        vertical-align: top;\n",
              "    }\n",
              "\n",
              "    .dataframe thead th {\n",
              "        text-align: right;\n",
              "    }\n",
              "</style>\n",
              "<table border=\"1\" class=\"dataframe\">\n",
              "  <thead>\n",
              "    <tr style=\"text-align: right;\">\n",
              "      <th></th>\n",
              "      <th>stop_sequence</th>\n",
              "      <th>rush_hour</th>\n",
              "      <th>is_Delayed_id</th>\n",
              "      <th>delay_minutes</th>\n",
              "      <th>statusID_0</th>\n",
              "      <th>statusID_1</th>\n",
              "      <th>statusID_2</th>\n",
              "      <th>DayOfWeekID_1</th>\n",
              "      <th>DayOfWeekID_2</th>\n",
              "      <th>DayOfWeekID_3</th>\n",
              "      <th>DayOfWeekID_4</th>\n",
              "      <th>DayOfWeekID_5</th>\n",
              "      <th>DayOfWeekID_6</th>\n",
              "      <th>DayOfWeekID_7</th>\n",
              "      <th>Cluster</th>\n",
              "    </tr>\n",
              "  </thead>\n",
              "  <tbody>\n",
              "    <tr>\n",
              "      <th>0</th>\n",
              "      <td>1.0</td>\n",
              "      <td>0</td>\n",
              "      <td>1</td>\n",
              "      <td>2.150000</td>\n",
              "      <td>0</td>\n",
              "      <td>1</td>\n",
              "      <td>0</td>\n",
              "      <td>0</td>\n",
              "      <td>0</td>\n",
              "      <td>0</td>\n",
              "      <td>0</td>\n",
              "      <td>0</td>\n",
              "      <td>1</td>\n",
              "      <td>0</td>\n",
              "      <td>0</td>\n",
              "    </tr>\n",
              "    <tr>\n",
              "      <th>1</th>\n",
              "      <td>2.0</td>\n",
              "      <td>0</td>\n",
              "      <td>1</td>\n",
              "      <td>0.016667</td>\n",
              "      <td>0</td>\n",
              "      <td>1</td>\n",
              "      <td>0</td>\n",
              "      <td>0</td>\n",
              "      <td>0</td>\n",
              "      <td>0</td>\n",
              "      <td>0</td>\n",
              "      <td>0</td>\n",
              "      <td>1</td>\n",
              "      <td>0</td>\n",
              "      <td>0</td>\n",
              "    </tr>\n",
              "    <tr>\n",
              "      <th>2</th>\n",
              "      <td>3.0</td>\n",
              "      <td>0</td>\n",
              "      <td>1</td>\n",
              "      <td>1.066667</td>\n",
              "      <td>0</td>\n",
              "      <td>1</td>\n",
              "      <td>0</td>\n",
              "      <td>0</td>\n",
              "      <td>0</td>\n",
              "      <td>0</td>\n",
              "      <td>0</td>\n",
              "      <td>0</td>\n",
              "      <td>1</td>\n",
              "      <td>0</td>\n",
              "      <td>0</td>\n",
              "    </tr>\n",
              "    <tr>\n",
              "      <th>3</th>\n",
              "      <td>4.0</td>\n",
              "      <td>0</td>\n",
              "      <td>1</td>\n",
              "      <td>0.516667</td>\n",
              "      <td>0</td>\n",
              "      <td>1</td>\n",
              "      <td>0</td>\n",
              "      <td>0</td>\n",
              "      <td>0</td>\n",
              "      <td>0</td>\n",
              "      <td>0</td>\n",
              "      <td>0</td>\n",
              "      <td>1</td>\n",
              "      <td>0</td>\n",
              "      <td>0</td>\n",
              "    </tr>\n",
              "    <tr>\n",
              "      <th>4</th>\n",
              "      <td>5.0</td>\n",
              "      <td>0</td>\n",
              "      <td>1</td>\n",
              "      <td>0.016667</td>\n",
              "      <td>0</td>\n",
              "      <td>1</td>\n",
              "      <td>0</td>\n",
              "      <td>0</td>\n",
              "      <td>0</td>\n",
              "      <td>0</td>\n",
              "      <td>0</td>\n",
              "      <td>0</td>\n",
              "      <td>1</td>\n",
              "      <td>0</td>\n",
              "      <td>0</td>\n",
              "    </tr>\n",
              "    <tr>\n",
              "      <th>...</th>\n",
              "      <td>...</td>\n",
              "      <td>...</td>\n",
              "      <td>...</td>\n",
              "      <td>...</td>\n",
              "      <td>...</td>\n",
              "      <td>...</td>\n",
              "      <td>...</td>\n",
              "      <td>...</td>\n",
              "      <td>...</td>\n",
              "      <td>...</td>\n",
              "      <td>...</td>\n",
              "      <td>...</td>\n",
              "      <td>...</td>\n",
              "      <td>...</td>\n",
              "      <td>...</td>\n",
              "    </tr>\n",
              "    <tr>\n",
              "      <th>98693</th>\n",
              "      <td>9.0</td>\n",
              "      <td>1</td>\n",
              "      <td>1</td>\n",
              "      <td>3.166667</td>\n",
              "      <td>0</td>\n",
              "      <td>1</td>\n",
              "      <td>0</td>\n",
              "      <td>0</td>\n",
              "      <td>1</td>\n",
              "      <td>0</td>\n",
              "      <td>0</td>\n",
              "      <td>0</td>\n",
              "      <td>0</td>\n",
              "      <td>0</td>\n",
              "      <td>0</td>\n",
              "    </tr>\n",
              "    <tr>\n",
              "      <th>98694</th>\n",
              "      <td>10.0</td>\n",
              "      <td>1</td>\n",
              "      <td>1</td>\n",
              "      <td>3.100000</td>\n",
              "      <td>0</td>\n",
              "      <td>1</td>\n",
              "      <td>0</td>\n",
              "      <td>0</td>\n",
              "      <td>1</td>\n",
              "      <td>0</td>\n",
              "      <td>0</td>\n",
              "      <td>0</td>\n",
              "      <td>0</td>\n",
              "      <td>0</td>\n",
              "      <td>0</td>\n",
              "    </tr>\n",
              "    <tr>\n",
              "      <th>98695</th>\n",
              "      <td>11.0</td>\n",
              "      <td>1</td>\n",
              "      <td>1</td>\n",
              "      <td>3.183333</td>\n",
              "      <td>0</td>\n",
              "      <td>1</td>\n",
              "      <td>0</td>\n",
              "      <td>0</td>\n",
              "      <td>1</td>\n",
              "      <td>0</td>\n",
              "      <td>0</td>\n",
              "      <td>0</td>\n",
              "      <td>0</td>\n",
              "      <td>0</td>\n",
              "      <td>0</td>\n",
              "    </tr>\n",
              "    <tr>\n",
              "      <th>98696</th>\n",
              "      <td>12.0</td>\n",
              "      <td>1</td>\n",
              "      <td>1</td>\n",
              "      <td>3.116667</td>\n",
              "      <td>0</td>\n",
              "      <td>1</td>\n",
              "      <td>0</td>\n",
              "      <td>0</td>\n",
              "      <td>1</td>\n",
              "      <td>0</td>\n",
              "      <td>0</td>\n",
              "      <td>0</td>\n",
              "      <td>0</td>\n",
              "      <td>0</td>\n",
              "      <td>0</td>\n",
              "    </tr>\n",
              "    <tr>\n",
              "      <th>98697</th>\n",
              "      <td>13.0</td>\n",
              "      <td>1</td>\n",
              "      <td>0</td>\n",
              "      <td>0.000000</td>\n",
              "      <td>0</td>\n",
              "      <td>0</td>\n",
              "      <td>1</td>\n",
              "      <td>0</td>\n",
              "      <td>1</td>\n",
              "      <td>0</td>\n",
              "      <td>0</td>\n",
              "      <td>0</td>\n",
              "      <td>0</td>\n",
              "      <td>0</td>\n",
              "      <td>1</td>\n",
              "    </tr>\n",
              "  </tbody>\n",
              "</table>\n",
              "<p>87172 rows × 15 columns</p>\n",
              "</div>"
            ],
            "text/plain": [
              "       stop_sequence  rush_hour  ...  DayOfWeekID_7  Cluster\n",
              "0                1.0          0  ...              0        0\n",
              "1                2.0          0  ...              0        0\n",
              "2                3.0          0  ...              0        0\n",
              "3                4.0          0  ...              0        0\n",
              "4                5.0          0  ...              0        0\n",
              "...              ...        ...  ...            ...      ...\n",
              "98693            9.0          1  ...              0        0\n",
              "98694           10.0          1  ...              0        0\n",
              "98695           11.0          1  ...              0        0\n",
              "98696           12.0          1  ...              0        0\n",
              "98697           13.0          1  ...              0        1\n",
              "\n",
              "[87172 rows x 15 columns]"
            ]
          },
          "metadata": {},
          "execution_count": 35
        }
      ]
    },
    {
      "cell_type": "code",
      "metadata": {
        "colab": {
          "base_uri": "https://localhost:8080/",
          "height": 414
        },
        "id": "2-PpgX_Fr_jd",
        "outputId": "8d0261e1-d2b4-4c98-e667-052c5b02915c"
      },
      "source": [
        "friTrain = one_hot_encoded_data.drop(['DayOfWeekID_1', 'DayOfWeekID_2', 'DayOfWeekID_3', 'DayOfWeekID_4', 'DayOfWeekID_5', 'DayOfWeekID_7'], axis=1)\n",
        "friTrain = friTrain[friTrain['is_Delayed_id']== 1]\n",
        "friTrain = friTrain[friTrain['DayOfWeekID_6']== 1]\n",
        "\n",
        "friTrain"
      ],
      "execution_count": 36,
      "outputs": [
        {
          "output_type": "execute_result",
          "data": {
            "text/html": [
              "<div>\n",
              "<style scoped>\n",
              "    .dataframe tbody tr th:only-of-type {\n",
              "        vertical-align: middle;\n",
              "    }\n",
              "\n",
              "    .dataframe tbody tr th {\n",
              "        vertical-align: top;\n",
              "    }\n",
              "\n",
              "    .dataframe thead th {\n",
              "        text-align: right;\n",
              "    }\n",
              "</style>\n",
              "<table border=\"1\" class=\"dataframe\">\n",
              "  <thead>\n",
              "    <tr style=\"text-align: right;\">\n",
              "      <th></th>\n",
              "      <th>stop_sequence</th>\n",
              "      <th>rush_hour</th>\n",
              "      <th>is_Delayed_id</th>\n",
              "      <th>delay_minutes</th>\n",
              "      <th>statusID_0</th>\n",
              "      <th>statusID_1</th>\n",
              "      <th>statusID_2</th>\n",
              "      <th>DayOfWeekID_6</th>\n",
              "      <th>Cluster</th>\n",
              "    </tr>\n",
              "  </thead>\n",
              "  <tbody>\n",
              "    <tr>\n",
              "      <th>0</th>\n",
              "      <td>1.0</td>\n",
              "      <td>0</td>\n",
              "      <td>1</td>\n",
              "      <td>2.150000</td>\n",
              "      <td>0</td>\n",
              "      <td>1</td>\n",
              "      <td>0</td>\n",
              "      <td>1</td>\n",
              "      <td>0</td>\n",
              "    </tr>\n",
              "    <tr>\n",
              "      <th>1</th>\n",
              "      <td>2.0</td>\n",
              "      <td>0</td>\n",
              "      <td>1</td>\n",
              "      <td>0.016667</td>\n",
              "      <td>0</td>\n",
              "      <td>1</td>\n",
              "      <td>0</td>\n",
              "      <td>1</td>\n",
              "      <td>0</td>\n",
              "    </tr>\n",
              "    <tr>\n",
              "      <th>2</th>\n",
              "      <td>3.0</td>\n",
              "      <td>0</td>\n",
              "      <td>1</td>\n",
              "      <td>1.066667</td>\n",
              "      <td>0</td>\n",
              "      <td>1</td>\n",
              "      <td>0</td>\n",
              "      <td>1</td>\n",
              "      <td>0</td>\n",
              "    </tr>\n",
              "    <tr>\n",
              "      <th>3</th>\n",
              "      <td>4.0</td>\n",
              "      <td>0</td>\n",
              "      <td>1</td>\n",
              "      <td>0.516667</td>\n",
              "      <td>0</td>\n",
              "      <td>1</td>\n",
              "      <td>0</td>\n",
              "      <td>1</td>\n",
              "      <td>0</td>\n",
              "    </tr>\n",
              "    <tr>\n",
              "      <th>4</th>\n",
              "      <td>5.0</td>\n",
              "      <td>0</td>\n",
              "      <td>1</td>\n",
              "      <td>0.016667</td>\n",
              "      <td>0</td>\n",
              "      <td>1</td>\n",
              "      <td>0</td>\n",
              "      <td>1</td>\n",
              "      <td>0</td>\n",
              "    </tr>\n",
              "    <tr>\n",
              "      <th>...</th>\n",
              "      <td>...</td>\n",
              "      <td>...</td>\n",
              "      <td>...</td>\n",
              "      <td>...</td>\n",
              "      <td>...</td>\n",
              "      <td>...</td>\n",
              "      <td>...</td>\n",
              "      <td>...</td>\n",
              "      <td>...</td>\n",
              "    </tr>\n",
              "    <tr>\n",
              "      <th>83855</th>\n",
              "      <td>1.0</td>\n",
              "      <td>0</td>\n",
              "      <td>1</td>\n",
              "      <td>2.116667</td>\n",
              "      <td>0</td>\n",
              "      <td>1</td>\n",
              "      <td>0</td>\n",
              "      <td>1</td>\n",
              "      <td>0</td>\n",
              "    </tr>\n",
              "    <tr>\n",
              "      <th>83856</th>\n",
              "      <td>2.0</td>\n",
              "      <td>0</td>\n",
              "      <td>1</td>\n",
              "      <td>6.000000</td>\n",
              "      <td>0</td>\n",
              "      <td>1</td>\n",
              "      <td>0</td>\n",
              "      <td>1</td>\n",
              "      <td>0</td>\n",
              "    </tr>\n",
              "    <tr>\n",
              "      <th>83857</th>\n",
              "      <td>3.0</td>\n",
              "      <td>0</td>\n",
              "      <td>1</td>\n",
              "      <td>1.116667</td>\n",
              "      <td>0</td>\n",
              "      <td>1</td>\n",
              "      <td>0</td>\n",
              "      <td>1</td>\n",
              "      <td>0</td>\n",
              "    </tr>\n",
              "    <tr>\n",
              "      <th>83858</th>\n",
              "      <td>4.0</td>\n",
              "      <td>0</td>\n",
              "      <td>1</td>\n",
              "      <td>0.300000</td>\n",
              "      <td>0</td>\n",
              "      <td>1</td>\n",
              "      <td>0</td>\n",
              "      <td>1</td>\n",
              "      <td>0</td>\n",
              "    </tr>\n",
              "    <tr>\n",
              "      <th>83859</th>\n",
              "      <td>5.0</td>\n",
              "      <td>0</td>\n",
              "      <td>1</td>\n",
              "      <td>0.066667</td>\n",
              "      <td>0</td>\n",
              "      <td>1</td>\n",
              "      <td>0</td>\n",
              "      <td>1</td>\n",
              "      <td>0</td>\n",
              "    </tr>\n",
              "  </tbody>\n",
              "</table>\n",
              "<p>12831 rows × 9 columns</p>\n",
              "</div>"
            ],
            "text/plain": [
              "       stop_sequence  rush_hour  ...  DayOfWeekID_6  Cluster\n",
              "0                1.0          0  ...              1        0\n",
              "1                2.0          0  ...              1        0\n",
              "2                3.0          0  ...              1        0\n",
              "3                4.0          0  ...              1        0\n",
              "4                5.0          0  ...              1        0\n",
              "...              ...        ...  ...            ...      ...\n",
              "83855            1.0          0  ...              1        0\n",
              "83856            2.0          0  ...              1        0\n",
              "83857            3.0          0  ...              1        0\n",
              "83858            4.0          0  ...              1        0\n",
              "83859            5.0          0  ...              1        0\n",
              "\n",
              "[12831 rows x 9 columns]"
            ]
          },
          "metadata": {},
          "execution_count": 36
        }
      ]
    },
    {
      "cell_type": "code",
      "metadata": {
        "colab": {
          "base_uri": "https://localhost:8080/",
          "height": 296
        },
        "id": "uGpkN6Jytw1K",
        "outputId": "e2fa78c9-f396-4864-900d-a2949c619af5"
      },
      "source": [
        "sns.countplot(friTrain['Cluster'])\n"
      ],
      "execution_count": 37,
      "outputs": [
        {
          "output_type": "execute_result",
          "data": {
            "text/plain": [
              "<matplotlib.axes._subplots.AxesSubplot at 0x7f63883b60d0>"
            ]
          },
          "metadata": {},
          "execution_count": 37
        },
        {
          "output_type": "display_data",
          "data": {
            "image/png": "[encoded data removed]",
            "text/plain": [
              "<Figure size 432x288 with 1 Axes>"
            ]
          },
          "metadata": {
            "needs_background": "light"
          }
        }
      ]
    },
    {
      "cell_type": "code",
      "metadata": {
        "colab": {
          "base_uri": "https://localhost:8080/"
        },
        "id": "TjyEIEE8xnOY",
        "outputId": "b093d111-1f38-4b0e-8584-78c42ed13233"
      },
      "source": [
        "friTrain['is_Delayed_id'].value_counts()"
      ],
      "execution_count": 38,
      "outputs": [
        {
          "output_type": "execute_result",
          "data": {
            "text/plain": [
              "1    12831\n",
              "Name: is_Delayed_id, dtype: int64"
            ]
          },
          "metadata": {},
          "execution_count": 38
        }
      ]
    },
    {
      "cell_type": "code",
      "metadata": {
        "colab": {
          "base_uri": "https://localhost:8080/",
          "height": 414
        },
        "id": "9oKqKyi2sXeo",
        "outputId": "912d806f-dad5-4f1c-ccfe-0ba11365adc2"
      },
      "source": [
        "rushweek = one_hot_encoded_data.drop(['DayOfWeekID_1', 'DayOfWeekID_7'], axis=1)\n",
        "rushweek = rushweek[rushweek['is_Delayed_id']== 1]\n",
        "rushweek = rushweek[rushweek['rush_hour']== 1]\n",
        "\n",
        "rushweek"
      ],
      "execution_count": 39,
      "outputs": [
        {
          "output_type": "execute_result",
          "data": {
            "text/html": [
              "<div>\n",
              "<style scoped>\n",
              "    .dataframe tbody tr th:only-of-type {\n",
              "        vertical-align: middle;\n",
              "    }\n",
              "\n",
              "    .dataframe tbody tr th {\n",
              "        vertical-align: top;\n",
              "    }\n",
              "\n",
              "    .dataframe thead th {\n",
              "        text-align: right;\n",
              "    }\n",
              "</style>\n",
              "<table border=\"1\" class=\"dataframe\">\n",
              "  <thead>\n",
              "    <tr style=\"text-align: right;\">\n",
              "      <th></th>\n",
              "      <th>stop_sequence</th>\n",
              "      <th>rush_hour</th>\n",
              "      <th>is_Delayed_id</th>\n",
              "      <th>delay_minutes</th>\n",
              "      <th>statusID_0</th>\n",
              "      <th>statusID_1</th>\n",
              "      <th>statusID_2</th>\n",
              "      <th>DayOfWeekID_2</th>\n",
              "      <th>DayOfWeekID_3</th>\n",
              "      <th>DayOfWeekID_4</th>\n",
              "      <th>DayOfWeekID_5</th>\n",
              "      <th>DayOfWeekID_6</th>\n",
              "      <th>Cluster</th>\n",
              "    </tr>\n",
              "  </thead>\n",
              "  <tbody>\n",
              "    <tr>\n",
              "      <th>13</th>\n",
              "      <td>1.0</td>\n",
              "      <td>1</td>\n",
              "      <td>1</td>\n",
              "      <td>0.166667</td>\n",
              "      <td>0</td>\n",
              "      <td>1</td>\n",
              "      <td>0</td>\n",
              "      <td>0</td>\n",
              "      <td>0</td>\n",
              "      <td>0</td>\n",
              "      <td>0</td>\n",
              "      <td>1</td>\n",
              "      <td>0</td>\n",
              "    </tr>\n",
              "    <tr>\n",
              "      <th>14</th>\n",
              "      <td>2.0</td>\n",
              "      <td>1</td>\n",
              "      <td>1</td>\n",
              "      <td>1.366667</td>\n",
              "      <td>0</td>\n",
              "      <td>1</td>\n",
              "      <td>0</td>\n",
              "      <td>0</td>\n",
              "      <td>0</td>\n",
              "      <td>0</td>\n",
              "      <td>0</td>\n",
              "      <td>1</td>\n",
              "      <td>0</td>\n",
              "    </tr>\n",
              "    <tr>\n",
              "      <th>15</th>\n",
              "      <td>3.0</td>\n",
              "      <td>1</td>\n",
              "      <td>1</td>\n",
              "      <td>0.066667</td>\n",
              "      <td>0</td>\n",
              "      <td>1</td>\n",
              "      <td>0</td>\n",
              "      <td>0</td>\n",
              "      <td>0</td>\n",
              "      <td>0</td>\n",
              "      <td>0</td>\n",
              "      <td>1</td>\n",
              "      <td>0</td>\n",
              "    </tr>\n",
              "    <tr>\n",
              "      <th>16</th>\n",
              "      <td>4.0</td>\n",
              "      <td>1</td>\n",
              "      <td>1</td>\n",
              "      <td>1.283333</td>\n",
              "      <td>0</td>\n",
              "      <td>1</td>\n",
              "      <td>0</td>\n",
              "      <td>0</td>\n",
              "      <td>0</td>\n",
              "      <td>0</td>\n",
              "      <td>0</td>\n",
              "      <td>1</td>\n",
              "      <td>0</td>\n",
              "    </tr>\n",
              "    <tr>\n",
              "      <th>17</th>\n",
              "      <td>5.0</td>\n",
              "      <td>1</td>\n",
              "      <td>1</td>\n",
              "      <td>1.066667</td>\n",
              "      <td>0</td>\n",
              "      <td>1</td>\n",
              "      <td>0</td>\n",
              "      <td>0</td>\n",
              "      <td>0</td>\n",
              "      <td>0</td>\n",
              "      <td>0</td>\n",
              "      <td>1</td>\n",
              "      <td>0</td>\n",
              "    </tr>\n",
              "    <tr>\n",
              "      <th>...</th>\n",
              "      <td>...</td>\n",
              "      <td>...</td>\n",
              "      <td>...</td>\n",
              "      <td>...</td>\n",
              "      <td>...</td>\n",
              "      <td>...</td>\n",
              "      <td>...</td>\n",
              "      <td>...</td>\n",
              "      <td>...</td>\n",
              "      <td>...</td>\n",
              "      <td>...</td>\n",
              "      <td>...</td>\n",
              "      <td>...</td>\n",
              "    </tr>\n",
              "    <tr>\n",
              "      <th>98692</th>\n",
              "      <td>8.0</td>\n",
              "      <td>1</td>\n",
              "      <td>1</td>\n",
              "      <td>3.083333</td>\n",
              "      <td>0</td>\n",
              "      <td>1</td>\n",
              "      <td>0</td>\n",
              "      <td>1</td>\n",
              "      <td>0</td>\n",
              "      <td>0</td>\n",
              "      <td>0</td>\n",
              "      <td>0</td>\n",
              "      <td>0</td>\n",
              "    </tr>\n",
              "    <tr>\n",
              "      <th>98693</th>\n",
              "      <td>9.0</td>\n",
              "      <td>1</td>\n",
              "      <td>1</td>\n",
              "      <td>3.166667</td>\n",
              "      <td>0</td>\n",
              "      <td>1</td>\n",
              "      <td>0</td>\n",
              "      <td>1</td>\n",
              "      <td>0</td>\n",
              "      <td>0</td>\n",
              "      <td>0</td>\n",
              "      <td>0</td>\n",
              "      <td>0</td>\n",
              "    </tr>\n",
              "    <tr>\n",
              "      <th>98694</th>\n",
              "      <td>10.0</td>\n",
              "      <td>1</td>\n",
              "      <td>1</td>\n",
              "      <td>3.100000</td>\n",
              "      <td>0</td>\n",
              "      <td>1</td>\n",
              "      <td>0</td>\n",
              "      <td>1</td>\n",
              "      <td>0</td>\n",
              "      <td>0</td>\n",
              "      <td>0</td>\n",
              "      <td>0</td>\n",
              "      <td>0</td>\n",
              "    </tr>\n",
              "    <tr>\n",
              "      <th>98695</th>\n",
              "      <td>11.0</td>\n",
              "      <td>1</td>\n",
              "      <td>1</td>\n",
              "      <td>3.183333</td>\n",
              "      <td>0</td>\n",
              "      <td>1</td>\n",
              "      <td>0</td>\n",
              "      <td>1</td>\n",
              "      <td>0</td>\n",
              "      <td>0</td>\n",
              "      <td>0</td>\n",
              "      <td>0</td>\n",
              "      <td>0</td>\n",
              "    </tr>\n",
              "    <tr>\n",
              "      <th>98696</th>\n",
              "      <td>12.0</td>\n",
              "      <td>1</td>\n",
              "      <td>1</td>\n",
              "      <td>3.116667</td>\n",
              "      <td>0</td>\n",
              "      <td>1</td>\n",
              "      <td>0</td>\n",
              "      <td>1</td>\n",
              "      <td>0</td>\n",
              "      <td>0</td>\n",
              "      <td>0</td>\n",
              "      <td>0</td>\n",
              "      <td>0</td>\n",
              "    </tr>\n",
              "  </tbody>\n",
              "</table>\n",
              "<p>33085 rows × 13 columns</p>\n",
              "</div>"
            ],
            "text/plain": [
              "       stop_sequence  rush_hour  ...  DayOfWeekID_6  Cluster\n",
              "13               1.0          1  ...              1        0\n",
              "14               2.0          1  ...              1        0\n",
              "15               3.0          1  ...              1        0\n",
              "16               4.0          1  ...              1        0\n",
              "17               5.0          1  ...              1        0\n",
              "...              ...        ...  ...            ...      ...\n",
              "98692            8.0          1  ...              0        0\n",
              "98693            9.0          1  ...              0        0\n",
              "98694           10.0          1  ...              0        0\n",
              "98695           11.0          1  ...              0        0\n",
              "98696           12.0          1  ...              0        0\n",
              "\n",
              "[33085 rows x 13 columns]"
            ]
          },
          "metadata": {},
          "execution_count": 39
        }
      ]
    },
    {
      "cell_type": "code",
      "metadata": {
        "colab": {
          "base_uri": "https://localhost:8080/",
          "height": 296
        },
        "id": "ehFtIjbdxw65",
        "outputId": "7e7ed5c0-69b6-476b-9376-9ea4cbe2658e"
      },
      "source": [
        "sns.countplot(rushweek['Cluster'])\n"
      ],
      "execution_count": 40,
      "outputs": [
        {
          "output_type": "execute_result",
          "data": {
            "text/plain": [
              "<matplotlib.axes._subplots.AxesSubplot at 0x7f637a5e7910>"
            ]
          },
          "metadata": {},
          "execution_count": 40
        },
        {
          "output_type": "display_data",
          "data": {
            "image/png": "[encoded data removed]",
            "text/plain": [
              "<Figure size 432x288 with 1 Axes>"
            ]
          },
          "metadata": {
            "needs_background": "light"
          }
        }
      ]
    },
    {
      "cell_type": "markdown",
      "metadata": {
        "id": "gzb4unTnx7tq"
      },
      "source": [
        "### K = 5"
      ]
    },
    {
      "cell_type": "code",
      "metadata": {
        "colab": {
          "base_uri": "https://localhost:8080/"
        },
        "id": "kE9fmj0Nx7Bh",
        "outputId": "cbe062e2-4df0-4d49-b1b3-82cae3139b2e"
      },
      "source": [
        "# Defining the k-means\n",
        "kmeans_cluster = KMeans(n_clusters=5, random_state=42, max_iter=5000)\n",
        "\n",
        "# Fit model\n",
        "%timeit kmeans_cluster.fit(pcadf_pca)\n",
        "km_y_pred5 = kmeans_cluster.predict(pcadf_pca)\n",
        "print()\n",
        "print(\"The silhouette score of the k-Means solution: {}\"\n",
        "      .format(metrics.silhouette_score(pcadf_pca, km_y_pred5, metric='euclidean')))\n"
      ],
      "execution_count": 41,
      "outputs": [
        {
          "output_type": "stream",
          "name": "stdout",
          "text": [
            "1 loop, best of 5: 648 ms per loop\n",
            "\n",
            "The silhouette score of the k-Means solution: 0.5042131882377681\n"
          ]
        }
      ]
    },
    {
      "cell_type": "code",
      "metadata": {
        "colab": {
          "base_uri": "https://localhost:8080/",
          "height": 281
        },
        "id": "AcTXdcIIx7D6",
        "outputId": "ddd80d34-51ee-4705-d4a3-9c23d73bc867"
      },
      "source": [
        "sns.scatterplot(pcadf_pca[:,0], pcadf_pca[:,1], hue = km_y_pred5)\n",
        "plt.title(\"K = 5\")\n",
        "plt.legend()\n",
        "plt.show()"
      ],
      "execution_count": 42,
      "outputs": [
        {
          "output_type": "display_data",
          "data": {
            "image/png": "[encoded data removed]",
            "text/plain": [
              "<Figure size 432x288 with 1 Axes>"
            ]
          },
          "metadata": {
            "needs_background": "light"
          }
        }
      ]
    },
    {
      "cell_type": "code",
      "metadata": {
        "colab": {
          "base_uri": "https://localhost:8080/",
          "height": 414
        },
        "id": "b-4zxztgyeUL",
        "outputId": "5a422852-7963-41c5-937a-00df2bd9e95a"
      },
      "source": [
        "one_hot_encoded_data['Cluster'] = pd.Series(km_y_pred5, index=one_hot_encoded_data.index)\n",
        "one_hot_encoded_data"
      ],
      "execution_count": 43,
      "outputs": [
        {
          "output_type": "execute_result",
          "data": {
            "text/html": [
              "<div>\n",
              "<style scoped>\n",
              "    .dataframe tbody tr th:only-of-type {\n",
              "        vertical-align: middle;\n",
              "    }\n",
              "\n",
              "    .dataframe tbody tr th {\n",
              "        vertical-align: top;\n",
              "    }\n",
              "\n",
              "    .dataframe thead th {\n",
              "        text-align: right;\n",
              "    }\n",
              "</style>\n",
              "<table border=\"1\" class=\"dataframe\">\n",
              "  <thead>\n",
              "    <tr style=\"text-align: right;\">\n",
              "      <th></th>\n",
              "      <th>stop_sequence</th>\n",
              "      <th>rush_hour</th>\n",
              "      <th>is_Delayed_id</th>\n",
              "      <th>delay_minutes</th>\n",
              "      <th>statusID_0</th>\n",
              "      <th>statusID_1</th>\n",
              "      <th>statusID_2</th>\n",
              "      <th>DayOfWeekID_1</th>\n",
              "      <th>DayOfWeekID_2</th>\n",
              "      <th>DayOfWeekID_3</th>\n",
              "      <th>DayOfWeekID_4</th>\n",
              "      <th>DayOfWeekID_5</th>\n",
              "      <th>DayOfWeekID_6</th>\n",
              "      <th>DayOfWeekID_7</th>\n",
              "      <th>Cluster</th>\n",
              "    </tr>\n",
              "  </thead>\n",
              "  <tbody>\n",
              "    <tr>\n",
              "      <th>0</th>\n",
              "      <td>1.0</td>\n",
              "      <td>0</td>\n",
              "      <td>1</td>\n",
              "      <td>2.150000</td>\n",
              "      <td>0</td>\n",
              "      <td>1</td>\n",
              "      <td>0</td>\n",
              "      <td>0</td>\n",
              "      <td>0</td>\n",
              "      <td>0</td>\n",
              "      <td>0</td>\n",
              "      <td>0</td>\n",
              "      <td>1</td>\n",
              "      <td>0</td>\n",
              "      <td>0</td>\n",
              "    </tr>\n",
              "    <tr>\n",
              "      <th>1</th>\n",
              "      <td>2.0</td>\n",
              "      <td>0</td>\n",
              "      <td>1</td>\n",
              "      <td>0.016667</td>\n",
              "      <td>0</td>\n",
              "      <td>1</td>\n",
              "      <td>0</td>\n",
              "      <td>0</td>\n",
              "      <td>0</td>\n",
              "      <td>0</td>\n",
              "      <td>0</td>\n",
              "      <td>0</td>\n",
              "      <td>1</td>\n",
              "      <td>0</td>\n",
              "      <td>0</td>\n",
              "    </tr>\n",
              "    <tr>\n",
              "      <th>2</th>\n",
              "      <td>3.0</td>\n",
              "      <td>0</td>\n",
              "      <td>1</td>\n",
              "      <td>1.066667</td>\n",
              "      <td>0</td>\n",
              "      <td>1</td>\n",
              "      <td>0</td>\n",
              "      <td>0</td>\n",
              "      <td>0</td>\n",
              "      <td>0</td>\n",
              "      <td>0</td>\n",
              "      <td>0</td>\n",
              "      <td>1</td>\n",
              "      <td>0</td>\n",
              "      <td>0</td>\n",
              "    </tr>\n",
              "    <tr>\n",
              "      <th>3</th>\n",
              "      <td>4.0</td>\n",
              "      <td>0</td>\n",
              "      <td>1</td>\n",
              "      <td>0.516667</td>\n",
              "      <td>0</td>\n",
              "      <td>1</td>\n",
              "      <td>0</td>\n",
              "      <td>0</td>\n",
              "      <td>0</td>\n",
              "      <td>0</td>\n",
              "      <td>0</td>\n",
              "      <td>0</td>\n",
              "      <td>1</td>\n",
              "      <td>0</td>\n",
              "      <td>0</td>\n",
              "    </tr>\n",
              "    <tr>\n",
              "      <th>4</th>\n",
              "      <td>5.0</td>\n",
              "      <td>0</td>\n",
              "      <td>1</td>\n",
              "      <td>0.016667</td>\n",
              "      <td>0</td>\n",
              "      <td>1</td>\n",
              "      <td>0</td>\n",
              "      <td>0</td>\n",
              "      <td>0</td>\n",
              "      <td>0</td>\n",
              "      <td>0</td>\n",
              "      <td>0</td>\n",
              "      <td>1</td>\n",
              "      <td>0</td>\n",
              "      <td>0</td>\n",
              "    </tr>\n",
              "    <tr>\n",
              "      <th>...</th>\n",
              "      <td>...</td>\n",
              "      <td>...</td>\n",
              "      <td>...</td>\n",
              "      <td>...</td>\n",
              "      <td>...</td>\n",
              "      <td>...</td>\n",
              "      <td>...</td>\n",
              "      <td>...</td>\n",
              "      <td>...</td>\n",
              "      <td>...</td>\n",
              "      <td>...</td>\n",
              "      <td>...</td>\n",
              "      <td>...</td>\n",
              "      <td>...</td>\n",
              "      <td>...</td>\n",
              "    </tr>\n",
              "    <tr>\n",
              "      <th>98693</th>\n",
              "      <td>9.0</td>\n",
              "      <td>1</td>\n",
              "      <td>1</td>\n",
              "      <td>3.166667</td>\n",
              "      <td>0</td>\n",
              "      <td>1</td>\n",
              "      <td>0</td>\n",
              "      <td>0</td>\n",
              "      <td>1</td>\n",
              "      <td>0</td>\n",
              "      <td>0</td>\n",
              "      <td>0</td>\n",
              "      <td>0</td>\n",
              "      <td>0</td>\n",
              "      <td>1</td>\n",
              "    </tr>\n",
              "    <tr>\n",
              "      <th>98694</th>\n",
              "      <td>10.0</td>\n",
              "      <td>1</td>\n",
              "      <td>1</td>\n",
              "      <td>3.100000</td>\n",
              "      <td>0</td>\n",
              "      <td>1</td>\n",
              "      <td>0</td>\n",
              "      <td>0</td>\n",
              "      <td>1</td>\n",
              "      <td>0</td>\n",
              "      <td>0</td>\n",
              "      <td>0</td>\n",
              "      <td>0</td>\n",
              "      <td>0</td>\n",
              "      <td>1</td>\n",
              "    </tr>\n",
              "    <tr>\n",
              "      <th>98695</th>\n",
              "      <td>11.0</td>\n",
              "      <td>1</td>\n",
              "      <td>1</td>\n",
              "      <td>3.183333</td>\n",
              "      <td>0</td>\n",
              "      <td>1</td>\n",
              "      <td>0</td>\n",
              "      <td>0</td>\n",
              "      <td>1</td>\n",
              "      <td>0</td>\n",
              "      <td>0</td>\n",
              "      <td>0</td>\n",
              "      <td>0</td>\n",
              "      <td>0</td>\n",
              "      <td>1</td>\n",
              "    </tr>\n",
              "    <tr>\n",
              "      <th>98696</th>\n",
              "      <td>12.0</td>\n",
              "      <td>1</td>\n",
              "      <td>1</td>\n",
              "      <td>3.116667</td>\n",
              "      <td>0</td>\n",
              "      <td>1</td>\n",
              "      <td>0</td>\n",
              "      <td>0</td>\n",
              "      <td>1</td>\n",
              "      <td>0</td>\n",
              "      <td>0</td>\n",
              "      <td>0</td>\n",
              "      <td>0</td>\n",
              "      <td>0</td>\n",
              "      <td>1</td>\n",
              "    </tr>\n",
              "    <tr>\n",
              "      <th>98697</th>\n",
              "      <td>13.0</td>\n",
              "      <td>1</td>\n",
              "      <td>0</td>\n",
              "      <td>0.000000</td>\n",
              "      <td>0</td>\n",
              "      <td>0</td>\n",
              "      <td>1</td>\n",
              "      <td>0</td>\n",
              "      <td>1</td>\n",
              "      <td>0</td>\n",
              "      <td>0</td>\n",
              "      <td>0</td>\n",
              "      <td>0</td>\n",
              "      <td>0</td>\n",
              "      <td>3</td>\n",
              "    </tr>\n",
              "  </tbody>\n",
              "</table>\n",
              "<p>87172 rows × 15 columns</p>\n",
              "</div>"
            ],
            "text/plain": [
              "       stop_sequence  rush_hour  ...  DayOfWeekID_7  Cluster\n",
              "0                1.0          0  ...              0        0\n",
              "1                2.0          0  ...              0        0\n",
              "2                3.0          0  ...              0        0\n",
              "3                4.0          0  ...              0        0\n",
              "4                5.0          0  ...              0        0\n",
              "...              ...        ...  ...            ...      ...\n",
              "98693            9.0          1  ...              0        1\n",
              "98694           10.0          1  ...              0        1\n",
              "98695           11.0          1  ...              0        1\n",
              "98696           12.0          1  ...              0        1\n",
              "98697           13.0          1  ...              0        3\n",
              "\n",
              "[87172 rows x 15 columns]"
            ]
          },
          "metadata": {},
          "execution_count": 43
        }
      ]
    },
    {
      "cell_type": "code",
      "metadata": {
        "colab": {
          "base_uri": "https://localhost:8080/",
          "height": 414
        },
        "id": "oIqqQv8Zylra",
        "outputId": "d18fa2ca-cedf-43a6-f671-cce2e6613ac0"
      },
      "source": [
        "friTrain = one_hot_encoded_data.drop(['DayOfWeekID_1', 'DayOfWeekID_2', 'DayOfWeekID_3', 'DayOfWeekID_4', 'DayOfWeekID_5', 'DayOfWeekID_7'], axis=1)\n",
        "friTrain = friTrain[friTrain['is_Delayed_id']== 1]\n",
        "friTrain = friTrain[friTrain['DayOfWeekID_6']== 1]\n",
        "\n",
        "friTrain"
      ],
      "execution_count": 44,
      "outputs": [
        {
          "output_type": "execute_result",
          "data": {
            "text/html": [
              "<div>\n",
              "<style scoped>\n",
              "    .dataframe tbody tr th:only-of-type {\n",
              "        vertical-align: middle;\n",
              "    }\n",
              "\n",
              "    .dataframe tbody tr th {\n",
              "        vertical-align: top;\n",
              "    }\n",
              "\n",
              "    .dataframe thead th {\n",
              "        text-align: right;\n",
              "    }\n",
              "</style>\n",
              "<table border=\"1\" class=\"dataframe\">\n",
              "  <thead>\n",
              "    <tr style=\"text-align: right;\">\n",
              "      <th></th>\n",
              "      <th>stop_sequence</th>\n",
              "      <th>rush_hour</th>\n",
              "      <th>is_Delayed_id</th>\n",
              "      <th>delay_minutes</th>\n",
              "      <th>statusID_0</th>\n",
              "      <th>statusID_1</th>\n",
              "      <th>statusID_2</th>\n",
              "      <th>DayOfWeekID_6</th>\n",
              "      <th>Cluster</th>\n",
              "    </tr>\n",
              "  </thead>\n",
              "  <tbody>\n",
              "    <tr>\n",
              "      <th>0</th>\n",
              "      <td>1.0</td>\n",
              "      <td>0</td>\n",
              "      <td>1</td>\n",
              "      <td>2.150000</td>\n",
              "      <td>0</td>\n",
              "      <td>1</td>\n",
              "      <td>0</td>\n",
              "      <td>1</td>\n",
              "      <td>0</td>\n",
              "    </tr>\n",
              "    <tr>\n",
              "      <th>1</th>\n",
              "      <td>2.0</td>\n",
              "      <td>0</td>\n",
              "      <td>1</td>\n",
              "      <td>0.016667</td>\n",
              "      <td>0</td>\n",
              "      <td>1</td>\n",
              "      <td>0</td>\n",
              "      <td>1</td>\n",
              "      <td>0</td>\n",
              "    </tr>\n",
              "    <tr>\n",
              "      <th>2</th>\n",
              "      <td>3.0</td>\n",
              "      <td>0</td>\n",
              "      <td>1</td>\n",
              "      <td>1.066667</td>\n",
              "      <td>0</td>\n",
              "      <td>1</td>\n",
              "      <td>0</td>\n",
              "      <td>1</td>\n",
              "      <td>0</td>\n",
              "    </tr>\n",
              "    <tr>\n",
              "      <th>3</th>\n",
              "      <td>4.0</td>\n",
              "      <td>0</td>\n",
              "      <td>1</td>\n",
              "      <td>0.516667</td>\n",
              "      <td>0</td>\n",
              "      <td>1</td>\n",
              "      <td>0</td>\n",
              "      <td>1</td>\n",
              "      <td>0</td>\n",
              "    </tr>\n",
              "    <tr>\n",
              "      <th>4</th>\n",
              "      <td>5.0</td>\n",
              "      <td>0</td>\n",
              "      <td>1</td>\n",
              "      <td>0.016667</td>\n",
              "      <td>0</td>\n",
              "      <td>1</td>\n",
              "      <td>0</td>\n",
              "      <td>1</td>\n",
              "      <td>0</td>\n",
              "    </tr>\n",
              "    <tr>\n",
              "      <th>...</th>\n",
              "      <td>...</td>\n",
              "      <td>...</td>\n",
              "      <td>...</td>\n",
              "      <td>...</td>\n",
              "      <td>...</td>\n",
              "      <td>...</td>\n",
              "      <td>...</td>\n",
              "      <td>...</td>\n",
              "      <td>...</td>\n",
              "    </tr>\n",
              "    <tr>\n",
              "      <th>83855</th>\n",
              "      <td>1.0</td>\n",
              "      <td>0</td>\n",
              "      <td>1</td>\n",
              "      <td>2.116667</td>\n",
              "      <td>0</td>\n",
              "      <td>1</td>\n",
              "      <td>0</td>\n",
              "      <td>1</td>\n",
              "      <td>0</td>\n",
              "    </tr>\n",
              "    <tr>\n",
              "      <th>83856</th>\n",
              "      <td>2.0</td>\n",
              "      <td>0</td>\n",
              "      <td>1</td>\n",
              "      <td>6.000000</td>\n",
              "      <td>0</td>\n",
              "      <td>1</td>\n",
              "      <td>0</td>\n",
              "      <td>1</td>\n",
              "      <td>0</td>\n",
              "    </tr>\n",
              "    <tr>\n",
              "      <th>83857</th>\n",
              "      <td>3.0</td>\n",
              "      <td>0</td>\n",
              "      <td>1</td>\n",
              "      <td>1.116667</td>\n",
              "      <td>0</td>\n",
              "      <td>1</td>\n",
              "      <td>0</td>\n",
              "      <td>1</td>\n",
              "      <td>0</td>\n",
              "    </tr>\n",
              "    <tr>\n",
              "      <th>83858</th>\n",
              "      <td>4.0</td>\n",
              "      <td>0</td>\n",
              "      <td>1</td>\n",
              "      <td>0.300000</td>\n",
              "      <td>0</td>\n",
              "      <td>1</td>\n",
              "      <td>0</td>\n",
              "      <td>1</td>\n",
              "      <td>0</td>\n",
              "    </tr>\n",
              "    <tr>\n",
              "      <th>83859</th>\n",
              "      <td>5.0</td>\n",
              "      <td>0</td>\n",
              "      <td>1</td>\n",
              "      <td>0.066667</td>\n",
              "      <td>0</td>\n",
              "      <td>1</td>\n",
              "      <td>0</td>\n",
              "      <td>1</td>\n",
              "      <td>0</td>\n",
              "    </tr>\n",
              "  </tbody>\n",
              "</table>\n",
              "<p>12831 rows × 9 columns</p>\n",
              "</div>"
            ],
            "text/plain": [
              "       stop_sequence  rush_hour  ...  DayOfWeekID_6  Cluster\n",
              "0                1.0          0  ...              1        0\n",
              "1                2.0          0  ...              1        0\n",
              "2                3.0          0  ...              1        0\n",
              "3                4.0          0  ...              1        0\n",
              "4                5.0          0  ...              1        0\n",
              "...              ...        ...  ...            ...      ...\n",
              "83855            1.0          0  ...              1        0\n",
              "83856            2.0          0  ...              1        0\n",
              "83857            3.0          0  ...              1        0\n",
              "83858            4.0          0  ...              1        0\n",
              "83859            5.0          0  ...              1        0\n",
              "\n",
              "[12831 rows x 9 columns]"
            ]
          },
          "metadata": {},
          "execution_count": 44
        }
      ]
    },
    {
      "cell_type": "code",
      "metadata": {
        "colab": {
          "base_uri": "https://localhost:8080/",
          "height": 296
        },
        "id": "lCgXT4Uzy4SU",
        "outputId": "9a2337fa-eaa8-421c-c4a0-f9b7be9a41f9"
      },
      "source": [
        "sns.countplot(friTrain['Cluster'])\n"
      ],
      "execution_count": 45,
      "outputs": [
        {
          "output_type": "execute_result",
          "data": {
            "text/plain": [
              "<matplotlib.axes._subplots.AxesSubplot at 0x7f637a61fad0>"
            ]
          },
          "metadata": {},
          "execution_count": 45
        },
        {
          "output_type": "display_data",
          "data": {
            "image/png": "[encoded data removed]",
            "text/plain": [
              "<Figure size 432x288 with 1 Axes>"
            ]
          },
          "metadata": {
            "needs_background": "light"
          }
        }
      ]
    },
    {
      "cell_type": "code",
      "metadata": {
        "colab": {
          "base_uri": "https://localhost:8080/",
          "height": 414
        },
        "id": "YuOkF1day_RC",
        "outputId": "517191e8-1b0a-4f98-e2b0-d41c2b40145c"
      },
      "source": [
        "rushweek = one_hot_encoded_data.drop(['DayOfWeekID_1', 'DayOfWeekID_7'], axis=1)\n",
        "rushweek = rushweek[rushweek['is_Delayed_id']== 1]\n",
        "rushweek = rushweek[rushweek['rush_hour']== 1]\n",
        "\n",
        "rushweek"
      ],
      "execution_count": 46,
      "outputs": [
        {
          "output_type": "execute_result",
          "data": {
            "text/html": [
              "<div>\n",
              "<style scoped>\n",
              "    .dataframe tbody tr th:only-of-type {\n",
              "        vertical-align: middle;\n",
              "    }\n",
              "\n",
              "    .dataframe tbody tr th {\n",
              "        vertical-align: top;\n",
              "    }\n",
              "\n",
              "    .dataframe thead th {\n",
              "        text-align: right;\n",
              "    }\n",
              "</style>\n",
              "<table border=\"1\" class=\"dataframe\">\n",
              "  <thead>\n",
              "    <tr style=\"text-align: right;\">\n",
              "      <th></th>\n",
              "      <th>stop_sequence</th>\n",
              "      <th>rush_hour</th>\n",
              "      <th>is_Delayed_id</th>\n",
              "      <th>delay_minutes</th>\n",
              "      <th>statusID_0</th>\n",
              "      <th>statusID_1</th>\n",
              "      <th>statusID_2</th>\n",
              "      <th>DayOfWeekID_2</th>\n",
              "      <th>DayOfWeekID_3</th>\n",
              "      <th>DayOfWeekID_4</th>\n",
              "      <th>DayOfWeekID_5</th>\n",
              "      <th>DayOfWeekID_6</th>\n",
              "      <th>Cluster</th>\n",
              "    </tr>\n",
              "  </thead>\n",
              "  <tbody>\n",
              "    <tr>\n",
              "      <th>13</th>\n",
              "      <td>1.0</td>\n",
              "      <td>1</td>\n",
              "      <td>1</td>\n",
              "      <td>0.166667</td>\n",
              "      <td>0</td>\n",
              "      <td>1</td>\n",
              "      <td>0</td>\n",
              "      <td>0</td>\n",
              "      <td>0</td>\n",
              "      <td>0</td>\n",
              "      <td>0</td>\n",
              "      <td>1</td>\n",
              "      <td>0</td>\n",
              "    </tr>\n",
              "    <tr>\n",
              "      <th>14</th>\n",
              "      <td>2.0</td>\n",
              "      <td>1</td>\n",
              "      <td>1</td>\n",
              "      <td>1.366667</td>\n",
              "      <td>0</td>\n",
              "      <td>1</td>\n",
              "      <td>0</td>\n",
              "      <td>0</td>\n",
              "      <td>0</td>\n",
              "      <td>0</td>\n",
              "      <td>0</td>\n",
              "      <td>1</td>\n",
              "      <td>0</td>\n",
              "    </tr>\n",
              "    <tr>\n",
              "      <th>15</th>\n",
              "      <td>3.0</td>\n",
              "      <td>1</td>\n",
              "      <td>1</td>\n",
              "      <td>0.066667</td>\n",
              "      <td>0</td>\n",
              "      <td>1</td>\n",
              "      <td>0</td>\n",
              "      <td>0</td>\n",
              "      <td>0</td>\n",
              "      <td>0</td>\n",
              "      <td>0</td>\n",
              "      <td>1</td>\n",
              "      <td>0</td>\n",
              "    </tr>\n",
              "    <tr>\n",
              "      <th>16</th>\n",
              "      <td>4.0</td>\n",
              "      <td>1</td>\n",
              "      <td>1</td>\n",
              "      <td>1.283333</td>\n",
              "      <td>0</td>\n",
              "      <td>1</td>\n",
              "      <td>0</td>\n",
              "      <td>0</td>\n",
              "      <td>0</td>\n",
              "      <td>0</td>\n",
              "      <td>0</td>\n",
              "      <td>1</td>\n",
              "      <td>0</td>\n",
              "    </tr>\n",
              "    <tr>\n",
              "      <th>17</th>\n",
              "      <td>5.0</td>\n",
              "      <td>1</td>\n",
              "      <td>1</td>\n",
              "      <td>1.066667</td>\n",
              "      <td>0</td>\n",
              "      <td>1</td>\n",
              "      <td>0</td>\n",
              "      <td>0</td>\n",
              "      <td>0</td>\n",
              "      <td>0</td>\n",
              "      <td>0</td>\n",
              "      <td>1</td>\n",
              "      <td>0</td>\n",
              "    </tr>\n",
              "    <tr>\n",
              "      <th>...</th>\n",
              "      <td>...</td>\n",
              "      <td>...</td>\n",
              "      <td>...</td>\n",
              "      <td>...</td>\n",
              "      <td>...</td>\n",
              "      <td>...</td>\n",
              "      <td>...</td>\n",
              "      <td>...</td>\n",
              "      <td>...</td>\n",
              "      <td>...</td>\n",
              "      <td>...</td>\n",
              "      <td>...</td>\n",
              "      <td>...</td>\n",
              "    </tr>\n",
              "    <tr>\n",
              "      <th>98692</th>\n",
              "      <td>8.0</td>\n",
              "      <td>1</td>\n",
              "      <td>1</td>\n",
              "      <td>3.083333</td>\n",
              "      <td>0</td>\n",
              "      <td>1</td>\n",
              "      <td>0</td>\n",
              "      <td>1</td>\n",
              "      <td>0</td>\n",
              "      <td>0</td>\n",
              "      <td>0</td>\n",
              "      <td>0</td>\n",
              "      <td>0</td>\n",
              "    </tr>\n",
              "    <tr>\n",
              "      <th>98693</th>\n",
              "      <td>9.0</td>\n",
              "      <td>1</td>\n",
              "      <td>1</td>\n",
              "      <td>3.166667</td>\n",
              "      <td>0</td>\n",
              "      <td>1</td>\n",
              "      <td>0</td>\n",
              "      <td>1</td>\n",
              "      <td>0</td>\n",
              "      <td>0</td>\n",
              "      <td>0</td>\n",
              "      <td>0</td>\n",
              "      <td>1</td>\n",
              "    </tr>\n",
              "    <tr>\n",
              "      <th>98694</th>\n",
              "      <td>10.0</td>\n",
              "      <td>1</td>\n",
              "      <td>1</td>\n",
              "      <td>3.100000</td>\n",
              "      <td>0</td>\n",
              "      <td>1</td>\n",
              "      <td>0</td>\n",
              "      <td>1</td>\n",
              "      <td>0</td>\n",
              "      <td>0</td>\n",
              "      <td>0</td>\n",
              "      <td>0</td>\n",
              "      <td>1</td>\n",
              "    </tr>\n",
              "    <tr>\n",
              "      <th>98695</th>\n",
              "      <td>11.0</td>\n",
              "      <td>1</td>\n",
              "      <td>1</td>\n",
              "      <td>3.183333</td>\n",
              "      <td>0</td>\n",
              "      <td>1</td>\n",
              "      <td>0</td>\n",
              "      <td>1</td>\n",
              "      <td>0</td>\n",
              "      <td>0</td>\n",
              "      <td>0</td>\n",
              "      <td>0</td>\n",
              "      <td>1</td>\n",
              "    </tr>\n",
              "    <tr>\n",
              "      <th>98696</th>\n",
              "      <td>12.0</td>\n",
              "      <td>1</td>\n",
              "      <td>1</td>\n",
              "      <td>3.116667</td>\n",
              "      <td>0</td>\n",
              "      <td>1</td>\n",
              "      <td>0</td>\n",
              "      <td>1</td>\n",
              "      <td>0</td>\n",
              "      <td>0</td>\n",
              "      <td>0</td>\n",
              "      <td>0</td>\n",
              "      <td>1</td>\n",
              "    </tr>\n",
              "  </tbody>\n",
              "</table>\n",
              "<p>33085 rows × 13 columns</p>\n",
              "</div>"
            ],
            "text/plain": [
              "       stop_sequence  rush_hour  ...  DayOfWeekID_6  Cluster\n",
              "13               1.0          1  ...              1        0\n",
              "14               2.0          1  ...              1        0\n",
              "15               3.0          1  ...              1        0\n",
              "16               4.0          1  ...              1        0\n",
              "17               5.0          1  ...              1        0\n",
              "...              ...        ...  ...            ...      ...\n",
              "98692            8.0          1  ...              0        0\n",
              "98693            9.0          1  ...              0        1\n",
              "98694           10.0          1  ...              0        1\n",
              "98695           11.0          1  ...              0        1\n",
              "98696           12.0          1  ...              0        1\n",
              "\n",
              "[33085 rows x 13 columns]"
            ]
          },
          "metadata": {},
          "execution_count": 46
        }
      ]
    },
    {
      "cell_type": "code",
      "metadata": {
        "colab": {
          "base_uri": "https://localhost:8080/",
          "height": 296
        },
        "id": "AoTr1E9RzETi",
        "outputId": "29f6712d-1806-45c9-cb80-f7a11d49c2e5"
      },
      "source": [
        "sns.countplot(rushweek['Cluster'])\n"
      ],
      "execution_count": 47,
      "outputs": [
        {
          "output_type": "execute_result",
          "data": {
            "text/plain": [
              "<matplotlib.axes._subplots.AxesSubplot at 0x7f637a365c90>"
            ]
          },
          "metadata": {},
          "execution_count": 47
        },
        {
          "output_type": "display_data",
          "data": {
            "image/png": "[encoded data removed]",
            "text/plain": [
              "<Figure size 432x288 with 1 Axes>"
            ]
          },
          "metadata": {
            "needs_background": "light"
          }
        }
      ]
    },
    {
      "cell_type": "markdown",
      "metadata": {
        "id": "5ov8ioPuyK50"
      },
      "source": [
        ""
      ]
    },
    {
      "cell_type": "markdown",
      "metadata": {
        "id": "zLc0fJfUyK9E"
      },
      "source": [
        "### K = 6"
      ]
    },
    {
      "cell_type": "markdown",
      "metadata": {
        "id": "UxiFqa0_yLAj"
      },
      "source": [
        ""
      ]
    },
    {
      "cell_type": "code",
      "metadata": {
        "colab": {
          "base_uri": "https://localhost:8080/"
        },
        "id": "PKUf8bxyx7Gc",
        "outputId": "5e4989f8-933e-4142-9665-01eef1a291b8"
      },
      "source": [
        "# Defining the k-means\n",
        "kmeans_cluster = KMeans(n_clusters=6, random_state=42, max_iter=5000)\n",
        "\n",
        "# Fit model\n",
        "%timeit kmeans_cluster.fit(pcadf_pca)\n",
        "km_y_pred6 = kmeans_cluster.predict(pcadf_pca)\n",
        "print()\n",
        "print(\"The silhouette score of the k-Means solution: {}\"\n",
        "      .format(metrics.silhouette_score(pcadf_pca, km_y_pred6, metric='euclidean')))\n"
      ],
      "execution_count": 48,
      "outputs": [
        {
          "output_type": "stream",
          "name": "stdout",
          "text": [
            "1 loop, best of 5: 817 ms per loop\n",
            "\n",
            "The silhouette score of the k-Means solution: 0.5494179299585831\n"
          ]
        }
      ]
    },
    {
      "cell_type": "code",
      "metadata": {
        "colab": {
          "base_uri": "https://localhost:8080/",
          "height": 281
        },
        "id": "Qq_DqqsHx7Ks",
        "outputId": "792f890f-b505-4ab4-dd87-5561243d5ce0"
      },
      "source": [
        "sns.scatterplot(pcadf_pca[:,0], pcadf_pca[:,1], hue = km_y_pred6)\n",
        "plt.title(\"K = 6\")\n",
        "plt.legend()\n",
        "plt.show()"
      ],
      "execution_count": 49,
      "outputs": [
        {
          "output_type": "display_data",
          "data": {
            "image/png": "[encoded data removed]",
            "text/plain": [
              "<Figure size 432x288 with 1 Axes>"
            ]
          },
          "metadata": {
            "needs_background": "light"
          }
        }
      ]
    },
    {
      "cell_type": "code",
      "metadata": {
        "colab": {
          "base_uri": "https://localhost:8080/",
          "height": 414
        },
        "id": "1IE0_y_tx7NB",
        "outputId": "6cafb3ee-2a3b-42c1-80a6-cecf4ee55406"
      },
      "source": [
        "one_hot_encoded_data['Cluster'] = pd.Series(km_y_pred6, index=one_hot_encoded_data.index)\n",
        "one_hot_encoded_data"
      ],
      "execution_count": 50,
      "outputs": [
        {
          "output_type": "execute_result",
          "data": {
            "text/html": [
              "<div>\n",
              "<style scoped>\n",
              "    .dataframe tbody tr th:only-of-type {\n",
              "        vertical-align: middle;\n",
              "    }\n",
              "\n",
              "    .dataframe tbody tr th {\n",
              "        vertical-align: top;\n",
              "    }\n",
              "\n",
              "    .dataframe thead th {\n",
              "        text-align: right;\n",
              "    }\n",
              "</style>\n",
              "<table border=\"1\" class=\"dataframe\">\n",
              "  <thead>\n",
              "    <tr style=\"text-align: right;\">\n",
              "      <th></th>\n",
              "      <th>stop_sequence</th>\n",
              "      <th>rush_hour</th>\n",
              "      <th>is_Delayed_id</th>\n",
              "      <th>delay_minutes</th>\n",
              "      <th>statusID_0</th>\n",
              "      <th>statusID_1</th>\n",
              "      <th>statusID_2</th>\n",
              "      <th>DayOfWeekID_1</th>\n",
              "      <th>DayOfWeekID_2</th>\n",
              "      <th>DayOfWeekID_3</th>\n",
              "      <th>DayOfWeekID_4</th>\n",
              "      <th>DayOfWeekID_5</th>\n",
              "      <th>DayOfWeekID_6</th>\n",
              "      <th>DayOfWeekID_7</th>\n",
              "      <th>Cluster</th>\n",
              "    </tr>\n",
              "  </thead>\n",
              "  <tbody>\n",
              "    <tr>\n",
              "      <th>0</th>\n",
              "      <td>1.0</td>\n",
              "      <td>0</td>\n",
              "      <td>1</td>\n",
              "      <td>2.150000</td>\n",
              "      <td>0</td>\n",
              "      <td>1</td>\n",
              "      <td>0</td>\n",
              "      <td>0</td>\n",
              "      <td>0</td>\n",
              "      <td>0</td>\n",
              "      <td>0</td>\n",
              "      <td>0</td>\n",
              "      <td>1</td>\n",
              "      <td>0</td>\n",
              "      <td>0</td>\n",
              "    </tr>\n",
              "    <tr>\n",
              "      <th>1</th>\n",
              "      <td>2.0</td>\n",
              "      <td>0</td>\n",
              "      <td>1</td>\n",
              "      <td>0.016667</td>\n",
              "      <td>0</td>\n",
              "      <td>1</td>\n",
              "      <td>0</td>\n",
              "      <td>0</td>\n",
              "      <td>0</td>\n",
              "      <td>0</td>\n",
              "      <td>0</td>\n",
              "      <td>0</td>\n",
              "      <td>1</td>\n",
              "      <td>0</td>\n",
              "      <td>0</td>\n",
              "    </tr>\n",
              "    <tr>\n",
              "      <th>2</th>\n",
              "      <td>3.0</td>\n",
              "      <td>0</td>\n",
              "      <td>1</td>\n",
              "      <td>1.066667</td>\n",
              "      <td>0</td>\n",
              "      <td>1</td>\n",
              "      <td>0</td>\n",
              "      <td>0</td>\n",
              "      <td>0</td>\n",
              "      <td>0</td>\n",
              "      <td>0</td>\n",
              "      <td>0</td>\n",
              "      <td>1</td>\n",
              "      <td>0</td>\n",
              "      <td>0</td>\n",
              "    </tr>\n",
              "    <tr>\n",
              "      <th>3</th>\n",
              "      <td>4.0</td>\n",
              "      <td>0</td>\n",
              "      <td>1</td>\n",
              "      <td>0.516667</td>\n",
              "      <td>0</td>\n",
              "      <td>1</td>\n",
              "      <td>0</td>\n",
              "      <td>0</td>\n",
              "      <td>0</td>\n",
              "      <td>0</td>\n",
              "      <td>0</td>\n",
              "      <td>0</td>\n",
              "      <td>1</td>\n",
              "      <td>0</td>\n",
              "      <td>0</td>\n",
              "    </tr>\n",
              "    <tr>\n",
              "      <th>4</th>\n",
              "      <td>5.0</td>\n",
              "      <td>0</td>\n",
              "      <td>1</td>\n",
              "      <td>0.016667</td>\n",
              "      <td>0</td>\n",
              "      <td>1</td>\n",
              "      <td>0</td>\n",
              "      <td>0</td>\n",
              "      <td>0</td>\n",
              "      <td>0</td>\n",
              "      <td>0</td>\n",
              "      <td>0</td>\n",
              "      <td>1</td>\n",
              "      <td>0</td>\n",
              "      <td>0</td>\n",
              "    </tr>\n",
              "    <tr>\n",
              "      <th>...</th>\n",
              "      <td>...</td>\n",
              "      <td>...</td>\n",
              "      <td>...</td>\n",
              "      <td>...</td>\n",
              "      <td>...</td>\n",
              "      <td>...</td>\n",
              "      <td>...</td>\n",
              "      <td>...</td>\n",
              "      <td>...</td>\n",
              "      <td>...</td>\n",
              "      <td>...</td>\n",
              "      <td>...</td>\n",
              "      <td>...</td>\n",
              "      <td>...</td>\n",
              "      <td>...</td>\n",
              "    </tr>\n",
              "    <tr>\n",
              "      <th>98693</th>\n",
              "      <td>9.0</td>\n",
              "      <td>1</td>\n",
              "      <td>1</td>\n",
              "      <td>3.166667</td>\n",
              "      <td>0</td>\n",
              "      <td>1</td>\n",
              "      <td>0</td>\n",
              "      <td>0</td>\n",
              "      <td>1</td>\n",
              "      <td>0</td>\n",
              "      <td>0</td>\n",
              "      <td>0</td>\n",
              "      <td>0</td>\n",
              "      <td>0</td>\n",
              "      <td>5</td>\n",
              "    </tr>\n",
              "    <tr>\n",
              "      <th>98694</th>\n",
              "      <td>10.0</td>\n",
              "      <td>1</td>\n",
              "      <td>1</td>\n",
              "      <td>3.100000</td>\n",
              "      <td>0</td>\n",
              "      <td>1</td>\n",
              "      <td>0</td>\n",
              "      <td>0</td>\n",
              "      <td>1</td>\n",
              "      <td>0</td>\n",
              "      <td>0</td>\n",
              "      <td>0</td>\n",
              "      <td>0</td>\n",
              "      <td>0</td>\n",
              "      <td>5</td>\n",
              "    </tr>\n",
              "    <tr>\n",
              "      <th>98695</th>\n",
              "      <td>11.0</td>\n",
              "      <td>1</td>\n",
              "      <td>1</td>\n",
              "      <td>3.183333</td>\n",
              "      <td>0</td>\n",
              "      <td>1</td>\n",
              "      <td>0</td>\n",
              "      <td>0</td>\n",
              "      <td>1</td>\n",
              "      <td>0</td>\n",
              "      <td>0</td>\n",
              "      <td>0</td>\n",
              "      <td>0</td>\n",
              "      <td>0</td>\n",
              "      <td>5</td>\n",
              "    </tr>\n",
              "    <tr>\n",
              "      <th>98696</th>\n",
              "      <td>12.0</td>\n",
              "      <td>1</td>\n",
              "      <td>1</td>\n",
              "      <td>3.116667</td>\n",
              "      <td>0</td>\n",
              "      <td>1</td>\n",
              "      <td>0</td>\n",
              "      <td>0</td>\n",
              "      <td>1</td>\n",
              "      <td>0</td>\n",
              "      <td>0</td>\n",
              "      <td>0</td>\n",
              "      <td>0</td>\n",
              "      <td>0</td>\n",
              "      <td>5</td>\n",
              "    </tr>\n",
              "    <tr>\n",
              "      <th>98697</th>\n",
              "      <td>13.0</td>\n",
              "      <td>1</td>\n",
              "      <td>0</td>\n",
              "      <td>0.000000</td>\n",
              "      <td>0</td>\n",
              "      <td>0</td>\n",
              "      <td>1</td>\n",
              "      <td>0</td>\n",
              "      <td>1</td>\n",
              "      <td>0</td>\n",
              "      <td>0</td>\n",
              "      <td>0</td>\n",
              "      <td>0</td>\n",
              "      <td>0</td>\n",
              "      <td>1</td>\n",
              "    </tr>\n",
              "  </tbody>\n",
              "</table>\n",
              "<p>87172 rows × 15 columns</p>\n",
              "</div>"
            ],
            "text/plain": [
              "       stop_sequence  rush_hour  ...  DayOfWeekID_7  Cluster\n",
              "0                1.0          0  ...              0        0\n",
              "1                2.0          0  ...              0        0\n",
              "2                3.0          0  ...              0        0\n",
              "3                4.0          0  ...              0        0\n",
              "4                5.0          0  ...              0        0\n",
              "...              ...        ...  ...            ...      ...\n",
              "98693            9.0          1  ...              0        5\n",
              "98694           10.0          1  ...              0        5\n",
              "98695           11.0          1  ...              0        5\n",
              "98696           12.0          1  ...              0        5\n",
              "98697           13.0          1  ...              0        1\n",
              "\n",
              "[87172 rows x 15 columns]"
            ]
          },
          "metadata": {},
          "execution_count": 50
        }
      ]
    },
    {
      "cell_type": "code",
      "metadata": {
        "colab": {
          "base_uri": "https://localhost:8080/",
          "height": 414
        },
        "id": "GzXk3oRNx7Px",
        "outputId": "1079157c-31fe-44e3-b308-d333379ed805"
      },
      "source": [
        "friTrain = one_hot_encoded_data.drop(['DayOfWeekID_1', 'DayOfWeekID_2', 'DayOfWeekID_3', 'DayOfWeekID_4', 'DayOfWeekID_5', 'DayOfWeekID_7'], axis=1)\n",
        "friTrain = friTrain[friTrain['is_Delayed_id']== 1]\n",
        "friTrain = friTrain[friTrain['DayOfWeekID_6']== 1]\n",
        "\n",
        "friTrain"
      ],
      "execution_count": 51,
      "outputs": [
        {
          "output_type": "execute_result",
          "data": {
            "text/html": [
              "<div>\n",
              "<style scoped>\n",
              "    .dataframe tbody tr th:only-of-type {\n",
              "        vertical-align: middle;\n",
              "    }\n",
              "\n",
              "    .dataframe tbody tr th {\n",
              "        vertical-align: top;\n",
              "    }\n",
              "\n",
              "    .dataframe thead th {\n",
              "        text-align: right;\n",
              "    }\n",
              "</style>\n",
              "<table border=\"1\" class=\"dataframe\">\n",
              "  <thead>\n",
              "    <tr style=\"text-align: right;\">\n",
              "      <th></th>\n",
              "      <th>stop_sequence</th>\n",
              "      <th>rush_hour</th>\n",
              "      <th>is_Delayed_id</th>\n",
              "      <th>delay_minutes</th>\n",
              "      <th>statusID_0</th>\n",
              "      <th>statusID_1</th>\n",
              "      <th>statusID_2</th>\n",
              "      <th>DayOfWeekID_6</th>\n",
              "      <th>Cluster</th>\n",
              "    </tr>\n",
              "  </thead>\n",
              "  <tbody>\n",
              "    <tr>\n",
              "      <th>0</th>\n",
              "      <td>1.0</td>\n",
              "      <td>0</td>\n",
              "      <td>1</td>\n",
              "      <td>2.150000</td>\n",
              "      <td>0</td>\n",
              "      <td>1</td>\n",
              "      <td>0</td>\n",
              "      <td>1</td>\n",
              "      <td>0</td>\n",
              "    </tr>\n",
              "    <tr>\n",
              "      <th>1</th>\n",
              "      <td>2.0</td>\n",
              "      <td>0</td>\n",
              "      <td>1</td>\n",
              "      <td>0.016667</td>\n",
              "      <td>0</td>\n",
              "      <td>1</td>\n",
              "      <td>0</td>\n",
              "      <td>1</td>\n",
              "      <td>0</td>\n",
              "    </tr>\n",
              "    <tr>\n",
              "      <th>2</th>\n",
              "      <td>3.0</td>\n",
              "      <td>0</td>\n",
              "      <td>1</td>\n",
              "      <td>1.066667</td>\n",
              "      <td>0</td>\n",
              "      <td>1</td>\n",
              "      <td>0</td>\n",
              "      <td>1</td>\n",
              "      <td>0</td>\n",
              "    </tr>\n",
              "    <tr>\n",
              "      <th>3</th>\n",
              "      <td>4.0</td>\n",
              "      <td>0</td>\n",
              "      <td>1</td>\n",
              "      <td>0.516667</td>\n",
              "      <td>0</td>\n",
              "      <td>1</td>\n",
              "      <td>0</td>\n",
              "      <td>1</td>\n",
              "      <td>0</td>\n",
              "    </tr>\n",
              "    <tr>\n",
              "      <th>4</th>\n",
              "      <td>5.0</td>\n",
              "      <td>0</td>\n",
              "      <td>1</td>\n",
              "      <td>0.016667</td>\n",
              "      <td>0</td>\n",
              "      <td>1</td>\n",
              "      <td>0</td>\n",
              "      <td>1</td>\n",
              "      <td>0</td>\n",
              "    </tr>\n",
              "    <tr>\n",
              "      <th>...</th>\n",
              "      <td>...</td>\n",
              "      <td>...</td>\n",
              "      <td>...</td>\n",
              "      <td>...</td>\n",
              "      <td>...</td>\n",
              "      <td>...</td>\n",
              "      <td>...</td>\n",
              "      <td>...</td>\n",
              "      <td>...</td>\n",
              "    </tr>\n",
              "    <tr>\n",
              "      <th>83855</th>\n",
              "      <td>1.0</td>\n",
              "      <td>0</td>\n",
              "      <td>1</td>\n",
              "      <td>2.116667</td>\n",
              "      <td>0</td>\n",
              "      <td>1</td>\n",
              "      <td>0</td>\n",
              "      <td>1</td>\n",
              "      <td>0</td>\n",
              "    </tr>\n",
              "    <tr>\n",
              "      <th>83856</th>\n",
              "      <td>2.0</td>\n",
              "      <td>0</td>\n",
              "      <td>1</td>\n",
              "      <td>6.000000</td>\n",
              "      <td>0</td>\n",
              "      <td>1</td>\n",
              "      <td>0</td>\n",
              "      <td>1</td>\n",
              "      <td>0</td>\n",
              "    </tr>\n",
              "    <tr>\n",
              "      <th>83857</th>\n",
              "      <td>3.0</td>\n",
              "      <td>0</td>\n",
              "      <td>1</td>\n",
              "      <td>1.116667</td>\n",
              "      <td>0</td>\n",
              "      <td>1</td>\n",
              "      <td>0</td>\n",
              "      <td>1</td>\n",
              "      <td>0</td>\n",
              "    </tr>\n",
              "    <tr>\n",
              "      <th>83858</th>\n",
              "      <td>4.0</td>\n",
              "      <td>0</td>\n",
              "      <td>1</td>\n",
              "      <td>0.300000</td>\n",
              "      <td>0</td>\n",
              "      <td>1</td>\n",
              "      <td>0</td>\n",
              "      <td>1</td>\n",
              "      <td>0</td>\n",
              "    </tr>\n",
              "    <tr>\n",
              "      <th>83859</th>\n",
              "      <td>5.0</td>\n",
              "      <td>0</td>\n",
              "      <td>1</td>\n",
              "      <td>0.066667</td>\n",
              "      <td>0</td>\n",
              "      <td>1</td>\n",
              "      <td>0</td>\n",
              "      <td>1</td>\n",
              "      <td>0</td>\n",
              "    </tr>\n",
              "  </tbody>\n",
              "</table>\n",
              "<p>12831 rows × 9 columns</p>\n",
              "</div>"
            ],
            "text/plain": [
              "       stop_sequence  rush_hour  ...  DayOfWeekID_6  Cluster\n",
              "0                1.0          0  ...              1        0\n",
              "1                2.0          0  ...              1        0\n",
              "2                3.0          0  ...              1        0\n",
              "3                4.0          0  ...              1        0\n",
              "4                5.0          0  ...              1        0\n",
              "...              ...        ...  ...            ...      ...\n",
              "83855            1.0          0  ...              1        0\n",
              "83856            2.0          0  ...              1        0\n",
              "83857            3.0          0  ...              1        0\n",
              "83858            4.0          0  ...              1        0\n",
              "83859            5.0          0  ...              1        0\n",
              "\n",
              "[12831 rows x 9 columns]"
            ]
          },
          "metadata": {},
          "execution_count": 51
        }
      ]
    },
    {
      "cell_type": "code",
      "metadata": {
        "colab": {
          "base_uri": "https://localhost:8080/",
          "height": 296
        },
        "id": "85sZPY6Ax7S9",
        "outputId": "6415cca2-a4b9-42da-c3c2-d4fd8533198a"
      },
      "source": [
        "sns.countplot(friTrain['Cluster'])\n"
      ],
      "execution_count": 52,
      "outputs": [
        {
          "output_type": "execute_result",
          "data": {
            "text/plain": [
              "<matplotlib.axes._subplots.AxesSubplot at 0x7f637aac5cd0>"
            ]
          },
          "metadata": {},
          "execution_count": 52
        },
        {
          "output_type": "display_data",
          "data": {
            "image/png": "[encoded data removed]",
            "text/plain": [
              "<Figure size 432x288 with 1 Axes>"
            ]
          },
          "metadata": {
            "needs_background": "light"
          }
        }
      ]
    },
    {
      "cell_type": "code",
      "metadata": {
        "colab": {
          "base_uri": "https://localhost:8080/",
          "height": 414
        },
        "id": "ZwNVsC70zfFN",
        "outputId": "09789687-6a11-4e95-c223-2790f7b61b0b"
      },
      "source": [
        "rushweek = one_hot_encoded_data.drop(['DayOfWeekID_1', 'DayOfWeekID_7'], axis=1)\n",
        "rushweek = rushweek[rushweek['is_Delayed_id']== 1]\n",
        "rushweek = rushweek[rushweek['rush_hour']== 1]\n",
        "\n",
        "rushweek"
      ],
      "execution_count": 53,
      "outputs": [
        {
          "output_type": "execute_result",
          "data": {
            "text/html": [
              "<div>\n",
              "<style scoped>\n",
              "    .dataframe tbody tr th:only-of-type {\n",
              "        vertical-align: middle;\n",
              "    }\n",
              "\n",
              "    .dataframe tbody tr th {\n",
              "        vertical-align: top;\n",
              "    }\n",
              "\n",
              "    .dataframe thead th {\n",
              "        text-align: right;\n",
              "    }\n",
              "</style>\n",
              "<table border=\"1\" class=\"dataframe\">\n",
              "  <thead>\n",
              "    <tr style=\"text-align: right;\">\n",
              "      <th></th>\n",
              "      <th>stop_sequence</th>\n",
              "      <th>rush_hour</th>\n",
              "      <th>is_Delayed_id</th>\n",
              "      <th>delay_minutes</th>\n",
              "      <th>statusID_0</th>\n",
              "      <th>statusID_1</th>\n",
              "      <th>statusID_2</th>\n",
              "      <th>DayOfWeekID_2</th>\n",
              "      <th>DayOfWeekID_3</th>\n",
              "      <th>DayOfWeekID_4</th>\n",
              "      <th>DayOfWeekID_5</th>\n",
              "      <th>DayOfWeekID_6</th>\n",
              "      <th>Cluster</th>\n",
              "    </tr>\n",
              "  </thead>\n",
              "  <tbody>\n",
              "    <tr>\n",
              "      <th>13</th>\n",
              "      <td>1.0</td>\n",
              "      <td>1</td>\n",
              "      <td>1</td>\n",
              "      <td>0.166667</td>\n",
              "      <td>0</td>\n",
              "      <td>1</td>\n",
              "      <td>0</td>\n",
              "      <td>0</td>\n",
              "      <td>0</td>\n",
              "      <td>0</td>\n",
              "      <td>0</td>\n",
              "      <td>1</td>\n",
              "      <td>0</td>\n",
              "    </tr>\n",
              "    <tr>\n",
              "      <th>14</th>\n",
              "      <td>2.0</td>\n",
              "      <td>1</td>\n",
              "      <td>1</td>\n",
              "      <td>1.366667</td>\n",
              "      <td>0</td>\n",
              "      <td>1</td>\n",
              "      <td>0</td>\n",
              "      <td>0</td>\n",
              "      <td>0</td>\n",
              "      <td>0</td>\n",
              "      <td>0</td>\n",
              "      <td>1</td>\n",
              "      <td>0</td>\n",
              "    </tr>\n",
              "    <tr>\n",
              "      <th>15</th>\n",
              "      <td>3.0</td>\n",
              "      <td>1</td>\n",
              "      <td>1</td>\n",
              "      <td>0.066667</td>\n",
              "      <td>0</td>\n",
              "      <td>1</td>\n",
              "      <td>0</td>\n",
              "      <td>0</td>\n",
              "      <td>0</td>\n",
              "      <td>0</td>\n",
              "      <td>0</td>\n",
              "      <td>1</td>\n",
              "      <td>0</td>\n",
              "    </tr>\n",
              "    <tr>\n",
              "      <th>16</th>\n",
              "      <td>4.0</td>\n",
              "      <td>1</td>\n",
              "      <td>1</td>\n",
              "      <td>1.283333</td>\n",
              "      <td>0</td>\n",
              "      <td>1</td>\n",
              "      <td>0</td>\n",
              "      <td>0</td>\n",
              "      <td>0</td>\n",
              "      <td>0</td>\n",
              "      <td>0</td>\n",
              "      <td>1</td>\n",
              "      <td>0</td>\n",
              "    </tr>\n",
              "    <tr>\n",
              "      <th>17</th>\n",
              "      <td>5.0</td>\n",
              "      <td>1</td>\n",
              "      <td>1</td>\n",
              "      <td>1.066667</td>\n",
              "      <td>0</td>\n",
              "      <td>1</td>\n",
              "      <td>0</td>\n",
              "      <td>0</td>\n",
              "      <td>0</td>\n",
              "      <td>0</td>\n",
              "      <td>0</td>\n",
              "      <td>1</td>\n",
              "      <td>0</td>\n",
              "    </tr>\n",
              "    <tr>\n",
              "      <th>...</th>\n",
              "      <td>...</td>\n",
              "      <td>...</td>\n",
              "      <td>...</td>\n",
              "      <td>...</td>\n",
              "      <td>...</td>\n",
              "      <td>...</td>\n",
              "      <td>...</td>\n",
              "      <td>...</td>\n",
              "      <td>...</td>\n",
              "      <td>...</td>\n",
              "      <td>...</td>\n",
              "      <td>...</td>\n",
              "      <td>...</td>\n",
              "    </tr>\n",
              "    <tr>\n",
              "      <th>98692</th>\n",
              "      <td>8.0</td>\n",
              "      <td>1</td>\n",
              "      <td>1</td>\n",
              "      <td>3.083333</td>\n",
              "      <td>0</td>\n",
              "      <td>1</td>\n",
              "      <td>0</td>\n",
              "      <td>1</td>\n",
              "      <td>0</td>\n",
              "      <td>0</td>\n",
              "      <td>0</td>\n",
              "      <td>0</td>\n",
              "      <td>5</td>\n",
              "    </tr>\n",
              "    <tr>\n",
              "      <th>98693</th>\n",
              "      <td>9.0</td>\n",
              "      <td>1</td>\n",
              "      <td>1</td>\n",
              "      <td>3.166667</td>\n",
              "      <td>0</td>\n",
              "      <td>1</td>\n",
              "      <td>0</td>\n",
              "      <td>1</td>\n",
              "      <td>0</td>\n",
              "      <td>0</td>\n",
              "      <td>0</td>\n",
              "      <td>0</td>\n",
              "      <td>5</td>\n",
              "    </tr>\n",
              "    <tr>\n",
              "      <th>98694</th>\n",
              "      <td>10.0</td>\n",
              "      <td>1</td>\n",
              "      <td>1</td>\n",
              "      <td>3.100000</td>\n",
              "      <td>0</td>\n",
              "      <td>1</td>\n",
              "      <td>0</td>\n",
              "      <td>1</td>\n",
              "      <td>0</td>\n",
              "      <td>0</td>\n",
              "      <td>0</td>\n",
              "      <td>0</td>\n",
              "      <td>5</td>\n",
              "    </tr>\n",
              "    <tr>\n",
              "      <th>98695</th>\n",
              "      <td>11.0</td>\n",
              "      <td>1</td>\n",
              "      <td>1</td>\n",
              "      <td>3.183333</td>\n",
              "      <td>0</td>\n",
              "      <td>1</td>\n",
              "      <td>0</td>\n",
              "      <td>1</td>\n",
              "      <td>0</td>\n",
              "      <td>0</td>\n",
              "      <td>0</td>\n",
              "      <td>0</td>\n",
              "      <td>5</td>\n",
              "    </tr>\n",
              "    <tr>\n",
              "      <th>98696</th>\n",
              "      <td>12.0</td>\n",
              "      <td>1</td>\n",
              "      <td>1</td>\n",
              "      <td>3.116667</td>\n",
              "      <td>0</td>\n",
              "      <td>1</td>\n",
              "      <td>0</td>\n",
              "      <td>1</td>\n",
              "      <td>0</td>\n",
              "      <td>0</td>\n",
              "      <td>0</td>\n",
              "      <td>0</td>\n",
              "      <td>5</td>\n",
              "    </tr>\n",
              "  </tbody>\n",
              "</table>\n",
              "<p>33085 rows × 13 columns</p>\n",
              "</div>"
            ],
            "text/plain": [
              "       stop_sequence  rush_hour  ...  DayOfWeekID_6  Cluster\n",
              "13               1.0          1  ...              1        0\n",
              "14               2.0          1  ...              1        0\n",
              "15               3.0          1  ...              1        0\n",
              "16               4.0          1  ...              1        0\n",
              "17               5.0          1  ...              1        0\n",
              "...              ...        ...  ...            ...      ...\n",
              "98692            8.0          1  ...              0        5\n",
              "98693            9.0          1  ...              0        5\n",
              "98694           10.0          1  ...              0        5\n",
              "98695           11.0          1  ...              0        5\n",
              "98696           12.0          1  ...              0        5\n",
              "\n",
              "[33085 rows x 13 columns]"
            ]
          },
          "metadata": {},
          "execution_count": 53
        }
      ]
    },
    {
      "cell_type": "code",
      "metadata": {
        "colab": {
          "base_uri": "https://localhost:8080/",
          "height": 296
        },
        "id": "QhTPMBrLzhdp",
        "outputId": "2814d09f-b4fd-4fb8-f018-a607fc3b130b"
      },
      "source": [
        "sns.countplot(rushweek['Cluster'])\n"
      ],
      "execution_count": 54,
      "outputs": [
        {
          "output_type": "execute_result",
          "data": {
            "text/plain": [
              "<matplotlib.axes._subplots.AxesSubplot at 0x7f637a27af10>"
            ]
          },
          "metadata": {},
          "execution_count": 54
        },
        {
          "output_type": "display_data",
          "data": {
            "image/png": "[encoded data removed]",
            "text/plain": [
              "<Figure size 432x288 with 1 Axes>"
            ]
          },
          "metadata": {
            "needs_background": "light"
          }
        }
      ]
    },
    {
      "cell_type": "markdown",
      "metadata": {
        "id": "sZPoTIEAzlOk"
      },
      "source": [
        "### K = 7"
      ]
    },
    {
      "cell_type": "code",
      "metadata": {
        "colab": {
          "base_uri": "https://localhost:8080/"
        },
        "id": "2_klMpKtzmpl",
        "outputId": "dec04bba-fac1-4091-ed50-d59f8fba02c2"
      },
      "source": [
        "# Defining the k-means\n",
        "kmeans_cluster = KMeans(n_clusters=7, random_state=42, max_iter=5000)\n",
        "\n",
        "# Fit model\n",
        "%timeit kmeans_cluster.fit(pcadf_pca)\n",
        "km_y_pred7 = kmeans_cluster.predict(pcadf_pca)\n",
        "print()\n",
        "print(\"The silhouette score of the k-Means solution: {}\"\n",
        "      .format(metrics.silhouette_score(pcadf_pca, km_y_pred7, metric='euclidean')))\n"
      ],
      "execution_count": 55,
      "outputs": [
        {
          "output_type": "stream",
          "name": "stdout",
          "text": [
            "1 loop, best of 5: 913 ms per loop\n",
            "\n",
            "The silhouette score of the k-Means solution: 0.5382261955307779\n"
          ]
        }
      ]
    },
    {
      "cell_type": "code",
      "metadata": {
        "colab": {
          "base_uri": "https://localhost:8080/",
          "height": 281
        },
        "id": "vbyE3Y_TzmsR",
        "outputId": "a604fd66-1378-4660-9aac-9f44a768dfde"
      },
      "source": [
        "sns.scatterplot(pcadf_pca[:,0], pcadf_pca[:,1], hue = km_y_pred7)\n",
        "plt.title(\"K = 7\")\n",
        "plt.legend()\n",
        "plt.show()"
      ],
      "execution_count": 56,
      "outputs": [
        {
          "output_type": "display_data",
          "data": {
            "image/png": "[encoded data removed]",
            "text/plain": [
              "<Figure size 432x288 with 1 Axes>"
            ]
          },
          "metadata": {
            "needs_background": "light"
          }
        }
      ]
    },
    {
      "cell_type": "code",
      "metadata": {
        "colab": {
          "base_uri": "https://localhost:8080/",
          "height": 414
        },
        "id": "Y4RJZjtrzmu9",
        "outputId": "a34f0092-8c81-460c-cca6-e53450ff4900"
      },
      "source": [
        "one_hot_encoded_data['Cluster'] = pd.Series(km_y_pred7, index=one_hot_encoded_data.index)\n",
        "one_hot_encoded_data"
      ],
      "execution_count": 57,
      "outputs": [
        {
          "output_type": "execute_result",
          "data": {
            "text/html": [
              "<div>\n",
              "<style scoped>\n",
              "    .dataframe tbody tr th:only-of-type {\n",
              "        vertical-align: middle;\n",
              "    }\n",
              "\n",
              "    .dataframe tbody tr th {\n",
              "        vertical-align: top;\n",
              "    }\n",
              "\n",
              "    .dataframe thead th {\n",
              "        text-align: right;\n",
              "    }\n",
              "</style>\n",
              "<table border=\"1\" class=\"dataframe\">\n",
              "  <thead>\n",
              "    <tr style=\"text-align: right;\">\n",
              "      <th></th>\n",
              "      <th>stop_sequence</th>\n",
              "      <th>rush_hour</th>\n",
              "      <th>is_Delayed_id</th>\n",
              "      <th>delay_minutes</th>\n",
              "      <th>statusID_0</th>\n",
              "      <th>statusID_1</th>\n",
              "      <th>statusID_2</th>\n",
              "      <th>DayOfWeekID_1</th>\n",
              "      <th>DayOfWeekID_2</th>\n",
              "      <th>DayOfWeekID_3</th>\n",
              "      <th>DayOfWeekID_4</th>\n",
              "      <th>DayOfWeekID_5</th>\n",
              "      <th>DayOfWeekID_6</th>\n",
              "      <th>DayOfWeekID_7</th>\n",
              "      <th>Cluster</th>\n",
              "    </tr>\n",
              "  </thead>\n",
              "  <tbody>\n",
              "    <tr>\n",
              "      <th>0</th>\n",
              "      <td>1.0</td>\n",
              "      <td>0</td>\n",
              "      <td>1</td>\n",
              "      <td>2.150000</td>\n",
              "      <td>0</td>\n",
              "      <td>1</td>\n",
              "      <td>0</td>\n",
              "      <td>0</td>\n",
              "      <td>0</td>\n",
              "      <td>0</td>\n",
              "      <td>0</td>\n",
              "      <td>0</td>\n",
              "      <td>1</td>\n",
              "      <td>0</td>\n",
              "      <td>4</td>\n",
              "    </tr>\n",
              "    <tr>\n",
              "      <th>1</th>\n",
              "      <td>2.0</td>\n",
              "      <td>0</td>\n",
              "      <td>1</td>\n",
              "      <td>0.016667</td>\n",
              "      <td>0</td>\n",
              "      <td>1</td>\n",
              "      <td>0</td>\n",
              "      <td>0</td>\n",
              "      <td>0</td>\n",
              "      <td>0</td>\n",
              "      <td>0</td>\n",
              "      <td>0</td>\n",
              "      <td>1</td>\n",
              "      <td>0</td>\n",
              "      <td>4</td>\n",
              "    </tr>\n",
              "    <tr>\n",
              "      <th>2</th>\n",
              "      <td>3.0</td>\n",
              "      <td>0</td>\n",
              "      <td>1</td>\n",
              "      <td>1.066667</td>\n",
              "      <td>0</td>\n",
              "      <td>1</td>\n",
              "      <td>0</td>\n",
              "      <td>0</td>\n",
              "      <td>0</td>\n",
              "      <td>0</td>\n",
              "      <td>0</td>\n",
              "      <td>0</td>\n",
              "      <td>1</td>\n",
              "      <td>0</td>\n",
              "      <td>4</td>\n",
              "    </tr>\n",
              "    <tr>\n",
              "      <th>3</th>\n",
              "      <td>4.0</td>\n",
              "      <td>0</td>\n",
              "      <td>1</td>\n",
              "      <td>0.516667</td>\n",
              "      <td>0</td>\n",
              "      <td>1</td>\n",
              "      <td>0</td>\n",
              "      <td>0</td>\n",
              "      <td>0</td>\n",
              "      <td>0</td>\n",
              "      <td>0</td>\n",
              "      <td>0</td>\n",
              "      <td>1</td>\n",
              "      <td>0</td>\n",
              "      <td>4</td>\n",
              "    </tr>\n",
              "    <tr>\n",
              "      <th>4</th>\n",
              "      <td>5.0</td>\n",
              "      <td>0</td>\n",
              "      <td>1</td>\n",
              "      <td>0.016667</td>\n",
              "      <td>0</td>\n",
              "      <td>1</td>\n",
              "      <td>0</td>\n",
              "      <td>0</td>\n",
              "      <td>0</td>\n",
              "      <td>0</td>\n",
              "      <td>0</td>\n",
              "      <td>0</td>\n",
              "      <td>1</td>\n",
              "      <td>0</td>\n",
              "      <td>4</td>\n",
              "    </tr>\n",
              "    <tr>\n",
              "      <th>...</th>\n",
              "      <td>...</td>\n",
              "      <td>...</td>\n",
              "      <td>...</td>\n",
              "      <td>...</td>\n",
              "      <td>...</td>\n",
              "      <td>...</td>\n",
              "      <td>...</td>\n",
              "      <td>...</td>\n",
              "      <td>...</td>\n",
              "      <td>...</td>\n",
              "      <td>...</td>\n",
              "      <td>...</td>\n",
              "      <td>...</td>\n",
              "      <td>...</td>\n",
              "      <td>...</td>\n",
              "    </tr>\n",
              "    <tr>\n",
              "      <th>98693</th>\n",
              "      <td>9.0</td>\n",
              "      <td>1</td>\n",
              "      <td>1</td>\n",
              "      <td>3.166667</td>\n",
              "      <td>0</td>\n",
              "      <td>1</td>\n",
              "      <td>0</td>\n",
              "      <td>0</td>\n",
              "      <td>1</td>\n",
              "      <td>0</td>\n",
              "      <td>0</td>\n",
              "      <td>0</td>\n",
              "      <td>0</td>\n",
              "      <td>0</td>\n",
              "      <td>0</td>\n",
              "    </tr>\n",
              "    <tr>\n",
              "      <th>98694</th>\n",
              "      <td>10.0</td>\n",
              "      <td>1</td>\n",
              "      <td>1</td>\n",
              "      <td>3.100000</td>\n",
              "      <td>0</td>\n",
              "      <td>1</td>\n",
              "      <td>0</td>\n",
              "      <td>0</td>\n",
              "      <td>1</td>\n",
              "      <td>0</td>\n",
              "      <td>0</td>\n",
              "      <td>0</td>\n",
              "      <td>0</td>\n",
              "      <td>0</td>\n",
              "      <td>0</td>\n",
              "    </tr>\n",
              "    <tr>\n",
              "      <th>98695</th>\n",
              "      <td>11.0</td>\n",
              "      <td>1</td>\n",
              "      <td>1</td>\n",
              "      <td>3.183333</td>\n",
              "      <td>0</td>\n",
              "      <td>1</td>\n",
              "      <td>0</td>\n",
              "      <td>0</td>\n",
              "      <td>1</td>\n",
              "      <td>0</td>\n",
              "      <td>0</td>\n",
              "      <td>0</td>\n",
              "      <td>0</td>\n",
              "      <td>0</td>\n",
              "      <td>0</td>\n",
              "    </tr>\n",
              "    <tr>\n",
              "      <th>98696</th>\n",
              "      <td>12.0</td>\n",
              "      <td>1</td>\n",
              "      <td>1</td>\n",
              "      <td>3.116667</td>\n",
              "      <td>0</td>\n",
              "      <td>1</td>\n",
              "      <td>0</td>\n",
              "      <td>0</td>\n",
              "      <td>1</td>\n",
              "      <td>0</td>\n",
              "      <td>0</td>\n",
              "      <td>0</td>\n",
              "      <td>0</td>\n",
              "      <td>0</td>\n",
              "      <td>0</td>\n",
              "    </tr>\n",
              "    <tr>\n",
              "      <th>98697</th>\n",
              "      <td>13.0</td>\n",
              "      <td>1</td>\n",
              "      <td>0</td>\n",
              "      <td>0.000000</td>\n",
              "      <td>0</td>\n",
              "      <td>0</td>\n",
              "      <td>1</td>\n",
              "      <td>0</td>\n",
              "      <td>1</td>\n",
              "      <td>0</td>\n",
              "      <td>0</td>\n",
              "      <td>0</td>\n",
              "      <td>0</td>\n",
              "      <td>0</td>\n",
              "      <td>1</td>\n",
              "    </tr>\n",
              "  </tbody>\n",
              "</table>\n",
              "<p>87172 rows × 15 columns</p>\n",
              "</div>"
            ],
            "text/plain": [
              "       stop_sequence  rush_hour  ...  DayOfWeekID_7  Cluster\n",
              "0                1.0          0  ...              0        4\n",
              "1                2.0          0  ...              0        4\n",
              "2                3.0          0  ...              0        4\n",
              "3                4.0          0  ...              0        4\n",
              "4                5.0          0  ...              0        4\n",
              "...              ...        ...  ...            ...      ...\n",
              "98693            9.0          1  ...              0        0\n",
              "98694           10.0          1  ...              0        0\n",
              "98695           11.0          1  ...              0        0\n",
              "98696           12.0          1  ...              0        0\n",
              "98697           13.0          1  ...              0        1\n",
              "\n",
              "[87172 rows x 15 columns]"
            ]
          },
          "metadata": {},
          "execution_count": 57
        }
      ]
    },
    {
      "cell_type": "code",
      "metadata": {
        "colab": {
          "base_uri": "https://localhost:8080/",
          "height": 414
        },
        "id": "cFCV-JVmzmxf",
        "outputId": "062b5c9d-e7a4-4424-e70b-ce282dd5aab5"
      },
      "source": [
        "friTrain = one_hot_encoded_data.drop(['DayOfWeekID_1', 'DayOfWeekID_2', 'DayOfWeekID_3', 'DayOfWeekID_4', 'DayOfWeekID_5', 'DayOfWeekID_7'], axis=1)\n",
        "friTrain = friTrain[friTrain['is_Delayed_id']== 1]\n",
        "friTrain = friTrain[friTrain['DayOfWeekID_6']== 1]\n",
        "\n",
        "friTrain"
      ],
      "execution_count": 58,
      "outputs": [
        {
          "output_type": "execute_result",
          "data": {
            "text/html": [
              "<div>\n",
              "<style scoped>\n",
              "    .dataframe tbody tr th:only-of-type {\n",
              "        vertical-align: middle;\n",
              "    }\n",
              "\n",
              "    .dataframe tbody tr th {\n",
              "        vertical-align: top;\n",
              "    }\n",
              "\n",
              "    .dataframe thead th {\n",
              "        text-align: right;\n",
              "    }\n",
              "</style>\n",
              "<table border=\"1\" class=\"dataframe\">\n",
              "  <thead>\n",
              "    <tr style=\"text-align: right;\">\n",
              "      <th></th>\n",
              "      <th>stop_sequence</th>\n",
              "      <th>rush_hour</th>\n",
              "      <th>is_Delayed_id</th>\n",
              "      <th>delay_minutes</th>\n",
              "      <th>statusID_0</th>\n",
              "      <th>statusID_1</th>\n",
              "      <th>statusID_2</th>\n",
              "      <th>DayOfWeekID_6</th>\n",
              "      <th>Cluster</th>\n",
              "    </tr>\n",
              "  </thead>\n",
              "  <tbody>\n",
              "    <tr>\n",
              "      <th>0</th>\n",
              "      <td>1.0</td>\n",
              "      <td>0</td>\n",
              "      <td>1</td>\n",
              "      <td>2.150000</td>\n",
              "      <td>0</td>\n",
              "      <td>1</td>\n",
              "      <td>0</td>\n",
              "      <td>1</td>\n",
              "      <td>4</td>\n",
              "    </tr>\n",
              "    <tr>\n",
              "      <th>1</th>\n",
              "      <td>2.0</td>\n",
              "      <td>0</td>\n",
              "      <td>1</td>\n",
              "      <td>0.016667</td>\n",
              "      <td>0</td>\n",
              "      <td>1</td>\n",
              "      <td>0</td>\n",
              "      <td>1</td>\n",
              "      <td>4</td>\n",
              "    </tr>\n",
              "    <tr>\n",
              "      <th>2</th>\n",
              "      <td>3.0</td>\n",
              "      <td>0</td>\n",
              "      <td>1</td>\n",
              "      <td>1.066667</td>\n",
              "      <td>0</td>\n",
              "      <td>1</td>\n",
              "      <td>0</td>\n",
              "      <td>1</td>\n",
              "      <td>4</td>\n",
              "    </tr>\n",
              "    <tr>\n",
              "      <th>3</th>\n",
              "      <td>4.0</td>\n",
              "      <td>0</td>\n",
              "      <td>1</td>\n",
              "      <td>0.516667</td>\n",
              "      <td>0</td>\n",
              "      <td>1</td>\n",
              "      <td>0</td>\n",
              "      <td>1</td>\n",
              "      <td>4</td>\n",
              "    </tr>\n",
              "    <tr>\n",
              "      <th>4</th>\n",
              "      <td>5.0</td>\n",
              "      <td>0</td>\n",
              "      <td>1</td>\n",
              "      <td>0.016667</td>\n",
              "      <td>0</td>\n",
              "      <td>1</td>\n",
              "      <td>0</td>\n",
              "      <td>1</td>\n",
              "      <td>4</td>\n",
              "    </tr>\n",
              "    <tr>\n",
              "      <th>...</th>\n",
              "      <td>...</td>\n",
              "      <td>...</td>\n",
              "      <td>...</td>\n",
              "      <td>...</td>\n",
              "      <td>...</td>\n",
              "      <td>...</td>\n",
              "      <td>...</td>\n",
              "      <td>...</td>\n",
              "      <td>...</td>\n",
              "    </tr>\n",
              "    <tr>\n",
              "      <th>83855</th>\n",
              "      <td>1.0</td>\n",
              "      <td>0</td>\n",
              "      <td>1</td>\n",
              "      <td>2.116667</td>\n",
              "      <td>0</td>\n",
              "      <td>1</td>\n",
              "      <td>0</td>\n",
              "      <td>1</td>\n",
              "      <td>4</td>\n",
              "    </tr>\n",
              "    <tr>\n",
              "      <th>83856</th>\n",
              "      <td>2.0</td>\n",
              "      <td>0</td>\n",
              "      <td>1</td>\n",
              "      <td>6.000000</td>\n",
              "      <td>0</td>\n",
              "      <td>1</td>\n",
              "      <td>0</td>\n",
              "      <td>1</td>\n",
              "      <td>4</td>\n",
              "    </tr>\n",
              "    <tr>\n",
              "      <th>83857</th>\n",
              "      <td>3.0</td>\n",
              "      <td>0</td>\n",
              "      <td>1</td>\n",
              "      <td>1.116667</td>\n",
              "      <td>0</td>\n",
              "      <td>1</td>\n",
              "      <td>0</td>\n",
              "      <td>1</td>\n",
              "      <td>4</td>\n",
              "    </tr>\n",
              "    <tr>\n",
              "      <th>83858</th>\n",
              "      <td>4.0</td>\n",
              "      <td>0</td>\n",
              "      <td>1</td>\n",
              "      <td>0.300000</td>\n",
              "      <td>0</td>\n",
              "      <td>1</td>\n",
              "      <td>0</td>\n",
              "      <td>1</td>\n",
              "      <td>4</td>\n",
              "    </tr>\n",
              "    <tr>\n",
              "      <th>83859</th>\n",
              "      <td>5.0</td>\n",
              "      <td>0</td>\n",
              "      <td>1</td>\n",
              "      <td>0.066667</td>\n",
              "      <td>0</td>\n",
              "      <td>1</td>\n",
              "      <td>0</td>\n",
              "      <td>1</td>\n",
              "      <td>4</td>\n",
              "    </tr>\n",
              "  </tbody>\n",
              "</table>\n",
              "<p>12831 rows × 9 columns</p>\n",
              "</div>"
            ],
            "text/plain": [
              "       stop_sequence  rush_hour  ...  DayOfWeekID_6  Cluster\n",
              "0                1.0          0  ...              1        4\n",
              "1                2.0          0  ...              1        4\n",
              "2                3.0          0  ...              1        4\n",
              "3                4.0          0  ...              1        4\n",
              "4                5.0          0  ...              1        4\n",
              "...              ...        ...  ...            ...      ...\n",
              "83855            1.0          0  ...              1        4\n",
              "83856            2.0          0  ...              1        4\n",
              "83857            3.0          0  ...              1        4\n",
              "83858            4.0          0  ...              1        4\n",
              "83859            5.0          0  ...              1        4\n",
              "\n",
              "[12831 rows x 9 columns]"
            ]
          },
          "metadata": {},
          "execution_count": 58
        }
      ]
    },
    {
      "cell_type": "code",
      "metadata": {
        "colab": {
          "base_uri": "https://localhost:8080/"
        },
        "id": "m63i9t8Jzm0P",
        "outputId": "36c3fd66-2d25-4d9c-bf79-dac9ba477747"
      },
      "source": [
        "friTrain['Cluster'].value_counts()"
      ],
      "execution_count": 59,
      "outputs": [
        {
          "output_type": "execute_result",
          "data": {
            "text/plain": [
              "4    6594\n",
              "0    5837\n",
              "1     398\n",
              "2       2\n",
              "Name: Cluster, dtype: int64"
            ]
          },
          "metadata": {},
          "execution_count": 59
        }
      ]
    },
    {
      "cell_type": "code",
      "metadata": {
        "colab": {
          "base_uri": "https://localhost:8080/",
          "height": 296
        },
        "id": "EcTmYXAl4Gis",
        "outputId": "942ee31b-030e-4e81-e07e-220a118faf8c"
      },
      "source": [
        "sns.countplot(friTrain['Cluster'])\n"
      ],
      "execution_count": 60,
      "outputs": [
        {
          "output_type": "execute_result",
          "data": {
            "text/plain": [
              "<matplotlib.axes._subplots.AxesSubplot at 0x7f637a398750>"
            ]
          },
          "metadata": {},
          "execution_count": 60
        },
        {
          "output_type": "display_data",
          "data": {
            "image/png": "[encoded data removed]",
            "text/plain": [
              "<Figure size 432x288 with 1 Axes>"
            ]
          },
          "metadata": {
            "needs_background": "light"
          }
        }
      ]
    },
    {
      "cell_type": "code",
      "metadata": {
        "colab": {
          "base_uri": "https://localhost:8080/",
          "height": 414
        },
        "id": "Wb1efJduz4IF",
        "outputId": "87218c6f-b506-444b-9bb3-860e029e2a14"
      },
      "source": [
        "rushweek = one_hot_encoded_data.drop(['DayOfWeekID_1', 'DayOfWeekID_7'], axis=1)\n",
        "rushweek = rushweek[rushweek['is_Delayed_id']== 1]\n",
        "rushweek = rushweek[rushweek['rush_hour']== 1]\n",
        "\n",
        "rushweek"
      ],
      "execution_count": 61,
      "outputs": [
        {
          "output_type": "execute_result",
          "data": {
            "text/html": [
              "<div>\n",
              "<style scoped>\n",
              "    .dataframe tbody tr th:only-of-type {\n",
              "        vertical-align: middle;\n",
              "    }\n",
              "\n",
              "    .dataframe tbody tr th {\n",
              "        vertical-align: top;\n",
              "    }\n",
              "\n",
              "    .dataframe thead th {\n",
              "        text-align: right;\n",
              "    }\n",
              "</style>\n",
              "<table border=\"1\" class=\"dataframe\">\n",
              "  <thead>\n",
              "    <tr style=\"text-align: right;\">\n",
              "      <th></th>\n",
              "      <th>stop_sequence</th>\n",
              "      <th>rush_hour</th>\n",
              "      <th>is_Delayed_id</th>\n",
              "      <th>delay_minutes</th>\n",
              "      <th>statusID_0</th>\n",
              "      <th>statusID_1</th>\n",
              "      <th>statusID_2</th>\n",
              "      <th>DayOfWeekID_2</th>\n",
              "      <th>DayOfWeekID_3</th>\n",
              "      <th>DayOfWeekID_4</th>\n",
              "      <th>DayOfWeekID_5</th>\n",
              "      <th>DayOfWeekID_6</th>\n",
              "      <th>Cluster</th>\n",
              "    </tr>\n",
              "  </thead>\n",
              "  <tbody>\n",
              "    <tr>\n",
              "      <th>13</th>\n",
              "      <td>1.0</td>\n",
              "      <td>1</td>\n",
              "      <td>1</td>\n",
              "      <td>0.166667</td>\n",
              "      <td>0</td>\n",
              "      <td>1</td>\n",
              "      <td>0</td>\n",
              "      <td>0</td>\n",
              "      <td>0</td>\n",
              "      <td>0</td>\n",
              "      <td>0</td>\n",
              "      <td>1</td>\n",
              "      <td>4</td>\n",
              "    </tr>\n",
              "    <tr>\n",
              "      <th>14</th>\n",
              "      <td>2.0</td>\n",
              "      <td>1</td>\n",
              "      <td>1</td>\n",
              "      <td>1.366667</td>\n",
              "      <td>0</td>\n",
              "      <td>1</td>\n",
              "      <td>0</td>\n",
              "      <td>0</td>\n",
              "      <td>0</td>\n",
              "      <td>0</td>\n",
              "      <td>0</td>\n",
              "      <td>1</td>\n",
              "      <td>4</td>\n",
              "    </tr>\n",
              "    <tr>\n",
              "      <th>15</th>\n",
              "      <td>3.0</td>\n",
              "      <td>1</td>\n",
              "      <td>1</td>\n",
              "      <td>0.066667</td>\n",
              "      <td>0</td>\n",
              "      <td>1</td>\n",
              "      <td>0</td>\n",
              "      <td>0</td>\n",
              "      <td>0</td>\n",
              "      <td>0</td>\n",
              "      <td>0</td>\n",
              "      <td>1</td>\n",
              "      <td>4</td>\n",
              "    </tr>\n",
              "    <tr>\n",
              "      <th>16</th>\n",
              "      <td>4.0</td>\n",
              "      <td>1</td>\n",
              "      <td>1</td>\n",
              "      <td>1.283333</td>\n",
              "      <td>0</td>\n",
              "      <td>1</td>\n",
              "      <td>0</td>\n",
              "      <td>0</td>\n",
              "      <td>0</td>\n",
              "      <td>0</td>\n",
              "      <td>0</td>\n",
              "      <td>1</td>\n",
              "      <td>4</td>\n",
              "    </tr>\n",
              "    <tr>\n",
              "      <th>17</th>\n",
              "      <td>5.0</td>\n",
              "      <td>1</td>\n",
              "      <td>1</td>\n",
              "      <td>1.066667</td>\n",
              "      <td>0</td>\n",
              "      <td>1</td>\n",
              "      <td>0</td>\n",
              "      <td>0</td>\n",
              "      <td>0</td>\n",
              "      <td>0</td>\n",
              "      <td>0</td>\n",
              "      <td>1</td>\n",
              "      <td>4</td>\n",
              "    </tr>\n",
              "    <tr>\n",
              "      <th>...</th>\n",
              "      <td>...</td>\n",
              "      <td>...</td>\n",
              "      <td>...</td>\n",
              "      <td>...</td>\n",
              "      <td>...</td>\n",
              "      <td>...</td>\n",
              "      <td>...</td>\n",
              "      <td>...</td>\n",
              "      <td>...</td>\n",
              "      <td>...</td>\n",
              "      <td>...</td>\n",
              "      <td>...</td>\n",
              "      <td>...</td>\n",
              "    </tr>\n",
              "    <tr>\n",
              "      <th>98692</th>\n",
              "      <td>8.0</td>\n",
              "      <td>1</td>\n",
              "      <td>1</td>\n",
              "      <td>3.083333</td>\n",
              "      <td>0</td>\n",
              "      <td>1</td>\n",
              "      <td>0</td>\n",
              "      <td>1</td>\n",
              "      <td>0</td>\n",
              "      <td>0</td>\n",
              "      <td>0</td>\n",
              "      <td>0</td>\n",
              "      <td>0</td>\n",
              "    </tr>\n",
              "    <tr>\n",
              "      <th>98693</th>\n",
              "      <td>9.0</td>\n",
              "      <td>1</td>\n",
              "      <td>1</td>\n",
              "      <td>3.166667</td>\n",
              "      <td>0</td>\n",
              "      <td>1</td>\n",
              "      <td>0</td>\n",
              "      <td>1</td>\n",
              "      <td>0</td>\n",
              "      <td>0</td>\n",
              "      <td>0</td>\n",
              "      <td>0</td>\n",
              "      <td>0</td>\n",
              "    </tr>\n",
              "    <tr>\n",
              "      <th>98694</th>\n",
              "      <td>10.0</td>\n",
              "      <td>1</td>\n",
              "      <td>1</td>\n",
              "      <td>3.100000</td>\n",
              "      <td>0</td>\n",
              "      <td>1</td>\n",
              "      <td>0</td>\n",
              "      <td>1</td>\n",
              "      <td>0</td>\n",
              "      <td>0</td>\n",
              "      <td>0</td>\n",
              "      <td>0</td>\n",
              "      <td>0</td>\n",
              "    </tr>\n",
              "    <tr>\n",
              "      <th>98695</th>\n",
              "      <td>11.0</td>\n",
              "      <td>1</td>\n",
              "      <td>1</td>\n",
              "      <td>3.183333</td>\n",
              "      <td>0</td>\n",
              "      <td>1</td>\n",
              "      <td>0</td>\n",
              "      <td>1</td>\n",
              "      <td>0</td>\n",
              "      <td>0</td>\n",
              "      <td>0</td>\n",
              "      <td>0</td>\n",
              "      <td>0</td>\n",
              "    </tr>\n",
              "    <tr>\n",
              "      <th>98696</th>\n",
              "      <td>12.0</td>\n",
              "      <td>1</td>\n",
              "      <td>1</td>\n",
              "      <td>3.116667</td>\n",
              "      <td>0</td>\n",
              "      <td>1</td>\n",
              "      <td>0</td>\n",
              "      <td>1</td>\n",
              "      <td>0</td>\n",
              "      <td>0</td>\n",
              "      <td>0</td>\n",
              "      <td>0</td>\n",
              "      <td>0</td>\n",
              "    </tr>\n",
              "  </tbody>\n",
              "</table>\n",
              "<p>33085 rows × 13 columns</p>\n",
              "</div>"
            ],
            "text/plain": [
              "       stop_sequence  rush_hour  ...  DayOfWeekID_6  Cluster\n",
              "13               1.0          1  ...              1        4\n",
              "14               2.0          1  ...              1        4\n",
              "15               3.0          1  ...              1        4\n",
              "16               4.0          1  ...              1        4\n",
              "17               5.0          1  ...              1        4\n",
              "...              ...        ...  ...            ...      ...\n",
              "98692            8.0          1  ...              0        0\n",
              "98693            9.0          1  ...              0        0\n",
              "98694           10.0          1  ...              0        0\n",
              "98695           11.0          1  ...              0        0\n",
              "98696           12.0          1  ...              0        0\n",
              "\n",
              "[33085 rows x 13 columns]"
            ]
          },
          "metadata": {},
          "execution_count": 61
        }
      ]
    },
    {
      "cell_type": "code",
      "metadata": {
        "colab": {
          "base_uri": "https://localhost:8080/"
        },
        "id": "2tqhSsI3z5pU",
        "outputId": "8a807abe-dec4-4985-b755-71da27e63803"
      },
      "source": [
        "rushweek['Cluster'].value_counts()"
      ],
      "execution_count": 62,
      "outputs": [
        {
          "output_type": "execute_result",
          "data": {
            "text/plain": [
              "4    16649\n",
              "0    11660\n",
              "3     3916\n",
              "1      703\n",
              "6      100\n",
              "5       50\n",
              "2        7\n",
              "Name: Cluster, dtype: int64"
            ]
          },
          "metadata": {},
          "execution_count": 62
        }
      ]
    },
    {
      "cell_type": "code",
      "metadata": {
        "colab": {
          "base_uri": "https://localhost:8080/",
          "height": 296
        },
        "id": "vkW3qvEj3nVv",
        "outputId": "bd0eba4d-8f2d-4eb2-be39-2689a04a1ba1"
      },
      "source": [
        "sns.countplot(rushweek['Cluster'])\n"
      ],
      "execution_count": 63,
      "outputs": [
        {
          "output_type": "execute_result",
          "data": {
            "text/plain": [
              "<matplotlib.axes._subplots.AxesSubplot at 0x7f637a08f8d0>"
            ]
          },
          "metadata": {},
          "execution_count": 63
        },
        {
          "output_type": "display_data",
          "data": {
            "image/png": "[encoded data removed]",
            "text/plain": [
              "<Figure size 432x288 with 1 Axes>"
            ]
          },
          "metadata": {
            "needs_background": "light"
          }
        }
      ]
    },
    {
      "cell_type": "markdown",
      "metadata": {
        "id": "Y6gjotqqfVZO"
      },
      "source": [
        "### T-SNE Reduction"
      ]
    },
    {
      "cell_type": "code",
      "metadata": {
        "id": "9fqnIezHdiXw"
      },
      "source": [
        "Data = one_hot_encoded_data.drop(['delay_minutes'], axis = 1)\n",
        "# load data into X variables\n",
        "X = Data\n",
        "# need to standardize the features\n",
        "X_std = StandardScaler().fit_transform(X)"
      ],
      "execution_count": 64,
      "outputs": []
    },
    {
      "cell_type": "code",
      "metadata": {
        "colab": {
          "base_uri": "https://localhost:8080/"
        },
        "id": "1hIXg0VedxVz",
        "outputId": "965e9046-96c2-4e61-feae-b4b13f25a329"
      },
      "source": [
        "time_start = time.time()\n",
        "tsne = TSNE(n_components=2, verbose=1, perplexity=30, n_iter=300)\n",
        "tsne_results = tsne.fit_transform(X_std)\n",
        "\n",
        "print('t-SNE done! Time elapsed: {} seconds'.format(time.time()-time_start))\n"
      ],
      "execution_count": null,
      "outputs": [
        {
          "output_type": "stream",
          "name": "stdout",
          "text": [
            "[t-SNE] Computing 91 nearest neighbors...\n",
            "[t-SNE] Indexed 87172 samples in 12.662s...\n",
            "[t-SNE] Computed neighbors for 87172 samples in 16.465s...\n",
            "[t-SNE] Computed conditional probabilities for sample 1000 / 87172\n",
            "[t-SNE] Computed conditional probabilities for sample 2000 / 87172\n",
            "[t-SNE] Computed conditional probabilities for sample 3000 / 87172\n",
            "[t-SNE] Computed conditional probabilities for sample 4000 / 87172\n",
            "[t-SNE] Computed conditional probabilities for sample 5000 / 87172\n",
            "[t-SNE] Computed conditional probabilities for sample 6000 / 87172\n",
            "[t-SNE] Computed conditional probabilities for sample 7000 / 87172\n",
            "[t-SNE] Computed conditional probabilities for sample 8000 / 87172\n",
            "[t-SNE] Computed conditional probabilities for sample 9000 / 87172\n",
            "[t-SNE] Computed conditional probabilities for sample 10000 / 87172\n",
            "[t-SNE] Computed conditional probabilities for sample 11000 / 87172\n",
            "[t-SNE] Computed conditional probabilities for sample 12000 / 87172\n",
            "[t-SNE] Computed conditional probabilities for sample 13000 / 87172\n",
            "[t-SNE] Computed conditional probabilities for sample 14000 / 87172\n",
            "[t-SNE] Computed conditional probabilities for sample 15000 / 87172\n",
            "[t-SNE] Computed conditional probabilities for sample 16000 / 87172\n",
            "[t-SNE] Computed conditional probabilities for sample 17000 / 87172\n",
            "[t-SNE] Computed conditional probabilities for sample 18000 / 87172\n",
            "[t-SNE] Computed conditional probabilities for sample 19000 / 87172\n",
            "[t-SNE] Computed conditional probabilities for sample 20000 / 87172\n",
            "[t-SNE] Computed conditional probabilities for sample 21000 / 87172\n",
            "[t-SNE] Computed conditional probabilities for sample 22000 / 87172\n",
            "[t-SNE] Computed conditional probabilities for sample 23000 / 87172\n",
            "[t-SNE] Computed conditional probabilities for sample 24000 / 87172\n",
            "[t-SNE] Computed conditional probabilities for sample 25000 / 87172\n",
            "[t-SNE] Computed conditional probabilities for sample 26000 / 87172\n",
            "[t-SNE] Computed conditional probabilities for sample 27000 / 87172\n",
            "[t-SNE] Computed conditional probabilities for sample 28000 / 87172\n",
            "[t-SNE] Computed conditional probabilities for sample 29000 / 87172\n",
            "[t-SNE] Computed conditional probabilities for sample 30000 / 87172\n",
            "[t-SNE] Computed conditional probabilities for sample 31000 / 87172\n",
            "[t-SNE] Computed conditional probabilities for sample 32000 / 87172\n",
            "[t-SNE] Computed conditional probabilities for sample 33000 / 87172\n",
            "[t-SNE] Computed conditional probabilities for sample 34000 / 87172\n",
            "[t-SNE] Computed conditional probabilities for sample 35000 / 87172\n",
            "[t-SNE] Computed conditional probabilities for sample 36000 / 87172\n",
            "[t-SNE] Computed conditional probabilities for sample 37000 / 87172\n",
            "[t-SNE] Computed conditional probabilities for sample 38000 / 87172\n",
            "[t-SNE] Computed conditional probabilities for sample 39000 / 87172\n",
            "[t-SNE] Computed conditional probabilities for sample 40000 / 87172\n",
            "[t-SNE] Computed conditional probabilities for sample 41000 / 87172\n",
            "[t-SNE] Computed conditional probabilities for sample 42000 / 87172\n",
            "[t-SNE] Computed conditional probabilities for sample 43000 / 87172\n",
            "[t-SNE] Computed conditional probabilities for sample 44000 / 87172\n",
            "[t-SNE] Computed conditional probabilities for sample 45000 / 87172\n",
            "[t-SNE] Computed conditional probabilities for sample 46000 / 87172\n",
            "[t-SNE] Computed conditional probabilities for sample 47000 / 87172\n",
            "[t-SNE] Computed conditional probabilities for sample 48000 / 87172\n",
            "[t-SNE] Computed conditional probabilities for sample 49000 / 87172\n",
            "[t-SNE] Computed conditional probabilities for sample 50000 / 87172\n",
            "[t-SNE] Computed conditional probabilities for sample 51000 / 87172\n",
            "[t-SNE] Computed conditional probabilities for sample 52000 / 87172\n",
            "[t-SNE] Computed conditional probabilities for sample 53000 / 87172\n",
            "[t-SNE] Computed conditional probabilities for sample 54000 / 87172\n",
            "[t-SNE] Computed conditional probabilities for sample 55000 / 87172\n",
            "[t-SNE] Computed conditional probabilities for sample 56000 / 87172\n",
            "[t-SNE] Computed conditional probabilities for sample 57000 / 87172\n",
            "[t-SNE] Computed conditional probabilities for sample 58000 / 87172\n",
            "[t-SNE] Computed conditional probabilities for sample 59000 / 87172\n",
            "[t-SNE] Computed conditional probabilities for sample 60000 / 87172\n",
            "[t-SNE] Computed conditional probabilities for sample 61000 / 87172\n",
            "[t-SNE] Computed conditional probabilities for sample 62000 / 87172\n",
            "[t-SNE] Computed conditional probabilities for sample 63000 / 87172\n",
            "[t-SNE] Computed conditional probabilities for sample 64000 / 87172\n",
            "[t-SNE] Computed conditional probabilities for sample 65000 / 87172\n",
            "[t-SNE] Computed conditional probabilities for sample 66000 / 87172\n",
            "[t-SNE] Computed conditional probabilities for sample 67000 / 87172\n",
            "[t-SNE] Computed conditional probabilities for sample 68000 / 87172\n",
            "[t-SNE] Computed conditional probabilities for sample 69000 / 87172\n",
            "[t-SNE] Computed conditional probabilities for sample 70000 / 87172\n",
            "[t-SNE] Computed conditional probabilities for sample 71000 / 87172\n",
            "[t-SNE] Computed conditional probabilities for sample 72000 / 87172\n",
            "[t-SNE] Computed conditional probabilities for sample 73000 / 87172\n",
            "[t-SNE] Computed conditional probabilities for sample 74000 / 87172\n",
            "[t-SNE] Computed conditional probabilities for sample 75000 / 87172\n",
            "[t-SNE] Computed conditional probabilities for sample 76000 / 87172\n",
            "[t-SNE] Computed conditional probabilities for sample 77000 / 87172\n",
            "[t-SNE] Computed conditional probabilities for sample 78000 / 87172\n",
            "[t-SNE] Computed conditional probabilities for sample 79000 / 87172\n",
            "[t-SNE] Computed conditional probabilities for sample 80000 / 87172\n",
            "[t-SNE] Computed conditional probabilities for sample 81000 / 87172\n",
            "[t-SNE] Computed conditional probabilities for sample 82000 / 87172\n",
            "[t-SNE] Computed conditional probabilities for sample 83000 / 87172\n",
            "[t-SNE] Computed conditional probabilities for sample 84000 / 87172\n",
            "[t-SNE] Computed conditional probabilities for sample 85000 / 87172\n",
            "[t-SNE] Computed conditional probabilities for sample 86000 / 87172\n",
            "[t-SNE] Computed conditional probabilities for sample 87000 / 87172\n",
            "[t-SNE] Computed conditional probabilities for sample 87172 / 87172\n",
            "[t-SNE] Mean sigma: 0.000000\n"
          ]
        }
      ]
    },
    {
      "cell_type": "markdown",
      "metadata": {
        "id": "rrnJFyZfd1uO"
      },
      "source": [
        "### GMM"
      ]
    },
    {
      "cell_type": "markdown",
      "metadata": {
        "id": "2w_bkE3umTui"
      },
      "source": [
        "### K = 3"
      ]
    },
    {
      "cell_type": "code",
      "metadata": {
        "id": "3ugc9v88d3or"
      },
      "source": [
        "from sklearn.mixture import GaussianMixture\n",
        "\n",
        "# Defining the agglomerative clustering\n",
        "gmm_cluster = GaussianMixture(n_components=3, random_state=42, max_iter=5000)\n",
        "\n",
        "# Fit model\n",
        "%timeit clusters = gmm_cluster.fit(pcadf_pca)\n",
        "gmm_y_pred3 = gmm_cluster.predict(pcadf_pca)\n",
        "print()\n",
        "print(\"The silhoutte score of the GMM solution: {}\"\n",
        "      .format(metrics.silhouette_score(pcadf_pca, gmm_y_pred3, metric='euclidean')))\n"
      ],
      "execution_count": null,
      "outputs": []
    },
    {
      "cell_type": "code",
      "metadata": {
        "id": "hZFkraHWjI4M"
      },
      "source": [
        "# Plot the solution.\n",
        "sns.scatterplot(pcadf_pca[:,0], pcadf_pca[:,1], hue = gmm_y_pred3)\n",
        "plt.title(\"K = 3\")\n",
        "plt.legend()\n",
        "plt.show()"
      ],
      "execution_count": null,
      "outputs": []
    },
    {
      "cell_type": "markdown",
      "metadata": {
        "id": "Bhy2ouT_mVbE"
      },
      "source": [
        "### K = 4"
      ]
    },
    {
      "cell_type": "code",
      "metadata": {
        "id": "OP9JYlONkQ8q"
      },
      "source": [
        "# Defining the Gaussian\n",
        "gmm_cluster = GaussianMixture(n_components=4, random_state=42, max_iter=5000)\n",
        "\n",
        "# Fit model\n",
        "%timeit clusters = gmm_cluster.fit(pcadf_pca)\n",
        "gmm_y_pred4 = gmm_cluster.predict(pcadf_pca)\n",
        "print()\n",
        "print(\"The silhoutte score of the GMM solution: {}\"\n",
        "      .format(metrics.silhouette_score(pcadf_pca, gmm_y_pred4, metric='euclidean')))\n"
      ],
      "execution_count": null,
      "outputs": []
    },
    {
      "cell_type": "code",
      "metadata": {
        "id": "5VkmL3Mzkz_f"
      },
      "source": [
        "sns.scatterplot(pcadf_pca[:,0], pcadf_pca[:,1], hue = gmm_y_pred4)\n",
        "plt.title(\"K = 4\")\n",
        "plt.legend()\n",
        "plt.show()"
      ],
      "execution_count": null,
      "outputs": []
    },
    {
      "cell_type": "code",
      "metadata": {
        "id": "4aHEZrNClLxP"
      },
      "source": [
        "one_hot_encoded_data['Cluster'] = pd.Series(gmm_y_pred4, index=one_hot_encoded_data.index)\n",
        "one_hot_encoded_data"
      ],
      "execution_count": null,
      "outputs": []
    },
    {
      "cell_type": "code",
      "metadata": {
        "id": "YR6zymMtlU8v"
      },
      "source": [
        "friTrain = one_hot_encoded_data.drop(['DayOfWeekID_1', 'DayOfWeekID_2', 'DayOfWeekID_3', 'DayOfWeekID_4', 'DayOfWeekID_5', 'DayOfWeekID_7'], axis=1)\n",
        "friTrain = friTrain[friTrain['is_Delayed_id']== 1]\n",
        "friTrain = friTrain[friTrain['DayOfWeekID_6']== 1]\n",
        "\n",
        "friTrain"
      ],
      "execution_count": null,
      "outputs": []
    },
    {
      "cell_type": "code",
      "metadata": {
        "id": "i1AUGCDil6mp"
      },
      "source": [
        "sns.countplot(friTrain['Cluster'])\n"
      ],
      "execution_count": null,
      "outputs": []
    },
    {
      "cell_type": "code",
      "metadata": {
        "id": "9lZeaDkhmGFZ"
      },
      "source": [
        "rushweek = one_hot_encoded_data.drop(['DayOfWeekID_1', 'DayOfWeekID_7'], axis=1)\n",
        "rushweek = rushweek[rushweek['is_Delayed_id']== 1]\n",
        "rushweek = rushweek[rushweek['rush_hour']== 1]\n",
        "\n",
        "rushweek"
      ],
      "execution_count": null,
      "outputs": []
    },
    {
      "cell_type": "code",
      "metadata": {
        "id": "fRr1NtDlmJGx"
      },
      "source": [
        "sns.countplot(rushweek['Cluster'])\n"
      ],
      "execution_count": null,
      "outputs": []
    },
    {
      "cell_type": "markdown",
      "metadata": {
        "id": "QOfFN3c5mXnR"
      },
      "source": [
        "### K = 5"
      ]
    },
    {
      "cell_type": "code",
      "metadata": {
        "id": "_rCCcvDWmbhi"
      },
      "source": [
        "# Defining the Gaussian\n",
        "gmm_cluster = GaussianMixture(n_components=5, random_state=42, max_iter=5000)\n",
        "\n",
        "# Fit model\n",
        "%timeit clusters = gmm_cluster.fit(pcadf_pca)\n",
        "gmm_y_pred5 = gmm_cluster.predict(pcadf_pca)\n",
        "print()\n",
        "print(\"The silhoutte score of the GMM solution: {}\"\n",
        "      .format(metrics.silhouette_score(pcadf_pca, gmm_y_pred5, metric='euclidean')))\n"
      ],
      "execution_count": null,
      "outputs": []
    },
    {
      "cell_type": "code",
      "metadata": {
        "id": "sKWAfWnumbkI"
      },
      "source": [
        "sns.scatterplot(pcadf_pca[:,0], pcadf_pca[:,1], hue = gmm_y_pred5)\n",
        "plt.title(\"K = 5\")\n",
        "plt.legend()\n",
        "plt.show()"
      ],
      "execution_count": null,
      "outputs": []
    },
    {
      "cell_type": "code",
      "metadata": {
        "id": "8iWx-EaAmbmq"
      },
      "source": [
        "one_hot_encoded_data['Cluster'] = pd.Series(gmm_y_pred5, index=one_hot_encoded_data.index)\n",
        "one_hot_encoded_data"
      ],
      "execution_count": null,
      "outputs": []
    },
    {
      "cell_type": "code",
      "metadata": {
        "id": "ijxxRljHmbrz"
      },
      "source": [
        "friTrain = one_hot_encoded_data.drop(['DayOfWeekID_1', 'DayOfWeekID_2', 'DayOfWeekID_3', 'DayOfWeekID_4', 'DayOfWeekID_5', 'DayOfWeekID_7'], axis=1)\n",
        "friTrain = friTrain[friTrain['is_Delayed_id']== 1]\n",
        "friTrain = friTrain[friTrain['DayOfWeekID_6']== 1]\n",
        "\n",
        "friTrain"
      ],
      "execution_count": null,
      "outputs": []
    },
    {
      "cell_type": "code",
      "metadata": {
        "id": "kOd9yosUmbt7"
      },
      "source": [
        "sns.countplot(friTrain['Cluster'])\n"
      ],
      "execution_count": null,
      "outputs": []
    },
    {
      "cell_type": "code",
      "metadata": {
        "id": "CYPD8Ub0mbw6"
      },
      "source": [
        "rushweek = one_hot_encoded_data.drop(['DayOfWeekID_1', 'DayOfWeekID_7'], axis=1)\n",
        "rushweek = rushweek[rushweek['is_Delayed_id']== 1]\n",
        "rushweek = rushweek[rushweek['rush_hour']== 1]\n",
        "\n",
        "rushweek"
      ],
      "execution_count": null,
      "outputs": []
    },
    {
      "cell_type": "code",
      "metadata": {
        "id": "Ukb95mezmbzp"
      },
      "source": [
        "sns.countplot(rushweek['Cluster'])\n"
      ],
      "execution_count": null,
      "outputs": []
    },
    {
      "cell_type": "markdown",
      "metadata": {
        "id": "ujOSRrjymYlH"
      },
      "source": [
        "### K = 6"
      ]
    },
    {
      "cell_type": "code",
      "metadata": {
        "id": "rDUmCW0tm9SO"
      },
      "source": [
        "# Defining the Gaussian\n",
        "gmm_cluster = GaussianMixture(n_components=6, random_state=42, max_iter=5000)\n",
        "\n",
        "# Fit model\n",
        "%timeit clusters = gmm_cluster.fit(pcadf_pca)\n",
        "gmm_y_pred6 = gmm_cluster.predict(pcadf_pca)\n",
        "print()\n",
        "print(\"The silhoutte score of the GMM solution: {}\"\n",
        "      .format(metrics.silhouette_score(pcadf_pca, gmm_y_pred6, metric='euclidean')))\n"
      ],
      "execution_count": null,
      "outputs": []
    },
    {
      "cell_type": "code",
      "metadata": {
        "id": "WBjwIg41m9SQ"
      },
      "source": [
        "sns.scatterplot(pcadf_pca[:,0], pcadf_pca[:,1], hue = gmm_y_pred6)\n",
        "plt.title(\"K = 6\")\n",
        "plt.legend()\n",
        "plt.show()"
      ],
      "execution_count": null,
      "outputs": []
    },
    {
      "cell_type": "code",
      "metadata": {
        "id": "Ae7Nf2Ssm9SQ"
      },
      "source": [
        "one_hot_encoded_data['Cluster'] = pd.Series(gmm_y_pred6, index=one_hot_encoded_data.index)\n",
        "one_hot_encoded_data"
      ],
      "execution_count": null,
      "outputs": []
    },
    {
      "cell_type": "code",
      "metadata": {
        "id": "UvzM1mF4m9SQ"
      },
      "source": [
        "friTrain = one_hot_encoded_data.drop(['DayOfWeekID_1', 'DayOfWeekID_2', 'DayOfWeekID_3', 'DayOfWeekID_4', 'DayOfWeekID_5', 'DayOfWeekID_7'], axis=1)\n",
        "friTrain = friTrain[friTrain['is_Delayed_id']== 1]\n",
        "friTrain = friTrain[friTrain['DayOfWeekID_6']== 1]\n",
        "\n",
        "friTrain"
      ],
      "execution_count": null,
      "outputs": []
    },
    {
      "cell_type": "code",
      "metadata": {
        "id": "uIxaUXWem9SQ"
      },
      "source": [
        "sns.countplot(friTrain['Cluster'])\n"
      ],
      "execution_count": null,
      "outputs": []
    },
    {
      "cell_type": "code",
      "metadata": {
        "id": "7BDa_Pm6m9SQ"
      },
      "source": [
        "rushweek = one_hot_encoded_data.drop(['DayOfWeekID_1', 'DayOfWeekID_7'], axis=1)\n",
        "rushweek = rushweek[rushweek['is_Delayed_id']== 1]\n",
        "rushweek = rushweek[rushweek['rush_hour']== 1]\n",
        "\n",
        "rushweek"
      ],
      "execution_count": null,
      "outputs": []
    },
    {
      "cell_type": "code",
      "metadata": {
        "id": "F8t7x2JHm9SQ"
      },
      "source": [
        "sns.countplot(rushweek['Cluster'])\n"
      ],
      "execution_count": null,
      "outputs": []
    },
    {
      "cell_type": "markdown",
      "metadata": {
        "id": "zQOQME6TmaKi"
      },
      "source": [
        "### K = 7"
      ]
    },
    {
      "cell_type": "code",
      "metadata": {
        "id": "4b7GY847nads"
      },
      "source": [
        "# Defining the Gaussian\n",
        "gmm_cluster = GaussianMixture(n_components=7, random_state=42, max_iter=5000)\n",
        "\n",
        "# Fit model\n",
        "%timeit clusters = gmm_cluster.fit(pcadf_pca)\n",
        "gmm_y_pred7 = gmm_cluster.predict(pcadf_pca)\n",
        "print()\n",
        "print(\"The silhoutte score of the GMM solution: {}\"\n",
        "      .format(metrics.silhouette_score(pcadf_pca, gmm_y_pred7, metric='euclidean')))\n"
      ],
      "execution_count": null,
      "outputs": []
    },
    {
      "cell_type": "code",
      "metadata": {
        "id": "VvcACcEZnadt"
      },
      "source": [
        "sns.scatterplot(pcadf_pca[:,0], pcadf_pca[:,1], hue = gmm_y_pred7)\n",
        "plt.title(\"K = 7\")\n",
        "plt.legend()\n",
        "plt.show()"
      ],
      "execution_count": null,
      "outputs": []
    },
    {
      "cell_type": "code",
      "metadata": {
        "id": "VUA7TafMnadt"
      },
      "source": [
        "one_hot_encoded_data['Cluster'] = pd.Series(gmm_y_pred7, index=one_hot_encoded_data.index)\n",
        "one_hot_encoded_data"
      ],
      "execution_count": null,
      "outputs": []
    },
    {
      "cell_type": "code",
      "metadata": {
        "id": "n5tAm11Dnadt"
      },
      "source": [
        "friTrain = one_hot_encoded_data.drop(['DayOfWeekID_1', 'DayOfWeekID_2', 'DayOfWeekID_3', 'DayOfWeekID_4', 'DayOfWeekID_5', 'DayOfWeekID_7'], axis=1)\n",
        "friTrain = friTrain[friTrain['is_Delayed_id']== 1]\n",
        "friTrain = friTrain[friTrain['DayOfWeekID_6']== 1]\n",
        "\n",
        "friTrain"
      ],
      "execution_count": null,
      "outputs": []
    },
    {
      "cell_type": "code",
      "metadata": {
        "id": "xhDoPnTfnadt"
      },
      "source": [
        "sns.countplot(friTrain['Cluster'])\n"
      ],
      "execution_count": null,
      "outputs": []
    },
    {
      "cell_type": "code",
      "metadata": {
        "id": "yHUA7NzZnadt"
      },
      "source": [
        "rushweek = one_hot_encoded_data.drop(['DayOfWeekID_1', 'DayOfWeekID_7'], axis=1)\n",
        "rushweek = rushweek[rushweek['is_Delayed_id']== 1]\n",
        "rushweek = rushweek[rushweek['rush_hour']== 1]\n",
        "\n",
        "rushweek"
      ],
      "execution_count": null,
      "outputs": []
    },
    {
      "cell_type": "code",
      "metadata": {
        "id": "aKpyhfNlnadu"
      },
      "source": [
        "sns.countplot(rushweek['Cluster'])\n"
      ],
      "execution_count": null,
      "outputs": []
    },
    {
      "cell_type": "markdown",
      "metadata": {
        "id": "DklAwc_unrk9"
      },
      "source": [
        "### Conclusion"
      ]
    }
  ]
}